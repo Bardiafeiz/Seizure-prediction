{
 "cells": [
  {
   "cell_type": "code",
   "execution_count": 7,
   "metadata": {},
   "outputs": [],
   "source": [
    "import mne\n",
    "import numpy as np\n",
    "from pandas import DataFrame\n",
    "import pandas as pd\n",
    "import matplotlib.pyplot as plt\n",
    "import pickle"
   ]
  },
  {
   "cell_type": "markdown",
   "metadata": {},
   "source": [
    "# Preictal length : 60 min , Interictal distance : 240 min"
   ]
  },
  {
   "cell_type": "code",
   "execution_count": 13,
   "metadata": {},
   "outputs": [],
   "source": [
    "# Total length is 300min \n",
    "total_length = 300*60\n",
    "channels = [\"FP1-F7\", \"F7-T7\", \"T7-P7\", \"P7-O1\", \"FP1-F3\", \"F3-C3\", \n",
    "            \"C3-P3\", \"P3-O1\", \"FP2-F4\", \"F4-C4\", \"C4-P4\", \"P4-O2\", \n",
    "            \"FP2-F8\", \"F8-T8\", \"P8-O2\", \"FZ-CZ\", \"CZ-PZ\"]"
   ]
  },
  {
   "cell_type": "markdown",
   "metadata": {},
   "source": [
    "### Pt.1"
   ]
  },
  {
   "cell_type": "code",
   "execution_count": 14,
   "metadata": {},
   "outputs": [
    {
     "name": "stdout",
     "output_type": "stream",
     "text": [
      "Extracting EDF parameters from /home/npe/Documents/Seizure Prediction/chb-mit-scalp-eeg-database-1.0.0/chb01/chb01_01.edf...\n",
      "EDF file detected\n",
      "Setting channel info structure...\n",
      "Creating raw.info structure...\n",
      "Extracting EDF parameters from /home/npe/Documents/Seizure Prediction/chb-mit-scalp-eeg-database-1.0.0/chb01/chb01_02.edf...\n",
      "EDF file detected\n",
      "Setting channel info structure...\n",
      "Creating raw.info structure...\n",
      "Extracting EDF parameters from /home/npe/Documents/Seizure Prediction/chb-mit-scalp-eeg-database-1.0.0/chb01/chb01_03.edf...\n",
      "EDF file detected\n",
      "Setting channel info structure...\n",
      "Creating raw.info structure...\n"
     ]
    },
    {
     "name": "stderr",
     "output_type": "stream",
     "text": [
      "<ipython-input-14-abef5cb8eb35>:5: RuntimeWarning: Channel names are not unique, found duplicates for: {'T8-P8'}. Applying running numbers for duplicates.\n",
      "  chb01_01_raw = mne.io.read_raw_edf(path1)\n",
      "<ipython-input-14-abef5cb8eb35>:6: RuntimeWarning: Channel names are not unique, found duplicates for: {'T8-P8'}. Applying running numbers for duplicates.\n",
      "  chb01_02_raw = mne.io.read_raw_edf(path2)\n",
      "<ipython-input-14-abef5cb8eb35>:7: RuntimeWarning: Channel names are not unique, found duplicates for: {'T8-P8'}. Applying running numbers for duplicates.\n",
      "  chb01_03_raw = mne.io.read_raw_edf(path3)\n"
     ]
    }
   ],
   "source": [
    "# Seizure 1\n",
    "\n",
    "path1 = \"chb-mit-scalp-eeg-database-1.0.0/chb01/chb01_01.edf\"\n",
    "path2 = \"chb-mit-scalp-eeg-database-1.0.0/chb01/chb01_02.edf\"\n",
    "path3 = \"chb-mit-scalp-eeg-database-1.0.0/chb01/chb01_03.edf\"\n",
    "\n",
    "chb01_01_raw = mne.io.read_raw_edf(path1)\n",
    "chb01_02_raw = mne.io.read_raw_edf(path2)\n",
    "chb01_03_raw = mne.io.read_raw_edf(path3)"
   ]
  },
  {
   "cell_type": "code",
   "execution_count": 15,
   "metadata": {},
   "outputs": [
    {
     "name": "stdout",
     "output_type": "stream",
     "text": [
      "Extracting EDF parameters from /home/npe/Documents/Seizure Prediction/chb-mit-scalp-eeg-database-1.0.0/chb01/chb01_01.edf...\n",
      "EDF file detected\n",
      "Setting channel info structure...\n",
      "Creating raw.info structure...\n"
     ]
    },
    {
     "name": "stderr",
     "output_type": "stream",
     "text": [
      "<ipython-input-15-d26fb55f9d0a>:4: RuntimeWarning: Channel names are not unique, found duplicates for: {'T8-P8'}. Applying running numbers for duplicates.\n",
      "  chb01_01_raw = mne.io.read_raw_edf(path1)\n"
     ]
    },
    {
     "data": {
      "text/plain": [
       "10800"
      ]
     },
     "execution_count": 15,
     "metadata": {},
     "output_type": "execute_result"
    }
   ],
   "source": [
    "# Concatenate all the loaded epochs for this seizure\n",
    "\n",
    "all_raws = mne.concatenate_raws([chb01_01_raw, chb01_02_raw, chb01_03_raw],)\n",
    "chb01_01_raw = mne.io.read_raw_edf(path1)\n",
    "total_dur = int(all_raws.n_times/256)\n",
    "total_dur"
   ]
  },
  {
   "cell_type": "markdown",
   "metadata": {},
   "source": [
    "- Preictal"
   ]
  },
  {
   "cell_type": "code",
   "execution_count": 20,
   "metadata": {},
   "outputs": [
    {
     "name": "stdout",
     "output_type": "stream",
     "text": [
      "Effective window size : 1.000 (s)\n"
     ]
    }
   ],
   "source": [
    "# Seizure starts at 2996s in chb01_03 epoch\n",
    "\n",
    "seizure_onset = (total_dur - int(chb01_03_raw.n_times/256)) + 2996\n",
    "preictal_duration = 3600\n",
    "preictal_beginning = seizure_onset - preictal_duration\n",
    "\n",
    "preictal_section = all_raws.copy().crop(tmin=preictal_beginning, tmax=seizure_onset, include_tmax=False)\n",
    "preictal_psd = mne.time_frequency.psd_welch(inst=preictal_section, picks=channels)\n",
    "\n",
    "with open(\"Data/pt.1-pre-01.txt\", \"wb\") as file:\n",
    "    pickle.dump(preictal_psd, file)"
   ]
  },
  {
   "cell_type": "markdown",
   "metadata": {},
   "source": [
    "- Interictal"
   ]
  },
  {
   "cell_type": "code",
   "execution_count": null,
   "metadata": {},
   "outputs": [],
   "source": [
    "interictal_distance = 240 * 60\n",
    "interictal_beginning = seizure_onset - total_length\n",
    "interictal_ending = seizure_onset - interictal_distance\n",
    "\n",
    "interictal_section = all_raws.copy().crop(tmin=interictal_beginning, tmax=interictal_ending, include_tmax=False)\n",
    "interictal_psd = mne.time_frequency.psd_welch(inst=interictal_section, picks=channels)\n",
    "\n",
    "with open(\"Data/pt.1-inter-01.txt\", \"wb\") as file:\n",
    "    pickle.dump(preictal_psd, file)"
   ]
  },
  {
   "cell_type": "code",
   "execution_count": null,
   "metadata": {},
   "outputs": [],
   "source": []
  },
  {
   "cell_type": "code",
   "execution_count": 18,
   "metadata": {},
   "outputs": [
    {
     "name": "stdout",
     "output_type": "stream",
     "text": [
      "Extracting EDF parameters from /home/npe/Documents/Seizure Prediction/chb-mit-scalp-eeg-database-1.0.0/chb01/chb01_10.edf...\n",
      "EDF file detected\n",
      "Setting channel info structure...\n",
      "Creating raw.info structure...\n",
      "Extracting EDF parameters from /home/npe/Documents/Seizure Prediction/chb-mit-scalp-eeg-database-1.0.0/chb01/chb01_11.edf...\n",
      "EDF file detected\n",
      "Setting channel info structure...\n",
      "Creating raw.info structure...\n",
      "Extracting EDF parameters from /home/npe/Documents/Seizure Prediction/chb-mit-scalp-eeg-database-1.0.0/chb01/chb01_12.edf...\n",
      "EDF file detected\n",
      "Setting channel info structure...\n",
      "Creating raw.info structure...\n",
      "Extracting EDF parameters from /home/npe/Documents/Seizure Prediction/chb-mit-scalp-eeg-database-1.0.0/chb01/chb01_13.edf...\n",
      "EDF file detected\n",
      "Setting channel info structure...\n",
      "Creating raw.info structure...\n",
      "Extracting EDF parameters from /home/npe/Documents/Seizure Prediction/chb-mit-scalp-eeg-database-1.0.0/chb01/chb01_14.edf...\n",
      "EDF file detected\n",
      "Setting channel info structure...\n",
      "Creating raw.info structure...\n",
      "Extracting EDF parameters from /home/npe/Documents/Seizure Prediction/chb-mit-scalp-eeg-database-1.0.0/chb01/chb01_15.edf...\n",
      "EDF file detected\n",
      "Setting channel info structure...\n",
      "Creating raw.info structure...\n"
     ]
    },
    {
     "name": "stderr",
     "output_type": "stream",
     "text": [
      "<ipython-input-18-9dfe1e4f8a1d>:10: RuntimeWarning: Channel names are not unique, found duplicates for: {'T8-P8'}. Applying running numbers for duplicates.\n",
      "  chb01_10_raw = mne.io.read_raw_edf(path4)\n",
      "<ipython-input-18-9dfe1e4f8a1d>:11: RuntimeWarning: Channel names are not unique, found duplicates for: {'T8-P8'}. Applying running numbers for duplicates.\n",
      "  chb01_11_raw = mne.io.read_raw_edf(path5)\n",
      "<ipython-input-18-9dfe1e4f8a1d>:12: RuntimeWarning: Channel names are not unique, found duplicates for: {'T8-P8'}. Applying running numbers for duplicates.\n",
      "  chb01_12_raw = mne.io.read_raw_edf(path6)\n",
      "<ipython-input-18-9dfe1e4f8a1d>:13: RuntimeWarning: Channel names are not unique, found duplicates for: {'T8-P8'}. Applying running numbers for duplicates.\n",
      "  chb01_13_raw = mne.io.read_raw_edf(path7)\n",
      "<ipython-input-18-9dfe1e4f8a1d>:14: RuntimeWarning: Channel names are not unique, found duplicates for: {'T8-P8'}. Applying running numbers for duplicates.\n",
      "  chb01_14_raw = mne.io.read_raw_edf(path8)\n",
      "<ipython-input-18-9dfe1e4f8a1d>:15: RuntimeWarning: Channel names are not unique, found duplicates for: {'T8-P8'}. Applying running numbers for duplicates.\n",
      "  chb01_15_raw = mne.io.read_raw_edf(path9)\n"
     ]
    }
   ],
   "source": [
    "# Seizure 2\n",
    "\n",
    "path4 = \"chb-mit-scalp-eeg-database-1.0.0/chb01/chb01_10.edf\"\n",
    "path5 = \"chb-mit-scalp-eeg-database-1.0.0/chb01/chb01_11.edf\"\n",
    "path6 = \"chb-mit-scalp-eeg-database-1.0.0/chb01/chb01_12.edf\"\n",
    "path7 = \"chb-mit-scalp-eeg-database-1.0.0/chb01/chb01_13.edf\"\n",
    "path8 = \"chb-mit-scalp-eeg-database-1.0.0/chb01/chb01_14.edf\"\n",
    "path9 = \"chb-mit-scalp-eeg-database-1.0.0/chb01/chb01_15.edf\"\n",
    "\n",
    "chb01_10_raw = mne.io.read_raw_edf(path4)\n",
    "chb01_11_raw = mne.io.read_raw_edf(path5)\n",
    "chb01_12_raw = mne.io.read_raw_edf(path6)\n",
    "chb01_13_raw = mne.io.read_raw_edf(path7)\n",
    "chb01_14_raw = mne.io.read_raw_edf(path8)\n",
    "chb01_15_raw = mne.io.read_raw_edf(path9)"
   ]
  },
  {
   "cell_type": "code",
   "execution_count": 19,
   "metadata": {},
   "outputs": [
    {
     "name": "stdout",
     "output_type": "stream",
     "text": [
      "Extracting EDF parameters from /home/npe/Documents/Seizure Prediction/chb-mit-scalp-eeg-database-1.0.0/chb01/chb01_10.edf...\n",
      "EDF file detected\n",
      "Setting channel info structure...\n",
      "Creating raw.info structure...\n"
     ]
    },
    {
     "name": "stderr",
     "output_type": "stream",
     "text": [
      "<ipython-input-19-1ddcbd12781c>:4: RuntimeWarning: Channel names are not unique, found duplicates for: {'T8-P8'}. Applying running numbers for duplicates.\n",
      "  chb01_10_raw = mne.io.read_raw_edf(path4)\n"
     ]
    },
    {
     "data": {
      "text/plain": [
       "21600"
      ]
     },
     "execution_count": 19,
     "metadata": {},
     "output_type": "execute_result"
    }
   ],
   "source": [
    "# Concatenate all the loaded epochs for this seizure\n",
    "\n",
    "all_raws = mne.concatenate_raws([chb01_10_raw, chb01_11_raw, chb01_12_raw, chb01_13_raw, chb01_14_raw, chb01_15_raw],)\n",
    "chb01_10_raw = mne.io.read_raw_edf(path4)\n",
    "total_dur = int(all_raws.n_times/256)\n",
    "total_dur"
   ]
  },
  {
   "cell_type": "markdown",
   "metadata": {},
   "source": [
    "- Preictal"
   ]
  },
  {
   "cell_type": "code",
   "execution_count": 5,
   "metadata": {},
   "outputs": [],
   "source": [
    "# Seizure starts at 1732s in chb01_15 epoch\n",
    "\n",
    "seizure_onset = (total_dur - int(chb01_15_raw.n_times/256)) + 1732\n",
    "preictal_duration = 3600\n",
    "preictal_beginning = seizure_onset - preictal_duration\n",
    "\n",
    "preictal_sections.append(all_raws.copy().crop(tmin=preictal_beginning, tmax=seizure_onset, include_tmax=False))\n",
    "\n",
    "# preictal_section_0_df = preictal_section_0.to_data_frame()\n",
    "\n",
    "# # Deleting last 5 unneeded channels\n",
    "# try:\n",
    "#     preictal_section_0_df = preictal_section_0_df.drop(columns=['P7-T7', 'T7-FT9', 'FT9-FT10', 'FT10-T8', 'T8-P8-1'])\n",
    "# except:\n",
    "#     print('There is no such channel in this epoch')"
   ]
  },
  {
   "cell_type": "markdown",
   "metadata": {},
   "source": [
    "- Interictal"
   ]
  },
  {
   "cell_type": "code",
   "execution_count": 6,
   "metadata": {},
   "outputs": [],
   "source": [
    "interictal_distance = 14400\n",
    "interictal_beginning = seizure_onset - total_length\n",
    "interictal_ending = seizure_onset - interictal_distance\n",
    "\n",
    "interictal_sections.append(all_raws.copy().crop(tmin=interictal_beginning, tmax=interictal_ending, include_tmax=False))"
   ]
  },
  {
   "cell_type": "markdown",
   "metadata": {},
   "source": [
    "### Pt.2"
   ]
  },
  {
   "cell_type": "code",
   "execution_count": 7,
   "metadata": {},
   "outputs": [
    {
     "name": "stdout",
     "output_type": "stream",
     "text": [
      "Extracting EDF parameters from /home/npe/Documents/chb-mit-scalp-eeg-database-1.0.0/chb02/chb02_11.edf...\n",
      "EDF file detected\n",
      "Setting channel info structure...\n",
      "Creating raw.info structure...\n",
      "Extracting EDF parameters from /home/npe/Documents/chb-mit-scalp-eeg-database-1.0.0/chb02/chb02_12.edf...\n",
      "EDF file detected\n",
      "Setting channel info structure...\n",
      "Creating raw.info structure...\n",
      "Extracting EDF parameters from /home/npe/Documents/chb-mit-scalp-eeg-database-1.0.0/chb02/chb02_13.edf...\n",
      "EDF file detected\n",
      "Setting channel info structure...\n",
      "Creating raw.info structure...\n",
      "Extracting EDF parameters from /home/npe/Documents/chb-mit-scalp-eeg-database-1.0.0/chb02/chb02_14.edf...\n",
      "EDF file detected\n",
      "Setting channel info structure...\n",
      "Creating raw.info structure...\n",
      "Extracting EDF parameters from /home/npe/Documents/chb-mit-scalp-eeg-database-1.0.0/chb02/chb02_15.edf...\n",
      "EDF file detected\n",
      "Setting channel info structure...\n",
      "Creating raw.info structure...\n"
     ]
    },
    {
     "name": "stderr",
     "output_type": "stream",
     "text": [
      "<ipython-input-7-c8bb0a92c48a>:8: RuntimeWarning: Channel names are not unique, found duplicates for: {'T8-P8'}. Applying running numbers for duplicates.\n",
      "  chb02_11_raw = mne.io.read_raw_edf(path1)\n",
      "<ipython-input-7-c8bb0a92c48a>:9: RuntimeWarning: Channel names are not unique, found duplicates for: {'T8-P8'}. Applying running numbers for duplicates.\n",
      "  chb02_12_raw = mne.io.read_raw_edf(path2)\n",
      "<ipython-input-7-c8bb0a92c48a>:10: RuntimeWarning: Channel names are not unique, found duplicates for: {'T8-P8'}. Applying running numbers for duplicates.\n",
      "  chb02_13_raw = mne.io.read_raw_edf(path3)\n",
      "<ipython-input-7-c8bb0a92c48a>:11: RuntimeWarning: Channel names are not unique, found duplicates for: {'T8-P8'}. Applying running numbers for duplicates.\n",
      "  chb02_14_raw = mne.io.read_raw_edf(path4)\n",
      "<ipython-input-7-c8bb0a92c48a>:12: RuntimeWarning: Channel names are not unique, found duplicates for: {'T8-P8'}. Applying running numbers for duplicates.\n",
      "  chb02_15_raw = mne.io.read_raw_edf(path5)\n"
     ]
    },
    {
     "name": "stdout",
     "output_type": "stream",
     "text": [
      "Extracting EDF parameters from /home/npe/Documents/chb-mit-scalp-eeg-database-1.0.0/chb02/chb02_16.edf...\n",
      "EDF file detected\n",
      "Setting channel info structure...\n",
      "Creating raw.info structure...\n"
     ]
    },
    {
     "name": "stderr",
     "output_type": "stream",
     "text": [
      "<ipython-input-7-c8bb0a92c48a>:13: RuntimeWarning: Channel names are not unique, found duplicates for: {'T8-P8'}. Applying running numbers for duplicates.\n",
      "  chb02_16_raw = mne.io.read_raw_edf(path6)\n"
     ]
    }
   ],
   "source": [
    "path1 = \"/home/npe/Documents/chb-mit-scalp-eeg-database-1.0.0/chb02/chb02_11.edf\"\n",
    "path2 = \"/home/npe/Documents/chb-mit-scalp-eeg-database-1.0.0/chb02/chb02_12.edf\"\n",
    "path3 = \"/home/npe/Documents/chb-mit-scalp-eeg-database-1.0.0/chb02/chb02_13.edf\"\n",
    "path4 = \"/home/npe/Documents/chb-mit-scalp-eeg-database-1.0.0/chb02/chb02_14.edf\"\n",
    "path5 = \"/home/npe/Documents/chb-mit-scalp-eeg-database-1.0.0/chb02/chb02_15.edf\"\n",
    "path6 = \"/home/npe/Documents/chb-mit-scalp-eeg-database-1.0.0/chb02/chb02_16.edf\"\n",
    "\n",
    "chb02_11_raw = mne.io.read_raw_edf(path1)\n",
    "chb02_12_raw = mne.io.read_raw_edf(path2)\n",
    "chb02_13_raw = mne.io.read_raw_edf(path3)\n",
    "chb02_14_raw = mne.io.read_raw_edf(path4)\n",
    "chb02_15_raw = mne.io.read_raw_edf(path5)\n",
    "chb02_16_raw = mne.io.read_raw_edf(path6)"
   ]
  },
  {
   "cell_type": "code",
   "execution_count": 8,
   "metadata": {},
   "outputs": [
    {
     "name": "stdout",
     "output_type": "stream",
     "text": [
      "Extracting EDF parameters from /home/npe/Documents/chb-mit-scalp-eeg-database-1.0.0/chb02/chb02_11.edf...\n",
      "EDF file detected\n",
      "Setting channel info structure...\n",
      "Creating raw.info structure...\n"
     ]
    },
    {
     "name": "stderr",
     "output_type": "stream",
     "text": [
      "<ipython-input-8-a6c9a94be739>:4: RuntimeWarning: Channel names are not unique, found duplicates for: {'T8-P8'}. Applying running numbers for duplicates.\n",
      "  chb02_11_raw = mne.io.read_raw_edf(path1)\n"
     ]
    },
    {
     "data": {
      "text/plain": [
       "18959"
      ]
     },
     "execution_count": 8,
     "metadata": {},
     "output_type": "execute_result"
    }
   ],
   "source": [
    "# Concatenate all the loaded epochs for this seizure\n",
    "\n",
    "all_raws = mne.concatenate_raws([chb02_11_raw, chb02_12_raw, chb02_13_raw, chb02_14_raw, chb02_15_raw, chb02_16_raw],)\n",
    "chb02_11_raw = mne.io.read_raw_edf(path1)\n",
    "total_dur = int(all_raws.n_times/256)\n",
    "total_dur"
   ]
  },
  {
   "cell_type": "markdown",
   "metadata": {},
   "source": [
    "- Preictal"
   ]
  },
  {
   "cell_type": "code",
   "execution_count": 9,
   "metadata": {},
   "outputs": [],
   "source": [
    "# Seizure starts at 130s in chb02_16 epoch\n",
    "\n",
    "seizure_onset = (total_dur - int(chb02_16_raw.n_times/256)) + 130\n",
    "preictal_duration = 3600\n",
    "preictal_beginning = seizure_onset - preictal_duration\n",
    "\n",
    "preictal_sections.append(all_raws.copy().crop(tmin=preictal_beginning, tmax=seizure_onset, include_tmax=False))"
   ]
  },
  {
   "cell_type": "markdown",
   "metadata": {},
   "source": [
    "- Interictal"
   ]
  },
  {
   "cell_type": "code",
   "execution_count": 10,
   "metadata": {},
   "outputs": [],
   "source": [
    "interictal_distance = 14400\n",
    "interictal_beginning = seizure_onset - total_length\n",
    "interictal_ending = seizure_onset - interictal_distance\n",
    "\n",
    "interictal_sections.append(all_raws.copy().crop(tmin=interictal_beginning, tmax=interictal_ending, include_tmax=False))"
   ]
  },
  {
   "cell_type": "markdown",
   "metadata": {},
   "source": [
    "### Pt.3"
   ]
  },
  {
   "cell_type": "code",
   "execution_count": 11,
   "metadata": {},
   "outputs": [
    {
     "name": "stdout",
     "output_type": "stream",
     "text": [
      "Extracting EDF parameters from /home/npe/Documents/chb-mit-scalp-eeg-database-1.0.0/chb03/chb03_29.edf...\n",
      "EDF file detected\n",
      "Setting channel info structure...\n",
      "Creating raw.info structure...\n",
      "Extracting EDF parameters from /home/npe/Documents/chb-mit-scalp-eeg-database-1.0.0/chb03/chb03_30.edf...\n",
      "EDF file detected\n",
      "Setting channel info structure...\n",
      "Creating raw.info structure...\n",
      "Extracting EDF parameters from /home/npe/Documents/chb-mit-scalp-eeg-database-1.0.0/chb03/chb03_31.edf...\n",
      "EDF file detected\n",
      "Setting channel info structure...\n",
      "Creating raw.info structure...\n",
      "Extracting EDF parameters from /home/npe/Documents/chb-mit-scalp-eeg-database-1.0.0/chb03/chb03_32.edf...\n",
      "EDF file detected\n"
     ]
    },
    {
     "name": "stderr",
     "output_type": "stream",
     "text": [
      "<ipython-input-11-dee6acc5a440>:8: RuntimeWarning: Channel names are not unique, found duplicates for: {'T8-P8'}. Applying running numbers for duplicates.\n",
      "  chb03_29_raw = mne.io.read_raw_edf(path1)\n",
      "<ipython-input-11-dee6acc5a440>:9: RuntimeWarning: Channel names are not unique, found duplicates for: {'T8-P8'}. Applying running numbers for duplicates.\n",
      "  chb03_30_raw = mne.io.read_raw_edf(path2)\n",
      "<ipython-input-11-dee6acc5a440>:10: RuntimeWarning: Channel names are not unique, found duplicates for: {'T8-P8'}. Applying running numbers for duplicates.\n",
      "  chb03_31_raw = mne.io.read_raw_edf(path3)\n"
     ]
    },
    {
     "name": "stdout",
     "output_type": "stream",
     "text": [
      "Setting channel info structure...\n",
      "Creating raw.info structure...\n",
      "Extracting EDF parameters from /home/npe/Documents/chb-mit-scalp-eeg-database-1.0.0/chb03/chb03_33.edf...\n",
      "EDF file detected\n",
      "Setting channel info structure...\n",
      "Creating raw.info structure...\n",
      "Extracting EDF parameters from /home/npe/Documents/chb-mit-scalp-eeg-database-1.0.0/chb03/chb03_34.edf...\n",
      "EDF file detected\n",
      "Setting channel info structure...\n",
      "Creating raw.info structure...\n"
     ]
    },
    {
     "name": "stderr",
     "output_type": "stream",
     "text": [
      "<ipython-input-11-dee6acc5a440>:11: RuntimeWarning: Channel names are not unique, found duplicates for: {'T8-P8'}. Applying running numbers for duplicates.\n",
      "  chb03_32_raw = mne.io.read_raw_edf(path4)\n",
      "<ipython-input-11-dee6acc5a440>:12: RuntimeWarning: Channel names are not unique, found duplicates for: {'T8-P8'}. Applying running numbers for duplicates.\n",
      "  chb03_33_raw = mne.io.read_raw_edf(path5)\n",
      "<ipython-input-11-dee6acc5a440>:13: RuntimeWarning: Channel names are not unique, found duplicates for: {'T8-P8'}. Applying running numbers for duplicates.\n",
      "  chb03_34_raw = mne.io.read_raw_edf(path6)\n"
     ]
    }
   ],
   "source": [
    "path1 = \"/home/npe/Documents/chb-mit-scalp-eeg-database-1.0.0/chb03/chb03_29.edf\"\n",
    "path2 = \"/home/npe/Documents/chb-mit-scalp-eeg-database-1.0.0/chb03/chb03_30.edf\"\n",
    "path3 = \"/home/npe/Documents/chb-mit-scalp-eeg-database-1.0.0/chb03/chb03_31.edf\"\n",
    "path4 = \"/home/npe/Documents/chb-mit-scalp-eeg-database-1.0.0/chb03/chb03_32.edf\"\n",
    "path5 = \"/home/npe/Documents/chb-mit-scalp-eeg-database-1.0.0/chb03/chb03_33.edf\"\n",
    "path6 = \"/home/npe/Documents/chb-mit-scalp-eeg-database-1.0.0/chb03/chb03_34.edf\"\n",
    "\n",
    "chb03_29_raw = mne.io.read_raw_edf(path1)\n",
    "chb03_30_raw = mne.io.read_raw_edf(path2)\n",
    "chb03_31_raw = mne.io.read_raw_edf(path3)\n",
    "chb03_32_raw = mne.io.read_raw_edf(path4)\n",
    "chb03_33_raw = mne.io.read_raw_edf(path5)\n",
    "chb03_34_raw = mne.io.read_raw_edf(path6)"
   ]
  },
  {
   "cell_type": "code",
   "execution_count": 12,
   "metadata": {},
   "outputs": [
    {
     "name": "stdout",
     "output_type": "stream",
     "text": [
      "Extracting EDF parameters from /home/npe/Documents/chb-mit-scalp-eeg-database-1.0.0/chb03/chb03_29.edf...\n",
      "EDF file detected\n",
      "Setting channel info structure...\n",
      "Creating raw.info structure...\n"
     ]
    },
    {
     "name": "stderr",
     "output_type": "stream",
     "text": [
      "<ipython-input-12-71ba0dabe21a>:4: RuntimeWarning: Channel names are not unique, found duplicates for: {'T8-P8'}. Applying running numbers for duplicates.\n",
      "  chb03_29_raw = mne.io.read_raw_edf(path1)\n"
     ]
    },
    {
     "data": {
      "text/plain": [
       "21600"
      ]
     },
     "execution_count": 12,
     "metadata": {},
     "output_type": "execute_result"
    }
   ],
   "source": [
    "# Concatenate all the loaded epochs for this seizure\n",
    "\n",
    "all_raws = mne.concatenate_raws([chb03_29_raw, chb03_30_raw, chb03_31_raw, chb03_32_raw, chb03_33_raw, chb03_34_raw],)\n",
    "chb03_29_raw = mne.io.read_raw_edf(path1)\n",
    "total_dur = int(all_raws.n_times/256)\n",
    "total_dur"
   ]
  },
  {
   "cell_type": "markdown",
   "metadata": {},
   "source": [
    "- Preictal"
   ]
  },
  {
   "cell_type": "code",
   "execution_count": 13,
   "metadata": {},
   "outputs": [],
   "source": [
    "# Seizure starts at 1982s in chb03_34 epoch\n",
    "\n",
    "seizure_onset = (total_dur - int(chb03_34_raw.n_times/256)) + 1982\n",
    "preictal_duration = 3600\n",
    "preictal_beginning = seizure_onset - preictal_duration\n",
    "\n",
    "preictal_sections.append(all_raws.copy().crop(tmin=preictal_beginning, tmax=seizure_onset, include_tmax=False))"
   ]
  },
  {
   "cell_type": "markdown",
   "metadata": {},
   "source": [
    "- Interictal"
   ]
  },
  {
   "cell_type": "code",
   "execution_count": 14,
   "metadata": {},
   "outputs": [],
   "source": [
    "interictal_distance = 14400\n",
    "interictal_beginning = seizure_onset - total_length\n",
    "interictal_ending = seizure_onset - interictal_distance\n",
    "\n",
    "interictal_sections.append(all_raws.copy().crop(tmin=interictal_beginning, tmax=interictal_ending, include_tmax=False))"
   ]
  },
  {
   "cell_type": "markdown",
   "metadata": {},
   "source": [
    "### Pt.4"
   ]
  },
  {
   "cell_type": "code",
   "execution_count": 15,
   "metadata": {},
   "outputs": [
    {
     "name": "stdout",
     "output_type": "stream",
     "text": [
      "Extracting EDF parameters from /home/npe/Documents/chb-mit-scalp-eeg-database-1.0.0/chb04/chb04_04.edf...\n",
      "EDF file detected\n",
      "Setting channel info structure...\n",
      "Creating raw.info structure...\n",
      "Extracting EDF parameters from /home/npe/Documents/chb-mit-scalp-eeg-database-1.0.0/chb04/chb04_05.edf...\n",
      "EDF file detected\n",
      "Setting channel info structure...\n",
      "Creating raw.info structure...\n"
     ]
    },
    {
     "name": "stderr",
     "output_type": "stream",
     "text": [
      "<ipython-input-15-267f1e2b5d7e>:4: RuntimeWarning: Channel names are not unique, found duplicates for: {'T8-P8'}. Applying running numbers for duplicates.\n",
      "  chb04_04_raw = mne.io.read_raw_edf(path1)\n",
      "<ipython-input-15-267f1e2b5d7e>:5: RuntimeWarning: Channel names are not unique, found duplicates for: {'T8-P8'}. Applying running numbers for duplicates.\n",
      "  chb04_05_raw = mne.io.read_raw_edf(path2)\n"
     ]
    }
   ],
   "source": [
    "path1 = \"/home/npe/Documents/chb-mit-scalp-eeg-database-1.0.0/chb04/chb04_04.edf\"\n",
    "path2 = \"/home/npe/Documents/chb-mit-scalp-eeg-database-1.0.0/chb04/chb04_05.edf\"\n",
    "\n",
    "chb04_04_raw = mne.io.read_raw_edf(path1)\n",
    "chb04_05_raw = mne.io.read_raw_edf(path2)"
   ]
  },
  {
   "cell_type": "code",
   "execution_count": 16,
   "metadata": {},
   "outputs": [
    {
     "name": "stdout",
     "output_type": "stream",
     "text": [
      "Extracting EDF parameters from /home/npe/Documents/chb-mit-scalp-eeg-database-1.0.0/chb04/chb04_04.edf...\n",
      "EDF file detected\n",
      "Setting channel info structure...\n",
      "Creating raw.info structure...\n"
     ]
    },
    {
     "name": "stderr",
     "output_type": "stream",
     "text": [
      "<ipython-input-16-35d39106532f>:4: RuntimeWarning: Channel names are not unique, found duplicates for: {'T8-P8'}. Applying running numbers for duplicates.\n",
      "  chb04_04_raw = mne.io.read_raw_edf(path1)\n"
     ]
    },
    {
     "data": {
      "text/plain": [
       "23936"
      ]
     },
     "execution_count": 16,
     "metadata": {},
     "output_type": "execute_result"
    }
   ],
   "source": [
    "# Concatenate all the loaded epochs for this seizure\n",
    "\n",
    "all_raws = mne.concatenate_raws([chb04_04_raw, chb04_05_raw],)\n",
    "chb04_04_raw = mne.io.read_raw_edf(path1)\n",
    "total_dur = int(all_raws.n_times/256)\n",
    "total_dur"
   ]
  },
  {
   "cell_type": "markdown",
   "metadata": {},
   "source": [
    "- Preictal"
   ]
  },
  {
   "cell_type": "code",
   "execution_count": 17,
   "metadata": {},
   "outputs": [],
   "source": [
    "# Seizure starts at 7804s in chb04_05 epoch\n",
    "\n",
    "seizure_onset = (total_dur - int(chb04_05_raw.n_times/256)) + 7804\n",
    "preictal_duration = 3600\n",
    "preictal_beginning = seizure_onset - preictal_duration\n",
    "\n",
    "preictal_sections.append(all_raws.copy().crop(tmin=preictal_beginning, tmax=seizure_onset, include_tmax=False))"
   ]
  },
  {
   "cell_type": "markdown",
   "metadata": {},
   "source": [
    "- Interictal"
   ]
  },
  {
   "cell_type": "code",
   "execution_count": 18,
   "metadata": {},
   "outputs": [],
   "source": [
    "interictal_distance = 14400\n",
    "interictal_beginning = seizure_onset - total_length\n",
    "interictal_ending = seizure_onset - interictal_distance\n",
    "\n",
    "interictal_sections.append(all_raws.copy().crop(tmin=interictal_beginning, tmax=interictal_ending, include_tmax=False))"
   ]
  },
  {
   "cell_type": "markdown",
   "metadata": {},
   "source": [
    "### Pt.5"
   ]
  },
  {
   "cell_type": "code",
   "execution_count": 19,
   "metadata": {},
   "outputs": [
    {
     "name": "stdout",
     "output_type": "stream",
     "text": [
      "Extracting EDF parameters from /home/npe/Documents/chb-mit-scalp-eeg-database-1.0.0/chb05/chb05_01.edf...\n",
      "EDF file detected\n",
      "Setting channel info structure...\n",
      "Creating raw.info structure...\n",
      "Extracting EDF parameters from /home/npe/Documents/chb-mit-scalp-eeg-database-1.0.0/chb05/chb05_02.edf...\n",
      "EDF file detected\n",
      "Setting channel info structure...\n",
      "Creating raw.info structure...\n",
      "Extracting EDF parameters from /home/npe/Documents/chb-mit-scalp-eeg-database-1.0.0/chb05/chb05_03.edf...\n",
      "EDF file detected\n",
      "Setting channel info structure...\n",
      "Creating raw.info structure...\n",
      "Extracting EDF parameters from /home/npe/Documents/chb-mit-scalp-eeg-database-1.0.0/chb05/chb05_04.edf...\n",
      "EDF file detected\n",
      "Setting channel info structure...\n",
      "Creating raw.info structure...\n",
      "Extracting EDF parameters from /home/npe/Documents/chb-mit-scalp-eeg-database-1.0.0/chb05/chb05_05.edf...\n",
      "EDF file detected\n",
      "Setting channel info structure...\n",
      "Creating raw.info structure...\n",
      "Extracting EDF parameters from /home/npe/Documents/chb-mit-scalp-eeg-database-1.0.0/chb05/chb05_06.edf...\n",
      "EDF file detected\n"
     ]
    },
    {
     "name": "stderr",
     "output_type": "stream",
     "text": [
      "<ipython-input-19-7c193bdaae82>:16: RuntimeWarning: Channel names are not unique, found duplicates for: {'T8-P8'}. Applying running numbers for duplicates.\n",
      "  chb05_01_raw = mne.io.read_raw_edf(path1)\n",
      "<ipython-input-19-7c193bdaae82>:17: RuntimeWarning: Channel names are not unique, found duplicates for: {'T8-P8'}. Applying running numbers for duplicates.\n",
      "  chb05_02_raw = mne.io.read_raw_edf(path2)\n",
      "<ipython-input-19-7c193bdaae82>:18: RuntimeWarning: Channel names are not unique, found duplicates for: {'T8-P8'}. Applying running numbers for duplicates.\n",
      "  chb05_03_raw = mne.io.read_raw_edf(path3)\n",
      "<ipython-input-19-7c193bdaae82>:19: RuntimeWarning: Channel names are not unique, found duplicates for: {'T8-P8'}. Applying running numbers for duplicates.\n",
      "  chb05_04_raw = mne.io.read_raw_edf(path4)\n",
      "<ipython-input-19-7c193bdaae82>:20: RuntimeWarning: Channel names are not unique, found duplicates for: {'T8-P8'}. Applying running numbers for duplicates.\n",
      "  chb05_05_raw = mne.io.read_raw_edf(path5)\n"
     ]
    },
    {
     "name": "stdout",
     "output_type": "stream",
     "text": [
      "Setting channel info structure...\n",
      "Creating raw.info structure...\n",
      "Extracting EDF parameters from /home/npe/Documents/chb-mit-scalp-eeg-database-1.0.0/chb05/chb05_08.edf...\n",
      "EDF file detected\n",
      "Setting channel info structure...\n",
      "Creating raw.info structure...\n",
      "Extracting EDF parameters from /home/npe/Documents/chb-mit-scalp-eeg-database-1.0.0/chb05/chb05_09.edf...\n",
      "EDF file detected\n",
      "Setting channel info structure...\n",
      "Creating raw.info structure...\n",
      "Extracting EDF parameters from /home/npe/Documents/chb-mit-scalp-eeg-database-1.0.0/chb05/chb05_10.edf...\n",
      "EDF file detected\n",
      "Setting channel info structure...\n",
      "Creating raw.info structure...\n",
      "Extracting EDF parameters from /home/npe/Documents/chb-mit-scalp-eeg-database-1.0.0/chb05/chb05_11.edf...\n",
      "EDF file detected\n",
      "Setting channel info structure...\n",
      "Creating raw.info structure...\n",
      "Extracting EDF parameters from /home/npe/Documents/chb-mit-scalp-eeg-database-1.0.0/chb05/chb05_12.edf...\n",
      "EDF file detected\n",
      "Setting channel info structure...\n",
      "Creating raw.info structure...\n",
      "Extracting EDF parameters from /home/npe/Documents/chb-mit-scalp-eeg-database-1.0.0/chb05/chb05_13.edf...\n",
      "EDF file detected\n",
      "Setting channel info structure...\n",
      "Creating raw.info structure...\n"
     ]
    },
    {
     "name": "stderr",
     "output_type": "stream",
     "text": [
      "<ipython-input-19-7c193bdaae82>:21: RuntimeWarning: Channel names are not unique, found duplicates for: {'T8-P8'}. Applying running numbers for duplicates.\n",
      "  chb05_06_raw = mne.io.read_raw_edf(path6)\n",
      "<ipython-input-19-7c193bdaae82>:23: RuntimeWarning: Channel names are not unique, found duplicates for: {'T8-P8'}. Applying running numbers for duplicates.\n",
      "  chb05_08_raw = mne.io.read_raw_edf(path7)\n",
      "<ipython-input-19-7c193bdaae82>:24: RuntimeWarning: Channel names are not unique, found duplicates for: {'T8-P8'}. Applying running numbers for duplicates.\n",
      "  chb05_09_raw = mne.io.read_raw_edf(path8)\n",
      "<ipython-input-19-7c193bdaae82>:25: RuntimeWarning: Channel names are not unique, found duplicates for: {'T8-P8'}. Applying running numbers for duplicates.\n",
      "  chb05_10_raw = mne.io.read_raw_edf(path9)\n",
      "<ipython-input-19-7c193bdaae82>:26: RuntimeWarning: Channel names are not unique, found duplicates for: {'T8-P8'}. Applying running numbers for duplicates.\n",
      "  chb05_11_raw = mne.io.read_raw_edf(path10)\n",
      "<ipython-input-19-7c193bdaae82>:27: RuntimeWarning: Channel names are not unique, found duplicates for: {'T8-P8'}. Applying running numbers for duplicates.\n",
      "  chb05_12_raw = mne.io.read_raw_edf(path11)\n",
      "<ipython-input-19-7c193bdaae82>:28: RuntimeWarning: Channel names are not unique, found duplicates for: {'T8-P8'}. Applying running numbers for duplicates.\n",
      "  chb05_13_raw = mne.io.read_raw_edf(path12)\n"
     ]
    }
   ],
   "source": [
    "path1 = \"/home/npe/Documents/chb-mit-scalp-eeg-database-1.0.0/chb05/chb05_01.edf\"\n",
    "path2 = \"/home/npe/Documents/chb-mit-scalp-eeg-database-1.0.0/chb05/chb05_02.edf\"\n",
    "path3 = \"/home/npe/Documents/chb-mit-scalp-eeg-database-1.0.0/chb05/chb05_03.edf\"\n",
    "path4 = \"/home/npe/Documents/chb-mit-scalp-eeg-database-1.0.0/chb05/chb05_04.edf\"\n",
    "path5 = \"/home/npe/Documents/chb-mit-scalp-eeg-database-1.0.0/chb05/chb05_05.edf\"\n",
    "path6 = \"/home/npe/Documents/chb-mit-scalp-eeg-database-1.0.0/chb05/chb05_06.edf\"\n",
    "\n",
    "path7 = \"/home/npe/Documents/chb-mit-scalp-eeg-database-1.0.0/chb05/chb05_08.edf\"\n",
    "path8 = \"/home/npe/Documents/chb-mit-scalp-eeg-database-1.0.0/chb05/chb05_09.edf\"\n",
    "path9 = \"/home/npe/Documents/chb-mit-scalp-eeg-database-1.0.0/chb05/chb05_10.edf\"\n",
    "path10 = \"/home/npe/Documents/chb-mit-scalp-eeg-database-1.0.0/chb05/chb05_11.edf\"\n",
    "path11 = \"/home/npe/Documents/chb-mit-scalp-eeg-database-1.0.0/chb05/chb05_12.edf\"\n",
    "path12 = \"/home/npe/Documents/chb-mit-scalp-eeg-database-1.0.0/chb05/chb05_13.edf\"\n",
    "\n",
    "\n",
    "chb05_01_raw = mne.io.read_raw_edf(path1)\n",
    "chb05_02_raw = mne.io.read_raw_edf(path2)\n",
    "chb05_03_raw = mne.io.read_raw_edf(path3)\n",
    "chb05_04_raw = mne.io.read_raw_edf(path4)\n",
    "chb05_05_raw = mne.io.read_raw_edf(path5)\n",
    "chb05_06_raw = mne.io.read_raw_edf(path6)\n",
    "\n",
    "chb05_08_raw = mne.io.read_raw_edf(path7)\n",
    "chb05_09_raw = mne.io.read_raw_edf(path8)\n",
    "chb05_10_raw = mne.io.read_raw_edf(path9)\n",
    "chb05_11_raw = mne.io.read_raw_edf(path10)\n",
    "chb05_12_raw = mne.io.read_raw_edf(path11)\n",
    "chb05_13_raw = mne.io.read_raw_edf(path12)"
   ]
  },
  {
   "cell_type": "code",
   "execution_count": 20,
   "metadata": {},
   "outputs": [
    {
     "name": "stdout",
     "output_type": "stream",
     "text": [
      "Extracting EDF parameters from /home/npe/Documents/chb-mit-scalp-eeg-database-1.0.0/chb05/chb05_01.edf...\n",
      "EDF file detected\n",
      "Setting channel info structure...\n",
      "Creating raw.info structure...\n",
      "Extracting EDF parameters from /home/npe/Documents/chb-mit-scalp-eeg-database-1.0.0/chb05/chb05_08.edf...\n",
      "EDF file detected\n",
      "Setting channel info structure...\n",
      "Creating raw.info structure...\n"
     ]
    },
    {
     "name": "stderr",
     "output_type": "stream",
     "text": [
      "<ipython-input-20-8d92ca763cef>:5: RuntimeWarning: Channel names are not unique, found duplicates for: {'T8-P8'}. Applying running numbers for duplicates.\n",
      "  chb05_01_raw = mne.io.read_raw_edf(path1)\n",
      "<ipython-input-20-8d92ca763cef>:11: RuntimeWarning: Channel names are not unique, found duplicates for: {'T8-P8'}. Applying running numbers for duplicates.\n",
      "  chb05_08_raw = mne.io.read_raw_edf(path7)\n"
     ]
    },
    {
     "data": {
      "text/plain": [
       "21600"
      ]
     },
     "execution_count": 20,
     "metadata": {},
     "output_type": "execute_result"
    }
   ],
   "source": [
    "# Concatenate all the loaded epochs for this seizure\n",
    "\n",
    "# First seizure of pt.5\n",
    "all_raws_1 = mne.concatenate_raws([chb05_01_raw, chb05_02_raw, chb05_03_raw, chb05_04_raw, chb05_05_raw, chb05_06_raw],)\n",
    "chb05_01_raw = mne.io.read_raw_edf(path1)\n",
    "total_dur_1 = int(all_raws_1.n_times/256)\n",
    "total_dur_1\n",
    "\n",
    "# Second seizure of pt.5\n",
    "all_raws_2 = mne.concatenate_raws([chb05_08_raw, chb05_09_raw, chb05_10_raw, chb05_11_raw, chb05_12_raw, chb05_13_raw],)\n",
    "chb05_08_raw = mne.io.read_raw_edf(path7)\n",
    "total_dur_2 = int(all_raws_2.n_times/256)\n",
    "total_dur_2"
   ]
  },
  {
   "cell_type": "markdown",
   "metadata": {},
   "source": [
    "- Preictal"
   ]
  },
  {
   "cell_type": "code",
   "execution_count": 21,
   "metadata": {},
   "outputs": [],
   "source": [
    "# Seizure starts at 417s in chb05_06 epoch\n",
    "\n",
    "seizure_onset = (total_dur_1 - int(chb05_06_raw.n_times/256)) + 417\n",
    "preictal_duration = 3600\n",
    "preictal_beginning = seizure_onset - preictal_duration\n",
    "\n",
    "preictal_sections.append(all_raws_1.copy().crop(tmin=preictal_beginning, tmax=seizure_onset, include_tmax=False))"
   ]
  },
  {
   "cell_type": "code",
   "execution_count": 22,
   "metadata": {},
   "outputs": [],
   "source": [
    "# Seizure starts at 1086s in chb05_13 epoch\n",
    "\n",
    "seizure_onset = (total_dur_2 - int(chb05_13_raw.n_times/256)) + 1086\n",
    "preictal_duration = 3600\n",
    "preictal_beginning = seizure_onset - preictal_duration\n",
    "\n",
    "preictal_sections.append(all_raws_2.copy().crop(tmin=preictal_beginning, tmax=seizure_onset, include_tmax=False))"
   ]
  },
  {
   "cell_type": "markdown",
   "metadata": {},
   "source": [
    "- Interictal"
   ]
  },
  {
   "cell_type": "code",
   "execution_count": 23,
   "metadata": {},
   "outputs": [],
   "source": [
    "interictal_distance = 14400\n",
    "interictal_beginning = seizure_onset - total_length\n",
    "interictal_ending = seizure_onset - interictal_distance\n",
    "\n",
    "interictal_sections.append(all_raws_1.copy().crop(tmin=interictal_beginning, tmax=interictal_ending, include_tmax=False))"
   ]
  },
  {
   "cell_type": "code",
   "execution_count": 24,
   "metadata": {},
   "outputs": [],
   "source": [
    "interictal_distance = 14400\n",
    "interictal_beginning = seizure_onset - total_length\n",
    "interictal_ending = seizure_onset - interictal_distance\n",
    "\n",
    "interictal_sections.append(all_raws_2.copy().crop(tmin=interictal_beginning, tmax=interictal_ending, include_tmax=False))"
   ]
  },
  {
   "cell_type": "markdown",
   "metadata": {},
   "source": [
    "### Pt.7"
   ]
  },
  {
   "cell_type": "code",
   "execution_count": 25,
   "metadata": {},
   "outputs": [
    {
     "name": "stdout",
     "output_type": "stream",
     "text": [
      "Extracting EDF parameters from /home/npe/Documents/chb-mit-scalp-eeg-database-1.0.0/chb07/chb07_11.edf...\n",
      "EDF file detected\n",
      "Setting channel info structure...\n",
      "Creating raw.info structure...\n",
      "Extracting EDF parameters from /home/npe/Documents/chb-mit-scalp-eeg-database-1.0.0/chb07/chb07_12.edf...\n",
      "EDF file detected\n",
      "Setting channel info structure...\n",
      "Creating raw.info structure...\n",
      "Extracting EDF parameters from /home/npe/Documents/chb-mit-scalp-eeg-database-1.0.0/chb07/chb07_18.edf...\n",
      "EDF file detected\n",
      "Setting channel info structure...\n",
      "Creating raw.info structure...\n",
      "Extracting EDF parameters from /home/npe/Documents/chb-mit-scalp-eeg-database-1.0.0/chb07/chb07_19.edf...\n",
      "EDF file detected\n"
     ]
    },
    {
     "name": "stderr",
     "output_type": "stream",
     "text": [
      "<ipython-input-25-098c0c5571ea>:7: RuntimeWarning: Channel names are not unique, found duplicates for: {'T8-P8'}. Applying running numbers for duplicates.\n",
      "  chb07_11_raw = mne.io.read_raw_edf(path1)\n",
      "<ipython-input-25-098c0c5571ea>:8: RuntimeWarning: Channel names are not unique, found duplicates for: {'T8-P8'}. Applying running numbers for duplicates.\n",
      "  chb07_12_raw = mne.io.read_raw_edf(path2)\n",
      "<ipython-input-25-098c0c5571ea>:10: RuntimeWarning: Channel names are not unique, found duplicates for: {'T8-P8'}. Applying running numbers for duplicates.\n",
      "  chb07_18_raw = mne.io.read_raw_edf(path3)\n",
      "<ipython-input-25-098c0c5571ea>:11: RuntimeWarning: Channel names are not unique, found duplicates for: {'T8-P8'}. Applying running numbers for duplicates.\n",
      "  chb07_19_raw = mne.io.read_raw_edf(path4)\n"
     ]
    },
    {
     "name": "stdout",
     "output_type": "stream",
     "text": [
      "Setting channel info structure...\n",
      "Creating raw.info structure...\n"
     ]
    }
   ],
   "source": [
    "path1 = \"/home/npe/Documents/chb-mit-scalp-eeg-database-1.0.0/chb07/chb07_11.edf\"\n",
    "path2 = \"/home/npe/Documents/chb-mit-scalp-eeg-database-1.0.0/chb07/chb07_12.edf\"\n",
    "\n",
    "path3 = \"/home/npe/Documents/chb-mit-scalp-eeg-database-1.0.0/chb07/chb07_18.edf\"\n",
    "path4 = \"/home/npe/Documents/chb-mit-scalp-eeg-database-1.0.0/chb07/chb07_19.edf\"\n",
    "\n",
    "chb07_11_raw = mne.io.read_raw_edf(path1)\n",
    "chb07_12_raw = mne.io.read_raw_edf(path2)\n",
    "\n",
    "chb07_18_raw = mne.io.read_raw_edf(path3)\n",
    "chb07_19_raw = mne.io.read_raw_edf(path4)"
   ]
  },
  {
   "cell_type": "code",
   "execution_count": 26,
   "metadata": {},
   "outputs": [
    {
     "name": "stdout",
     "output_type": "stream",
     "text": [
      "Extracting EDF parameters from /home/npe/Documents/chb-mit-scalp-eeg-database-1.0.0/chb07/chb07_11.edf...\n",
      "EDF file detected\n",
      "Setting channel info structure...\n",
      "Creating raw.info structure...\n",
      "Extracting EDF parameters from /home/npe/Documents/chb-mit-scalp-eeg-database-1.0.0/chb07/chb07_18.edf...\n",
      "EDF file detected\n",
      "Setting channel info structure...\n",
      "Creating raw.info structure...\n"
     ]
    },
    {
     "name": "stderr",
     "output_type": "stream",
     "text": [
      "<ipython-input-26-d10db9857be8>:5: RuntimeWarning: Channel names are not unique, found duplicates for: {'T8-P8'}. Applying running numbers for duplicates.\n",
      "  chb07_11_raw = mne.io.read_raw_edf(path1)\n",
      "<ipython-input-26-d10db9857be8>:11: RuntimeWarning: Channel names are not unique, found duplicates for: {'T8-P8'}. Applying running numbers for duplicates.\n",
      "  chb07_18_raw = mne.io.read_raw_edf(path3)\n"
     ]
    },
    {
     "data": {
      "text/plain": [
       "26471"
      ]
     },
     "execution_count": 26,
     "metadata": {},
     "output_type": "execute_result"
    }
   ],
   "source": [
    "# Concatenate all the loaded epochs for this seizure\n",
    "\n",
    "# First seizure of pt.7\n",
    "all_raws_1 = mne.concatenate_raws([chb07_11_raw, chb07_12_raw],)\n",
    "chb07_11_raw = mne.io.read_raw_edf(path1)\n",
    "total_dur_1 = int(all_raws_1.n_times/256)\n",
    "total_dur_1\n",
    "\n",
    "# Second seizure of pt.7\n",
    "all_raws_2 = mne.concatenate_raws([chb07_18_raw, chb07_19_raw],)\n",
    "chb07_18_raw = mne.io.read_raw_edf(path3)\n",
    "total_dur_2 = int(all_raws_2.n_times/256)\n",
    "total_dur_2"
   ]
  },
  {
   "cell_type": "markdown",
   "metadata": {},
   "source": [
    "- preictal"
   ]
  },
  {
   "cell_type": "code",
   "execution_count": 27,
   "metadata": {},
   "outputs": [],
   "source": [
    "# Seizure starts at 4920s in chb07_12 epoch\n",
    "\n",
    "seizure_onset = (total_dur_1 - int(chb07_12_raw.n_times/256)) + 4920\n",
    "preictal_duration = 3600\n",
    "preictal_beginning = seizure_onset - preictal_duration\n",
    "\n",
    "preictal_sections.append(all_raws_1.copy().crop(tmin=preictal_beginning, tmax=seizure_onset, include_tmax=False))"
   ]
  },
  {
   "cell_type": "code",
   "execution_count": 28,
   "metadata": {},
   "outputs": [],
   "source": [
    "# Seizure starts at 13688s in chb07_19 epoch\n",
    "\n",
    "seizure_onset = (total_dur_2 - int(chb07_19_raw.n_times/256)) + 13688\n",
    "preictal_duration = 3600\n",
    "preictal_beginning = seizure_onset - preictal_duration\n",
    "\n",
    "preictal_sections.append(all_raws_2.copy().crop(tmin=preictal_beginning, tmax=seizure_onset, include_tmax=False))"
   ]
  },
  {
   "cell_type": "markdown",
   "metadata": {},
   "source": [
    "- Interictal "
   ]
  },
  {
   "cell_type": "code",
   "execution_count": 29,
   "metadata": {},
   "outputs": [],
   "source": [
    "interictal_distance = 14400\n",
    "interictal_beginning = seizure_onset - total_length\n",
    "interictal_ending = seizure_onset - interictal_distance\n",
    "\n",
    "interictal_sections.append(all_raws_1.copy().crop(tmin=interictal_beginning, tmax=interictal_ending, include_tmax=False))"
   ]
  },
  {
   "cell_type": "code",
   "execution_count": 30,
   "metadata": {},
   "outputs": [],
   "source": [
    "interictal_distance = 14400\n",
    "interictal_beginning = seizure_onset - total_length\n",
    "interictal_ending = seizure_onset - interictal_distance\n",
    "\n",
    "interictal_sections.append(all_raws_2.copy().crop(tmin=interictal_beginning, tmax=interictal_ending, include_tmax=False))"
   ]
  },
  {
   "cell_type": "markdown",
   "metadata": {},
   "source": [
    "### Pt.8"
   ]
  },
  {
   "cell_type": "code",
   "execution_count": 31,
   "metadata": {},
   "outputs": [
    {
     "name": "stdout",
     "output_type": "stream",
     "text": [
      "Extracting EDF parameters from /home/npe/Documents/chb-mit-scalp-eeg-database-1.0.0/chb08/chb08_16.edf...\n",
      "EDF file detected\n",
      "Setting channel info structure...\n",
      "Creating raw.info structure...\n",
      "Extracting EDF parameters from /home/npe/Documents/chb-mit-scalp-eeg-database-1.0.0/chb08/chb08_17.edf...\n",
      "EDF file detected\n",
      "Setting channel info structure...\n",
      "Creating raw.info structure...\n",
      "Extracting EDF parameters from /home/npe/Documents/chb-mit-scalp-eeg-database-1.0.0/chb08/chb08_18.edf...\n",
      "EDF file detected\n",
      "Setting channel info structure...\n",
      "Creating raw.info structure...\n",
      "Extracting EDF parameters from /home/npe/Documents/chb-mit-scalp-eeg-database-1.0.0/chb08/chb08_19.edf...\n",
      "EDF file detected\n"
     ]
    },
    {
     "name": "stderr",
     "output_type": "stream",
     "text": [
      "<ipython-input-31-2bf96d0838e9>:8: RuntimeWarning: Channel names are not unique, found duplicates for: {'T8-P8'}. Applying running numbers for duplicates.\n",
      "  chb08_16_raw = mne.io.read_raw_edf(path1)\n",
      "<ipython-input-31-2bf96d0838e9>:9: RuntimeWarning: Channel names are not unique, found duplicates for: {'T8-P8'}. Applying running numbers for duplicates.\n",
      "  chb08_17_raw = mne.io.read_raw_edf(path2)\n",
      "<ipython-input-31-2bf96d0838e9>:10: RuntimeWarning: Channel names are not unique, found duplicates for: {'T8-P8'}. Applying running numbers for duplicates.\n",
      "  chb08_18_raw = mne.io.read_raw_edf(path3)\n"
     ]
    },
    {
     "name": "stdout",
     "output_type": "stream",
     "text": [
      "Setting channel info structure...\n",
      "Creating raw.info structure...\n",
      "Extracting EDF parameters from /home/npe/Documents/chb-mit-scalp-eeg-database-1.0.0/chb08/chb08_20.edf...\n",
      "EDF file detected\n",
      "Setting channel info structure...\n",
      "Creating raw.info structure...\n",
      "Extracting EDF parameters from /home/npe/Documents/chb-mit-scalp-eeg-database-1.0.0/chb08/chb08_21.edf...\n",
      "EDF file detected\n",
      "Setting channel info structure...\n",
      "Creating raw.info structure...\n"
     ]
    },
    {
     "name": "stderr",
     "output_type": "stream",
     "text": [
      "<ipython-input-31-2bf96d0838e9>:11: RuntimeWarning: Channel names are not unique, found duplicates for: {'T8-P8'}. Applying running numbers for duplicates.\n",
      "  chb08_19_raw = mne.io.read_raw_edf(path4)\n",
      "<ipython-input-31-2bf96d0838e9>:12: RuntimeWarning: Channel names are not unique, found duplicates for: {'T8-P8'}. Applying running numbers for duplicates.\n",
      "  chb08_20_raw = mne.io.read_raw_edf(path5)\n",
      "<ipython-input-31-2bf96d0838e9>:13: RuntimeWarning: Channel names are not unique, found duplicates for: {'T8-P8'}. Applying running numbers for duplicates.\n",
      "  chb08_21_raw = mne.io.read_raw_edf(path6)\n"
     ]
    }
   ],
   "source": [
    "path1 = \"/home/npe/Documents/chb-mit-scalp-eeg-database-1.0.0/chb08/chb08_16.edf\"\n",
    "path2 = \"/home/npe/Documents/chb-mit-scalp-eeg-database-1.0.0/chb08/chb08_17.edf\"\n",
    "path3 = \"/home/npe/Documents/chb-mit-scalp-eeg-database-1.0.0/chb08/chb08_18.edf\"\n",
    "path4 = \"/home/npe/Documents/chb-mit-scalp-eeg-database-1.0.0/chb08/chb08_19.edf\"\n",
    "path5 = \"/home/npe/Documents/chb-mit-scalp-eeg-database-1.0.0/chb08/chb08_20.edf\"\n",
    "path6 = \"/home/npe/Documents/chb-mit-scalp-eeg-database-1.0.0/chb08/chb08_21.edf\"\n",
    "\n",
    "chb08_16_raw = mne.io.read_raw_edf(path1)\n",
    "chb08_17_raw = mne.io.read_raw_edf(path2)\n",
    "chb08_18_raw = mne.io.read_raw_edf(path3)\n",
    "chb08_19_raw = mne.io.read_raw_edf(path4)\n",
    "chb08_20_raw = mne.io.read_raw_edf(path5)\n",
    "chb08_21_raw = mne.io.read_raw_edf(path6)"
   ]
  },
  {
   "cell_type": "code",
   "execution_count": 32,
   "metadata": {},
   "outputs": [
    {
     "name": "stdout",
     "output_type": "stream",
     "text": [
      "Extracting EDF parameters from /home/npe/Documents/chb-mit-scalp-eeg-database-1.0.0/chb08/chb08_16.edf...\n",
      "EDF file detected\n",
      "Setting channel info structure...\n",
      "Creating raw.info structure...\n"
     ]
    },
    {
     "name": "stderr",
     "output_type": "stream",
     "text": [
      "<ipython-input-32-45dfdbaaccbf>:4: RuntimeWarning: Channel names are not unique, found duplicates for: {'T8-P8'}. Applying running numbers for duplicates.\n",
      "  chb08_16_raw = mne.io.read_raw_edf(path1)\n"
     ]
    },
    {
     "data": {
      "text/plain": [
       "21600"
      ]
     },
     "execution_count": 32,
     "metadata": {},
     "output_type": "execute_result"
    }
   ],
   "source": [
    "# Concatenate all the loaded epochs for this seizure\n",
    "\n",
    "all_raws = mne.concatenate_raws([chb08_16_raw, chb08_17_raw, chb08_18_raw, chb08_19_raw, chb08_20_raw, chb08_21_raw],)\n",
    "chb08_16_raw = mne.io.read_raw_edf(path1)\n",
    "total_dur = int(all_raws.n_times/256)\n",
    "total_dur"
   ]
  },
  {
   "cell_type": "markdown",
   "metadata": {},
   "source": [
    "- Preictal"
   ]
  },
  {
   "cell_type": "code",
   "execution_count": 33,
   "metadata": {},
   "outputs": [],
   "source": [
    "# Seizure starts at 2083s in chb08_21 epoch\n",
    "\n",
    "seizure_onset = (total_dur - int(chb03_34_raw.n_times/256)) + 2083\n",
    "preictal_duration = 3600\n",
    "preictal_beginning = seizure_onset - preictal_duration\n",
    "\n",
    "preictal_sections.append(all_raws.copy().crop(tmin=preictal_beginning, tmax=seizure_onset, include_tmax=False))"
   ]
  },
  {
   "cell_type": "markdown",
   "metadata": {},
   "source": [
    "- Interictal"
   ]
  },
  {
   "cell_type": "code",
   "execution_count": 34,
   "metadata": {},
   "outputs": [],
   "source": [
    "interictal_distance = 14400\n",
    "interictal_beginning = seizure_onset - total_length\n",
    "interictal_ending = seizure_onset - interictal_distance\n",
    "\n",
    "interictal_sections.append(all_raws.copy().crop(tmin=interictal_beginning, tmax=interictal_ending, include_tmax=False))"
   ]
  },
  {
   "cell_type": "markdown",
   "metadata": {},
   "source": [
    "### Pt.9"
   ]
  },
  {
   "cell_type": "code",
   "execution_count": 35,
   "metadata": {},
   "outputs": [
    {
     "name": "stdout",
     "output_type": "stream",
     "text": [
      "Extracting EDF parameters from /home/npe/Documents/chb-mit-scalp-eeg-database-1.0.0/chb09/chb09_05.edf...\n",
      "EDF file detected\n",
      "Setting channel info structure...\n",
      "Creating raw.info structure...\n",
      "Extracting EDF parameters from /home/npe/Documents/chb-mit-scalp-eeg-database-1.0.0/chb09/chb09_06.edf...\n",
      "EDF file detected\n",
      "Setting channel info structure...\n",
      "Creating raw.info structure...\n",
      "Extracting EDF parameters from /home/npe/Documents/chb-mit-scalp-eeg-database-1.0.0/chb09/chb09_18.edf...\n",
      "EDF file detected\n"
     ]
    },
    {
     "name": "stderr",
     "output_type": "stream",
     "text": [
      "<ipython-input-35-e645e4b7ea11>:8: RuntimeWarning: Channel names are not unique, found duplicates for: {'T8-P8'}. Applying running numbers for duplicates.\n",
      "  chb09_05_raw = mne.io.read_raw_edf(path1)\n",
      "<ipython-input-35-e645e4b7ea11>:9: RuntimeWarning: Channel names are not unique, found duplicates for: {'T8-P8'}. Applying running numbers for duplicates.\n",
      "  chb09_06_raw = mne.io.read_raw_edf(path2)\n"
     ]
    },
    {
     "name": "stdout",
     "output_type": "stream",
     "text": [
      "Setting channel info structure...\n",
      "Creating raw.info structure...\n",
      "Extracting EDF parameters from /home/npe/Documents/chb-mit-scalp-eeg-database-1.0.0/chb09/chb09_19.edf...\n",
      "EDF file detected\n",
      "Setting channel info structure...\n",
      "Creating raw.info structure...\n"
     ]
    },
    {
     "name": "stderr",
     "output_type": "stream",
     "text": [
      "<ipython-input-35-e645e4b7ea11>:11: RuntimeWarning: Channel names are not unique, found duplicates for: {'T8-P8'}. Applying running numbers for duplicates.\n",
      "  chb09_18_raw = mne.io.read_raw_edf(path3)\n",
      "<ipython-input-35-e645e4b7ea11>:12: RuntimeWarning: Channel names are not unique, found duplicates for: {'T8-P8'}. Applying running numbers for duplicates.\n",
      "  chb09_19_raw = mne.io.read_raw_edf(path4)\n"
     ]
    }
   ],
   "source": [
    "path1 = \"/home/npe/Documents/chb-mit-scalp-eeg-database-1.0.0/chb09/chb09_05.edf\"\n",
    "path2 = \"/home/npe/Documents/chb-mit-scalp-eeg-database-1.0.0/chb09/chb09_06.edf\"\n",
    "\n",
    "path3 = \"/home/npe/Documents/chb-mit-scalp-eeg-database-1.0.0/chb09/chb09_18.edf\"\n",
    "path4 = \"/home/npe/Documents/chb-mit-scalp-eeg-database-1.0.0/chb09/chb09_19.edf\"\n",
    "\n",
    "\n",
    "chb09_05_raw = mne.io.read_raw_edf(path1)\n",
    "chb09_06_raw = mne.io.read_raw_edf(path2)\n",
    "\n",
    "chb09_18_raw = mne.io.read_raw_edf(path3)\n",
    "chb09_19_raw = mne.io.read_raw_edf(path4)"
   ]
  },
  {
   "cell_type": "code",
   "execution_count": 36,
   "metadata": {},
   "outputs": [
    {
     "name": "stdout",
     "output_type": "stream",
     "text": [
      "Extracting EDF parameters from /home/npe/Documents/chb-mit-scalp-eeg-database-1.0.0/chb09/chb09_05.edf...\n",
      "EDF file detected\n",
      "Setting channel info structure...\n",
      "Creating raw.info structure...\n",
      "Extracting EDF parameters from /home/npe/Documents/chb-mit-scalp-eeg-database-1.0.0/chb09/chb09_18.edf...\n",
      "EDF file detected\n",
      "Setting channel info structure...\n",
      "Creating raw.info structure...\n"
     ]
    },
    {
     "name": "stderr",
     "output_type": "stream",
     "text": [
      "<ipython-input-36-e506e5383659>:5: RuntimeWarning: Channel names are not unique, found duplicates for: {'T8-P8'}. Applying running numbers for duplicates.\n",
      "  chb09_05_raw = mne.io.read_raw_edf(path1)\n",
      "<ipython-input-36-e506e5383659>:11: RuntimeWarning: Channel names are not unique, found duplicates for: {'T8-P8'}. Applying running numbers for duplicates.\n",
      "  chb09_18_raw = mne.io.read_raw_edf(path3)\n"
     ]
    },
    {
     "data": {
      "text/plain": [
       "20100"
      ]
     },
     "execution_count": 36,
     "metadata": {},
     "output_type": "execute_result"
    }
   ],
   "source": [
    "# Concatenate all the loaded epochs for this seizure\n",
    "\n",
    "# First seizure of pt.9\n",
    "all_raws_1 = mne.concatenate_raws([chb09_05_raw, chb09_06_raw],)\n",
    "chb09_05_raw = mne.io.read_raw_edf(path1)\n",
    "total_dur_1 = int(all_raws_1.n_times/256)\n",
    "total_dur_1\n",
    "\n",
    "# Second seizure of pt.9\n",
    "all_raws_2 = mne.concatenate_raws([chb09_18_raw, chb09_19_raw],)\n",
    "chb09_18_raw = mne.io.read_raw_edf(path3)\n",
    "total_dur_2 = int(all_raws_2.n_times/256)\n",
    "total_dur_2"
   ]
  },
  {
   "cell_type": "markdown",
   "metadata": {},
   "source": [
    "- Preictal"
   ]
  },
  {
   "cell_type": "code",
   "execution_count": 37,
   "metadata": {},
   "outputs": [],
   "source": [
    "# Seizure starts at 12231s in chb09_06 epoch\n",
    "\n",
    "seizure_onset = (total_dur_1 - int(chb09_06_raw.n_times/256)) + 12231\n",
    "preictal_duration = 3600\n",
    "preictal_beginning = seizure_onset - preictal_duration\n",
    "\n",
    "preictal_sections.append(all_raws_1.copy().crop(tmin=preictal_beginning, tmax=seizure_onset, include_tmax=False))"
   ]
  },
  {
   "cell_type": "code",
   "execution_count": 38,
   "metadata": {},
   "outputs": [],
   "source": [
    "# Seizure starts at 5299s in chb09_19 epoch\n",
    "\n",
    "seizure_onset = (total_dur_2 - int(chb09_19_raw.n_times/256)) + 5299\n",
    "preictal_duration = 3600\n",
    "preictal_beginning = seizure_onset - preictal_duration\n",
    "\n",
    "preictal_sections.append(all_raws_1.copy().crop(tmin=preictal_beginning, tmax=seizure_onset, include_tmax=False))"
   ]
  },
  {
   "cell_type": "markdown",
   "metadata": {},
   "source": [
    "- Interictal"
   ]
  },
  {
   "cell_type": "code",
   "execution_count": 39,
   "metadata": {},
   "outputs": [],
   "source": [
    "interictal_distance = 14400\n",
    "interictal_beginning = seizure_onset - total_length\n",
    "interictal_ending = seizure_onset - interictal_distance\n",
    "\n",
    "interictal_sections.append(all_raws_1.copy().crop(tmin=interictal_beginning, tmax=interictal_ending, include_tmax=False))"
   ]
  },
  {
   "cell_type": "code",
   "execution_count": 40,
   "metadata": {},
   "outputs": [],
   "source": [
    "interictal_distance = 14400\n",
    "interictal_beginning = seizure_onset - total_length\n",
    "interictal_ending = seizure_onset - interictal_distance\n",
    "\n",
    "interictal_sections.append(all_raws_2.copy().crop(tmin=interictal_beginning, tmax=interictal_ending, include_tmax=False))"
   ]
  },
  {
   "cell_type": "markdown",
   "metadata": {},
   "source": [
    "### Pt.10"
   ]
  },
  {
   "cell_type": "code",
   "execution_count": 41,
   "metadata": {},
   "outputs": [
    {
     "name": "stdout",
     "output_type": "stream",
     "text": [
      "Extracting EDF parameters from /home/npe/Documents/chb-mit-scalp-eeg-database-1.0.0/chb10/chb10_18.edf...\n",
      "EDF file detected\n",
      "Setting channel info structure...\n",
      "Creating raw.info structure...\n",
      "Extracting EDF parameters from /home/npe/Documents/chb-mit-scalp-eeg-database-1.0.0/chb10/chb10_19.edf...\n",
      "EDF file detected\n",
      "Setting channel info structure...\n",
      "Creating raw.info structure...\n",
      "Extracting EDF parameters from /home/npe/Documents/chb-mit-scalp-eeg-database-1.0.0/chb10/chb10_20.edf...\n",
      "EDF file detected\n",
      "Setting channel info structure...\n",
      "Creating raw.info structure...\n"
     ]
    },
    {
     "name": "stderr",
     "output_type": "stream",
     "text": [
      "<ipython-input-41-68a00bfeae0b>:5: RuntimeWarning: Channel names are not unique, found duplicates for: {'T8-P8'}. Applying running numbers for duplicates.\n",
      "  chb10_18_raw = mne.io.read_raw_edf(path1)\n",
      "<ipython-input-41-68a00bfeae0b>:6: RuntimeWarning: Channel names are not unique, found duplicates for: {'T8-P8'}. Applying running numbers for duplicates.\n",
      "  chb10_19_raw = mne.io.read_raw_edf(path2)\n",
      "<ipython-input-41-68a00bfeae0b>:7: RuntimeWarning: Channel names are not unique, found duplicates for: {'T8-P8'}. Applying running numbers for duplicates.\n",
      "  chb10_20_raw = mne.io.read_raw_edf(path3)\n"
     ]
    }
   ],
   "source": [
    "path1 = \"/home/npe/Documents/chb-mit-scalp-eeg-database-1.0.0/chb10/chb10_18.edf\"\n",
    "path2 = \"/home/npe/Documents/chb-mit-scalp-eeg-database-1.0.0/chb10/chb10_19.edf\"\n",
    "path3 = \"/home/npe/Documents/chb-mit-scalp-eeg-database-1.0.0/chb10/chb10_20.edf\"\n",
    "\n",
    "chb10_18_raw = mne.io.read_raw_edf(path1)\n",
    "chb10_19_raw = mne.io.read_raw_edf(path2)\n",
    "chb10_20_raw = mne.io.read_raw_edf(path3)"
   ]
  },
  {
   "cell_type": "code",
   "execution_count": 42,
   "metadata": {},
   "outputs": [
    {
     "name": "stdout",
     "output_type": "stream",
     "text": [
      "Extracting EDF parameters from /home/npe/Documents/chb-mit-scalp-eeg-database-1.0.0/chb10/chb10_18.edf...\n",
      "EDF file detected\n",
      "Setting channel info structure...\n",
      "Creating raw.info structure...\n"
     ]
    },
    {
     "name": "stderr",
     "output_type": "stream",
     "text": [
      "<ipython-input-42-f2f5ec9bf26c>:4: RuntimeWarning: Channel names are not unique, found duplicates for: {'T8-P8'}. Applying running numbers for duplicates.\n",
      "  chb10_18_raw = mne.io.read_raw_edf(path1)\n"
     ]
    },
    {
     "data": {
      "text/plain": [
       "21612"
      ]
     },
     "execution_count": 42,
     "metadata": {},
     "output_type": "execute_result"
    }
   ],
   "source": [
    "# Concatenate all the loaded epochs for this seizure\n",
    "\n",
    "all_raws = mne.concatenate_raws([chb10_18_raw, chb10_19_raw, chb10_20_raw],)\n",
    "chb10_18_raw = mne.io.read_raw_edf(path1)\n",
    "total_dur = int(all_raws.n_times/256)\n",
    "total_dur"
   ]
  },
  {
   "cell_type": "markdown",
   "metadata": {},
   "source": [
    "- Preictal"
   ]
  },
  {
   "cell_type": "code",
   "execution_count": 43,
   "metadata": {},
   "outputs": [],
   "source": [
    "# Seizure starts at 6888s in chb10_20 epoch\n",
    "\n",
    "seizure_onset = (total_dur - int(chb10_20_raw.n_times/256)) + 6888\n",
    "preictal_duration = 3600\n",
    "preictal_beginning = seizure_onset - preictal_duration\n",
    "\n",
    "preictal_sections.append(all_raws.copy().crop(tmin=preictal_beginning, tmax=seizure_onset, include_tmax=False))"
   ]
  },
  {
   "cell_type": "markdown",
   "metadata": {},
   "source": [
    "- Interictal"
   ]
  },
  {
   "cell_type": "code",
   "execution_count": 44,
   "metadata": {},
   "outputs": [],
   "source": [
    "interictal_distance = 14400\n",
    "interictal_beginning = seizure_onset - total_length\n",
    "interictal_ending = seizure_onset - interictal_distance\n",
    "\n",
    "interictal_sections.append(all_raws.copy().crop(tmin=interictal_beginning, tmax=interictal_ending, include_tmax=False))"
   ]
  },
  {
   "cell_type": "markdown",
   "metadata": {},
   "source": [
    "### Pt.16"
   ]
  },
  {
   "cell_type": "code",
   "execution_count": 45,
   "metadata": {},
   "outputs": [
    {
     "name": "stdout",
     "output_type": "stream",
     "text": [
      "Extracting EDF parameters from /home/npe/Documents/chb-mit-scalp-eeg-database-1.0.0/chb16/chb16_05.edf...\n",
      "EDF file detected\n",
      "Setting channel info structure...\n",
      "Creating raw.info structure...\n",
      "Extracting EDF parameters from /home/npe/Documents/chb-mit-scalp-eeg-database-1.0.0/chb16/chb16_06.edf...\n",
      "EDF file detected\n",
      "Setting channel info structure...\n",
      "Creating raw.info structure...\n",
      "Extracting EDF parameters from /home/npe/Documents/chb-mit-scalp-eeg-database-1.0.0/chb16/chb16_07.edf...\n",
      "EDF file detected\n",
      "Setting channel info structure...\n",
      "Creating raw.info structure...\n",
      "Extracting EDF parameters from /home/npe/Documents/chb-mit-scalp-eeg-database-1.0.0/chb16/chb16_08.edf...\n",
      "EDF file detected\n",
      "Setting channel info structure...\n",
      "Creating raw.info structure...\n",
      "Extracting EDF parameters from /home/npe/Documents/chb-mit-scalp-eeg-database-1.0.0/chb16/chb16_09.edf...\n",
      "EDF file detected\n"
     ]
    },
    {
     "name": "stderr",
     "output_type": "stream",
     "text": [
      "<ipython-input-45-b2d0f70e0693>:8: RuntimeWarning: Channel names are not unique, found duplicates for: {'T8-P8', '-'}. Applying running numbers for duplicates.\n",
      "  chb16_05_raw = mne.io.read_raw_edf(path1)\n",
      "<ipython-input-45-b2d0f70e0693>:8: RuntimeWarning: Scaling factor is not defined in following channels:\n",
      "--0, --1, --2, --3, --4\n",
      "  chb16_05_raw = mne.io.read_raw_edf(path1)\n",
      "<ipython-input-45-b2d0f70e0693>:9: RuntimeWarning: Channel names are not unique, found duplicates for: {'T8-P8', '-'}. Applying running numbers for duplicates.\n",
      "  chb16_06_raw = mne.io.read_raw_edf(path2)\n",
      "<ipython-input-45-b2d0f70e0693>:9: RuntimeWarning: Scaling factor is not defined in following channels:\n",
      "--0, --1, --2, --3, --4\n",
      "  chb16_06_raw = mne.io.read_raw_edf(path2)\n",
      "<ipython-input-45-b2d0f70e0693>:10: RuntimeWarning: Channel names are not unique, found duplicates for: {'T8-P8', '-'}. Applying running numbers for duplicates.\n",
      "  chb16_07_raw = mne.io.read_raw_edf(path3)\n",
      "<ipython-input-45-b2d0f70e0693>:10: RuntimeWarning: Scaling factor is not defined in following channels:\n",
      "--0, --1, --2, --3, --4\n",
      "  chb16_07_raw = mne.io.read_raw_edf(path3)\n",
      "<ipython-input-45-b2d0f70e0693>:11: RuntimeWarning: Channel names are not unique, found duplicates for: {'T8-P8', '-'}. Applying running numbers for duplicates.\n",
      "  chb16_08_raw = mne.io.read_raw_edf(path4)\n",
      "<ipython-input-45-b2d0f70e0693>:11: RuntimeWarning: Scaling factor is not defined in following channels:\n",
      "--0, --1, --2, --3, --4\n",
      "  chb16_08_raw = mne.io.read_raw_edf(path4)\n"
     ]
    },
    {
     "name": "stdout",
     "output_type": "stream",
     "text": [
      "Setting channel info structure...\n",
      "Creating raw.info structure...\n",
      "Extracting EDF parameters from /home/npe/Documents/chb-mit-scalp-eeg-database-1.0.0/chb16/chb16_10.edf...\n",
      "EDF file detected\n",
      "Setting channel info structure...\n",
      "Creating raw.info structure...\n"
     ]
    },
    {
     "name": "stderr",
     "output_type": "stream",
     "text": [
      "<ipython-input-45-b2d0f70e0693>:12: RuntimeWarning: Channel names are not unique, found duplicates for: {'T8-P8', '-'}. Applying running numbers for duplicates.\n",
      "  chb16_09_raw = mne.io.read_raw_edf(path5)\n",
      "<ipython-input-45-b2d0f70e0693>:12: RuntimeWarning: Scaling factor is not defined in following channels:\n",
      "--0, --1, --2, --3, --4\n",
      "  chb16_09_raw = mne.io.read_raw_edf(path5)\n",
      "<ipython-input-45-b2d0f70e0693>:13: RuntimeWarning: Channel names are not unique, found duplicates for: {'T8-P8', '-'}. Applying running numbers for duplicates.\n",
      "  chb16_10_raw = mne.io.read_raw_edf(path6)\n",
      "<ipython-input-45-b2d0f70e0693>:13: RuntimeWarning: Scaling factor is not defined in following channels:\n",
      "--0, --1, --2, --3, --4\n",
      "  chb16_10_raw = mne.io.read_raw_edf(path6)\n"
     ]
    }
   ],
   "source": [
    "path1 = \"/home/npe/Documents/chb-mit-scalp-eeg-database-1.0.0/chb16/chb16_05.edf\"\n",
    "path2 = \"/home/npe/Documents/chb-mit-scalp-eeg-database-1.0.0/chb16/chb16_06.edf\"\n",
    "path3 = \"/home/npe/Documents/chb-mit-scalp-eeg-database-1.0.0/chb16/chb16_07.edf\"\n",
    "path4 = \"/home/npe/Documents/chb-mit-scalp-eeg-database-1.0.0/chb16/chb16_08.edf\"\n",
    "path5 = \"/home/npe/Documents/chb-mit-scalp-eeg-database-1.0.0/chb16/chb16_09.edf\"\n",
    "path6 = \"/home/npe/Documents/chb-mit-scalp-eeg-database-1.0.0/chb16/chb16_10.edf\"\n",
    "\n",
    "chb16_05_raw = mne.io.read_raw_edf(path1)\n",
    "chb16_06_raw = mne.io.read_raw_edf(path2)\n",
    "chb16_07_raw = mne.io.read_raw_edf(path3)\n",
    "chb16_08_raw = mne.io.read_raw_edf(path4)\n",
    "chb16_09_raw = mne.io.read_raw_edf(path5)\n",
    "chb16_10_raw = mne.io.read_raw_edf(path6)"
   ]
  },
  {
   "cell_type": "code",
   "execution_count": 46,
   "metadata": {},
   "outputs": [
    {
     "name": "stdout",
     "output_type": "stream",
     "text": [
      "Extracting EDF parameters from /home/npe/Documents/chb-mit-scalp-eeg-database-1.0.0/chb16/chb16_05.edf...\n",
      "EDF file detected\n",
      "Setting channel info structure...\n",
      "Creating raw.info structure...\n"
     ]
    },
    {
     "name": "stderr",
     "output_type": "stream",
     "text": [
      "<ipython-input-46-4cc9cdc7b6d4>:4: RuntimeWarning: Channel names are not unique, found duplicates for: {'T8-P8', '-'}. Applying running numbers for duplicates.\n",
      "  chb16_05_raw = mne.io.read_raw_edf(path1)\n",
      "<ipython-input-46-4cc9cdc7b6d4>:4: RuntimeWarning: Scaling factor is not defined in following channels:\n",
      "--0, --1, --2, --3, --4\n",
      "  chb16_05_raw = mne.io.read_raw_edf(path1)\n"
     ]
    },
    {
     "data": {
      "text/plain": [
       "21600"
      ]
     },
     "execution_count": 46,
     "metadata": {},
     "output_type": "execute_result"
    }
   ],
   "source": [
    "# Concatenate all the loaded epochs for this seizure\n",
    "\n",
    "all_raws = mne.concatenate_raws([chb16_05_raw, chb16_06_raw, chb16_07_raw, chb16_08_raw, chb16_09_raw, chb16_10_raw],)\n",
    "chb16_05_raw = mne.io.read_raw_edf(path1)\n",
    "total_dur = int(all_raws.n_times/256)\n",
    "total_dur"
   ]
  },
  {
   "cell_type": "markdown",
   "metadata": {},
   "source": [
    "- Preictal"
   ]
  },
  {
   "cell_type": "code",
   "execution_count": 47,
   "metadata": {},
   "outputs": [],
   "source": [
    "# Seizure starts at 2290s in chb16_10 epoch\n",
    "\n",
    "seizure_onset = (total_dur - int(chb16_10_raw.n_times/256)) + 2290\n",
    "preictal_duration = 3600\n",
    "preictal_beginning = seizure_onset - preictal_duration\n",
    "\n",
    "preictal_sections.append(all_raws.copy().crop(tmin=preictal_beginning, tmax=seizure_onset, include_tmax=False))"
   ]
  },
  {
   "cell_type": "markdown",
   "metadata": {},
   "source": [
    "- Interictal"
   ]
  },
  {
   "cell_type": "code",
   "execution_count": 48,
   "metadata": {},
   "outputs": [],
   "source": [
    "interictal_distance = 14400\n",
    "interictal_beginning = seizure_onset - total_length\n",
    "interictal_ending = seizure_onset - interictal_distance\n",
    "\n",
    "interictal_sections.append(all_raws.copy().crop(tmin=interictal_beginning, tmax=interictal_ending, include_tmax=False))"
   ]
  },
  {
   "cell_type": "markdown",
   "metadata": {},
   "source": [
    "### Pt.18"
   ]
  },
  {
   "cell_type": "code",
   "execution_count": 49,
   "metadata": {},
   "outputs": [
    {
     "name": "stdout",
     "output_type": "stream",
     "text": [
      "Extracting EDF parameters from /home/npe/Documents/chb-mit-scalp-eeg-database-1.0.0/chb18/chb18_24.edf...\n",
      "EDF file detected\n",
      "Setting channel info structure...\n",
      "Creating raw.info structure...\n",
      "Extracting EDF parameters from /home/npe/Documents/chb-mit-scalp-eeg-database-1.0.0/chb18/chb18_25.edf...\n",
      "EDF file detected\n",
      "Setting channel info structure...\n",
      "Creating raw.info structure...\n",
      "Extracting EDF parameters from /home/npe/Documents/chb-mit-scalp-eeg-database-1.0.0/chb18/chb18_26.edf...\n",
      "EDF file detected\n",
      "Setting channel info structure...\n",
      "Creating raw.info structure...\n",
      "Extracting EDF parameters from /home/npe/Documents/chb-mit-scalp-eeg-database-1.0.0/chb18/chb18_27.edf...\n",
      "EDF file detected\n",
      "Setting channel info structure...\n",
      "Creating raw.info structure...\n"
     ]
    },
    {
     "name": "stderr",
     "output_type": "stream",
     "text": [
      "<ipython-input-49-b9d504ccfd54>:8: RuntimeWarning: Channel names are not unique, found duplicates for: {'.', 'T8-P8'}. Applying running numbers for duplicates.\n",
      "  chb18_24_raw = mne.io.read_raw_edf(path1)\n",
      "<ipython-input-49-b9d504ccfd54>:9: RuntimeWarning: Channel names are not unique, found duplicates for: {'.', 'T8-P8'}. Applying running numbers for duplicates.\n",
      "  chb18_25_raw = mne.io.read_raw_edf(path2)\n",
      "<ipython-input-49-b9d504ccfd54>:10: RuntimeWarning: Channel names are not unique, found duplicates for: {'.', 'T8-P8'}. Applying running numbers for duplicates.\n",
      "  chb18_26_raw = mne.io.read_raw_edf(path3)\n",
      "<ipython-input-49-b9d504ccfd54>:11: RuntimeWarning: Channel names are not unique, found duplicates for: {'.', 'T8-P8'}. Applying running numbers for duplicates.\n",
      "  chb18_27_raw = mne.io.read_raw_edf(path4)\n"
     ]
    },
    {
     "name": "stdout",
     "output_type": "stream",
     "text": [
      "Extracting EDF parameters from /home/npe/Documents/chb-mit-scalp-eeg-database-1.0.0/chb18/chb18_28.edf...\n",
      "EDF file detected\n",
      "Setting channel info structure...\n",
      "Creating raw.info structure...\n",
      "Extracting EDF parameters from /home/npe/Documents/chb-mit-scalp-eeg-database-1.0.0/chb18/chb18_29.edf...\n",
      "EDF file detected\n",
      "Setting channel info structure...\n",
      "Creating raw.info structure...\n"
     ]
    },
    {
     "name": "stderr",
     "output_type": "stream",
     "text": [
      "<ipython-input-49-b9d504ccfd54>:12: RuntimeWarning: Channel names are not unique, found duplicates for: {'.', 'T8-P8'}. Applying running numbers for duplicates.\n",
      "  chb18_28_raw = mne.io.read_raw_edf(path5)\n",
      "<ipython-input-49-b9d504ccfd54>:13: RuntimeWarning: Channel names are not unique, found duplicates for: {'.', 'T8-P8'}. Applying running numbers for duplicates.\n",
      "  chb18_29_raw = mne.io.read_raw_edf(path6)\n"
     ]
    }
   ],
   "source": [
    "path1 = \"/home/npe/Documents/chb-mit-scalp-eeg-database-1.0.0/chb18/chb18_24.edf\"\n",
    "path2 = \"/home/npe/Documents/chb-mit-scalp-eeg-database-1.0.0/chb18/chb18_25.edf\"\n",
    "path3 = \"/home/npe/Documents/chb-mit-scalp-eeg-database-1.0.0/chb18/chb18_26.edf\"\n",
    "path4 = \"/home/npe/Documents/chb-mit-scalp-eeg-database-1.0.0/chb18/chb18_27.edf\"\n",
    "path5 = \"/home/npe/Documents/chb-mit-scalp-eeg-database-1.0.0/chb18/chb18_28.edf\"\n",
    "path6 = \"/home/npe/Documents/chb-mit-scalp-eeg-database-1.0.0/chb18/chb18_29.edf\"\n",
    "\n",
    "chb18_24_raw = mne.io.read_raw_edf(path1)\n",
    "chb18_25_raw = mne.io.read_raw_edf(path2)\n",
    "chb18_26_raw = mne.io.read_raw_edf(path3)\n",
    "chb18_27_raw = mne.io.read_raw_edf(path4)\n",
    "chb18_28_raw = mne.io.read_raw_edf(path5)\n",
    "chb18_29_raw = mne.io.read_raw_edf(path6)"
   ]
  },
  {
   "cell_type": "code",
   "execution_count": 50,
   "metadata": {},
   "outputs": [
    {
     "name": "stdout",
     "output_type": "stream",
     "text": [
      "Extracting EDF parameters from /home/npe/Documents/chb-mit-scalp-eeg-database-1.0.0/chb18/chb18_24.edf...\n",
      "EDF file detected\n",
      "Setting channel info structure...\n",
      "Creating raw.info structure...\n"
     ]
    },
    {
     "name": "stderr",
     "output_type": "stream",
     "text": [
      "<ipython-input-50-803beaac3794>:4: RuntimeWarning: Channel names are not unique, found duplicates for: {'.', 'T8-P8'}. Applying running numbers for duplicates.\n",
      "  chb18_24_raw = mne.io.read_raw_edf(path1)\n"
     ]
    },
    {
     "data": {
      "text/plain": [
       "21600"
      ]
     },
     "execution_count": 50,
     "metadata": {},
     "output_type": "execute_result"
    }
   ],
   "source": [
    "# Concatenate all the loaded epochs for this seizure\n",
    "\n",
    "all_raws = mne.concatenate_raws([chb18_24_raw, chb18_25_raw, chb18_26_raw, chb18_27_raw, chb18_28_raw, chb18_29_raw],)\n",
    "chb18_24_raw = mne.io.read_raw_edf(path1)\n",
    "total_dur = int(all_raws.n_times/256)\n",
    "total_dur"
   ]
  },
  {
   "cell_type": "markdown",
   "metadata": {},
   "source": [
    "- Preictal"
   ]
  },
  {
   "cell_type": "code",
   "execution_count": 51,
   "metadata": {},
   "outputs": [],
   "source": [
    "# Seizure starts at 3477s in chb18_29 epoch\n",
    "\n",
    "seizure_onset = (total_dur - int(chb18_29_raw.n_times/256)) + 3477\n",
    "preictal_duration = 3600\n",
    "preictal_beginning = seizure_onset - preictal_duration\n",
    "\n",
    "preictal_sections.append(all_raws.copy().crop(tmin=preictal_beginning, tmax=seizure_onset, include_tmax=False))"
   ]
  },
  {
   "cell_type": "markdown",
   "metadata": {},
   "source": [
    "- Interictal"
   ]
  },
  {
   "cell_type": "code",
   "execution_count": 52,
   "metadata": {},
   "outputs": [],
   "source": [
    "interictal_distance = 14400\n",
    "interictal_beginning = seizure_onset - total_length\n",
    "interictal_ending = seizure_onset - interictal_distance\n",
    "\n",
    "interictal_sections.append(all_raws.copy().crop(tmin=interictal_beginning, tmax=interictal_ending, include_tmax=False))"
   ]
  },
  {
   "cell_type": "markdown",
   "metadata": {},
   "source": [
    "### Pt.21"
   ]
  },
  {
   "cell_type": "code",
   "execution_count": 53,
   "metadata": {},
   "outputs": [
    {
     "name": "stdout",
     "output_type": "stream",
     "text": [
      "Extracting EDF parameters from /home/npe/Documents/chb-mit-scalp-eeg-database-1.0.0/chb21/chb21_14.edf...\n",
      "EDF file detected\n",
      "Setting channel info structure...\n",
      "Creating raw.info structure...\n",
      "Extracting EDF parameters from /home/npe/Documents/chb-mit-scalp-eeg-database-1.0.0/chb21/chb21_15.edf...\n",
      "EDF file detected\n",
      "Setting channel info structure...\n",
      "Creating raw.info structure...\n",
      "Extracting EDF parameters from /home/npe/Documents/chb-mit-scalp-eeg-database-1.0.0/chb21/chb21_16.edf...\n",
      "EDF file detected\n",
      "Setting channel info structure...\n",
      "Creating raw.info structure...\n",
      "Extracting EDF parameters from /home/npe/Documents/chb-mit-scalp-eeg-database-1.0.0/chb21/chb21_17.edf...\n",
      "EDF file detected\n",
      "Setting channel info structure...\n",
      "Creating raw.info structure...\n"
     ]
    },
    {
     "name": "stderr",
     "output_type": "stream",
     "text": [
      "<ipython-input-53-cb1317f6e059>:8: RuntimeWarning: Channel names are not unique, found duplicates for: {'T8-P8', '-'}. Applying running numbers for duplicates.\n",
      "  chb21_14_raw = mne.io.read_raw_edf(path1)\n",
      "<ipython-input-53-cb1317f6e059>:8: RuntimeWarning: Scaling factor is not defined in following channels:\n",
      "--0, --1, --2, --3, --4\n",
      "  chb21_14_raw = mne.io.read_raw_edf(path1)\n",
      "<ipython-input-53-cb1317f6e059>:9: RuntimeWarning: Channel names are not unique, found duplicates for: {'T8-P8', '-'}. Applying running numbers for duplicates.\n",
      "  chb21_15_raw = mne.io.read_raw_edf(path2)\n",
      "<ipython-input-53-cb1317f6e059>:9: RuntimeWarning: Scaling factor is not defined in following channels:\n",
      "--0, --1, --2, --3, --4\n",
      "  chb21_15_raw = mne.io.read_raw_edf(path2)\n",
      "<ipython-input-53-cb1317f6e059>:10: RuntimeWarning: Channel names are not unique, found duplicates for: {'T8-P8', '-'}. Applying running numbers for duplicates.\n",
      "  chb21_16_raw = mne.io.read_raw_edf(path3)\n",
      "<ipython-input-53-cb1317f6e059>:10: RuntimeWarning: Scaling factor is not defined in following channels:\n",
      "--0, --1, --2, --3, --4\n",
      "  chb21_16_raw = mne.io.read_raw_edf(path3)\n",
      "<ipython-input-53-cb1317f6e059>:11: RuntimeWarning: Channel names are not unique, found duplicates for: {'T8-P8', '-'}. Applying running numbers for duplicates.\n",
      "  chb21_17_raw = mne.io.read_raw_edf(path4)\n",
      "<ipython-input-53-cb1317f6e059>:11: RuntimeWarning: Scaling factor is not defined in following channels:\n",
      "--0, --1, --2, --3, --4\n",
      "  chb21_17_raw = mne.io.read_raw_edf(path4)\n"
     ]
    },
    {
     "name": "stdout",
     "output_type": "stream",
     "text": [
      "Extracting EDF parameters from /home/npe/Documents/chb-mit-scalp-eeg-database-1.0.0/chb21/chb21_18.edf...\n",
      "EDF file detected\n",
      "Setting channel info structure...\n",
      "Creating raw.info structure...\n",
      "Extracting EDF parameters from /home/npe/Documents/chb-mit-scalp-eeg-database-1.0.0/chb21/chb21_19.edf...\n",
      "EDF file detected\n",
      "Setting channel info structure...\n",
      "Creating raw.info structure...\n"
     ]
    },
    {
     "name": "stderr",
     "output_type": "stream",
     "text": [
      "<ipython-input-53-cb1317f6e059>:12: RuntimeWarning: Channel names are not unique, found duplicates for: {'T8-P8', '-'}. Applying running numbers for duplicates.\n",
      "  chb21_18_raw = mne.io.read_raw_edf(path5)\n",
      "<ipython-input-53-cb1317f6e059>:12: RuntimeWarning: Scaling factor is not defined in following channels:\n",
      "--0, --1, --2, --3, --4\n",
      "  chb21_18_raw = mne.io.read_raw_edf(path5)\n",
      "<ipython-input-53-cb1317f6e059>:13: RuntimeWarning: Channel names are not unique, found duplicates for: {'T8-P8', '-'}. Applying running numbers for duplicates.\n",
      "  chb21_19_raw = mne.io.read_raw_edf(path6)\n",
      "<ipython-input-53-cb1317f6e059>:13: RuntimeWarning: Scaling factor is not defined in following channels:\n",
      "--0, --1, --2, --3, --4\n",
      "  chb21_19_raw = mne.io.read_raw_edf(path6)\n"
     ]
    }
   ],
   "source": [
    "path1 = \"/home/npe/Documents/chb-mit-scalp-eeg-database-1.0.0/chb21/chb21_14.edf\"\n",
    "path2 = \"/home/npe/Documents/chb-mit-scalp-eeg-database-1.0.0/chb21/chb21_15.edf\"\n",
    "path3 = \"/home/npe/Documents/chb-mit-scalp-eeg-database-1.0.0/chb21/chb21_16.edf\"\n",
    "path4 = \"/home/npe/Documents/chb-mit-scalp-eeg-database-1.0.0/chb21/chb21_17.edf\"\n",
    "path5 = \"/home/npe/Documents/chb-mit-scalp-eeg-database-1.0.0/chb21/chb21_18.edf\"\n",
    "path6 = \"/home/npe/Documents/chb-mit-scalp-eeg-database-1.0.0/chb21/chb21_19.edf\"\n",
    "\n",
    "chb21_14_raw = mne.io.read_raw_edf(path1)\n",
    "chb21_15_raw = mne.io.read_raw_edf(path2)\n",
    "chb21_16_raw = mne.io.read_raw_edf(path3)\n",
    "chb21_17_raw = mne.io.read_raw_edf(path4)\n",
    "chb21_18_raw = mne.io.read_raw_edf(path5)\n",
    "chb21_19_raw = mne.io.read_raw_edf(path6)"
   ]
  },
  {
   "cell_type": "code",
   "execution_count": 54,
   "metadata": {},
   "outputs": [
    {
     "name": "stdout",
     "output_type": "stream",
     "text": [
      "Extracting EDF parameters from /home/npe/Documents/chb-mit-scalp-eeg-database-1.0.0/chb21/chb21_14.edf...\n",
      "EDF file detected\n",
      "Setting channel info structure...\n",
      "Creating raw.info structure...\n"
     ]
    },
    {
     "name": "stderr",
     "output_type": "stream",
     "text": [
      "<ipython-input-54-9c087e5eb866>:4: RuntimeWarning: Channel names are not unique, found duplicates for: {'T8-P8', '-'}. Applying running numbers for duplicates.\n",
      "  chb21_14_raw = mne.io.read_raw_edf(path1)\n",
      "<ipython-input-54-9c087e5eb866>:4: RuntimeWarning: Scaling factor is not defined in following channels:\n",
      "--0, --1, --2, --3, --4\n",
      "  chb21_14_raw = mne.io.read_raw_edf(path1)\n"
     ]
    },
    {
     "data": {
      "text/plain": [
       "21599"
      ]
     },
     "execution_count": 54,
     "metadata": {},
     "output_type": "execute_result"
    }
   ],
   "source": [
    "# Concatenate all the loaded epochs for this seizure\n",
    "\n",
    "all_raws = mne.concatenate_raws([chb21_14_raw, chb21_15_raw, chb21_16_raw, chb21_17_raw, chb21_18_raw, chb21_19_raw],)\n",
    "chb21_14_raw = mne.io.read_raw_edf(path1)\n",
    "total_dur = int(all_raws.n_times/256)\n",
    "total_dur"
   ]
  },
  {
   "cell_type": "markdown",
   "metadata": {},
   "source": [
    "- Preictal"
   ]
  },
  {
   "cell_type": "code",
   "execution_count": 55,
   "metadata": {},
   "outputs": [],
   "source": [
    "# Seizure starts at 1288s in chb21_19 epoch\n",
    "\n",
    "seizure_onset = (total_dur - int(chb21_19_raw.n_times/256)) + 1288\n",
    "preictal_duration = 3600\n",
    "preictal_beginning = seizure_onset - preictal_duration\n",
    "\n",
    "preictal_sections.append(all_raws.copy().crop(tmin=preictal_beginning, tmax=seizure_onset, include_tmax=False))"
   ]
  },
  {
   "cell_type": "markdown",
   "metadata": {},
   "source": [
    "- Interictal"
   ]
  },
  {
   "cell_type": "code",
   "execution_count": 56,
   "metadata": {},
   "outputs": [],
   "source": [
    "interictal_distance = 14400\n",
    "interictal_beginning = seizure_onset - total_length\n",
    "interictal_ending = seizure_onset - interictal_distance\n",
    "\n",
    "interictal_sections.append(all_raws.copy().crop(tmin=interictal_beginning, tmax=interictal_ending, include_tmax=False))"
   ]
  },
  {
   "cell_type": "markdown",
   "metadata": {},
   "source": [
    "### Pt.22"
   ]
  },
  {
   "cell_type": "code",
   "execution_count": 57,
   "metadata": {},
   "outputs": [
    {
     "name": "stdout",
     "output_type": "stream",
     "text": [
      "Extracting EDF parameters from /home/npe/Documents/chb-mit-scalp-eeg-database-1.0.0/chb22/chb22_15.edf...\n",
      "EDF file detected\n",
      "Setting channel info structure...\n",
      "Creating raw.info structure...\n",
      "Extracting EDF parameters from /home/npe/Documents/chb-mit-scalp-eeg-database-1.0.0/chb22/chb22_16.edf...\n",
      "EDF file detected\n",
      "Setting channel info structure...\n",
      "Creating raw.info structure...\n",
      "Extracting EDF parameters from /home/npe/Documents/chb-mit-scalp-eeg-database-1.0.0/chb22/chb22_17.edf...\n",
      "EDF file detected\n",
      "Setting channel info structure...\n",
      "Creating raw.info structure...\n",
      "Extracting EDF parameters from /home/npe/Documents/chb-mit-scalp-eeg-database-1.0.0/chb22/chb22_18.edf...\n",
      "EDF file detected\n",
      "Setting channel info structure...\n",
      "Creating raw.info structure...\n"
     ]
    },
    {
     "name": "stderr",
     "output_type": "stream",
     "text": [
      "<ipython-input-57-36ac3f4198ba>:8: RuntimeWarning: Channel names are not unique, found duplicates for: {'T8-P8', '-'}. Applying running numbers for duplicates.\n",
      "  chb22_15_raw = mne.io.read_raw_edf(path1)\n",
      "<ipython-input-57-36ac3f4198ba>:9: RuntimeWarning: Channel names are not unique, found duplicates for: {'T8-P8', '-'}. Applying running numbers for duplicates.\n",
      "  chb22_16_raw = mne.io.read_raw_edf(path2)\n",
      "<ipython-input-57-36ac3f4198ba>:10: RuntimeWarning: Channel names are not unique, found duplicates for: {'T8-P8', '-'}. Applying running numbers for duplicates.\n",
      "  chb22_17_raw = mne.io.read_raw_edf(path3)\n",
      "<ipython-input-57-36ac3f4198ba>:11: RuntimeWarning: Channel names are not unique, found duplicates for: {'T8-P8', '-'}. Applying running numbers for duplicates.\n",
      "  chb22_18_raw = mne.io.read_raw_edf(path4)\n"
     ]
    },
    {
     "name": "stdout",
     "output_type": "stream",
     "text": [
      "Extracting EDF parameters from /home/npe/Documents/chb-mit-scalp-eeg-database-1.0.0/chb22/chb22_19.edf...\n",
      "EDF file detected\n",
      "Setting channel info structure...\n",
      "Creating raw.info structure...\n",
      "Extracting EDF parameters from /home/npe/Documents/chb-mit-scalp-eeg-database-1.0.0/chb22/chb22_20.edf...\n",
      "EDF file detected\n",
      "Setting channel info structure...\n",
      "Creating raw.info structure...\n"
     ]
    },
    {
     "name": "stderr",
     "output_type": "stream",
     "text": [
      "<ipython-input-57-36ac3f4198ba>:12: RuntimeWarning: Channel names are not unique, found duplicates for: {'T8-P8', '-'}. Applying running numbers for duplicates.\n",
      "  chb22_19_raw = mne.io.read_raw_edf(path5)\n",
      "<ipython-input-57-36ac3f4198ba>:13: RuntimeWarning: Channel names are not unique, found duplicates for: {'T8-P8', '-'}. Applying running numbers for duplicates.\n",
      "  chb22_20_raw = mne.io.read_raw_edf(path6)\n"
     ]
    }
   ],
   "source": [
    "path1 = \"/home/npe/Documents/chb-mit-scalp-eeg-database-1.0.0/chb22/chb22_15.edf\"\n",
    "path2 = \"/home/npe/Documents/chb-mit-scalp-eeg-database-1.0.0/chb22/chb22_16.edf\"\n",
    "path3 = \"/home/npe/Documents/chb-mit-scalp-eeg-database-1.0.0/chb22/chb22_17.edf\"\n",
    "path4 = \"/home/npe/Documents/chb-mit-scalp-eeg-database-1.0.0/chb22/chb22_18.edf\"\n",
    "path5 = \"/home/npe/Documents/chb-mit-scalp-eeg-database-1.0.0/chb22/chb22_19.edf\"\n",
    "path6 = \"/home/npe/Documents/chb-mit-scalp-eeg-database-1.0.0/chb22/chb22_20.edf\"\n",
    "\n",
    "chb22_15_raw = mne.io.read_raw_edf(path1)\n",
    "chb22_16_raw = mne.io.read_raw_edf(path2)\n",
    "chb22_17_raw = mne.io.read_raw_edf(path3)\n",
    "chb22_18_raw = mne.io.read_raw_edf(path4)\n",
    "chb22_19_raw = mne.io.read_raw_edf(path5)\n",
    "chb22_20_raw = mne.io.read_raw_edf(path6)"
   ]
  },
  {
   "cell_type": "code",
   "execution_count": 58,
   "metadata": {},
   "outputs": [
    {
     "name": "stdout",
     "output_type": "stream",
     "text": [
      "Extracting EDF parameters from /home/npe/Documents/chb-mit-scalp-eeg-database-1.0.0/chb22/chb22_15.edf...\n",
      "EDF file detected\n",
      "Setting channel info structure...\n",
      "Creating raw.info structure...\n"
     ]
    },
    {
     "name": "stderr",
     "output_type": "stream",
     "text": [
      "<ipython-input-58-a5598506b7dd>:4: RuntimeWarning: Channel names are not unique, found duplicates for: {'T8-P8', '-'}. Applying running numbers for duplicates.\n",
      "  chb22_15_raw = mne.io.read_raw_edf(path1)\n"
     ]
    },
    {
     "data": {
      "text/plain": [
       "21600"
      ]
     },
     "execution_count": 58,
     "metadata": {},
     "output_type": "execute_result"
    }
   ],
   "source": [
    "# Concatenate all the loaded epochs for this seizure\n",
    "\n",
    "all_raws = mne.concatenate_raws([chb22_15_raw, chb22_16_raw, chb22_17_raw, chb22_18_raw, chb22_19_raw, chb22_20_raw],)\n",
    "chb22_15_raw = mne.io.read_raw_edf(path1)\n",
    "total_dur = int(all_raws.n_times/256)\n",
    "total_dur"
   ]
  },
  {
   "cell_type": "markdown",
   "metadata": {},
   "source": [
    "- Preictal"
   ]
  },
  {
   "cell_type": "code",
   "execution_count": 59,
   "metadata": {},
   "outputs": [],
   "source": [
    "# Seizure starts at 3367s in chb22_20 epoch\n",
    "\n",
    "seizure_onset = (total_dur - int(chb22_20_raw.n_times/256)) + 3367\n",
    "preictal_duration = 3600\n",
    "preictal_beginning = seizure_onset - preictal_duration\n",
    "\n",
    "preictal_sections.append(all_raws.copy().crop(tmin=preictal_beginning, tmax=seizure_onset, include_tmax=False))"
   ]
  },
  {
   "cell_type": "markdown",
   "metadata": {},
   "source": [
    "- Interictal"
   ]
  },
  {
   "cell_type": "code",
   "execution_count": 60,
   "metadata": {},
   "outputs": [],
   "source": [
    "interictal_distance = 14400\n",
    "interictal_beginning = seizure_onset - total_length\n",
    "interictal_ending = seizure_onset - interictal_distance\n",
    "\n",
    "interictal_sections.append(all_raws.copy().crop(tmin=interictal_beginning, tmax=interictal_ending, include_tmax=False))"
   ]
  },
  {
   "cell_type": "code",
   "execution_count": null,
   "metadata": {},
   "outputs": [],
   "source": []
  },
  {
   "cell_type": "code",
   "execution_count": null,
   "metadata": {},
   "outputs": [],
   "source": []
  },
  {
   "cell_type": "code",
   "execution_count": 61,
   "metadata": {},
   "outputs": [],
   "source": [
    "preictal_sections = [i.to_data_frame() for i in preictal_sections]"
   ]
  },
  {
   "cell_type": "code",
   "execution_count": null,
   "metadata": {},
   "outputs": [],
   "source": [
    "interictal_sections = [i.to_data_frame() for i in interictal_sections]"
   ]
  },
  {
   "cell_type": "code",
   "execution_count": 66,
   "metadata": {},
   "outputs": [],
   "source": [
    "for i in range(len(preictal_sections)):\n",
    "    preictal_sections[i].to_csv('df' + str(i) + '.csv')"
   ]
  },
  {
   "cell_type": "code",
   "execution_count": 2,
   "metadata": {},
   "outputs": [
    {
     "name": "stdout",
     "output_type": "stream",
     "text": [
      "done\n",
      "done\n",
      "done\n",
      "done\n",
      "done\n",
      "done\n",
      "done\n",
      "done\n",
      "done\n",
      "done\n",
      "done\n",
      "done\n",
      "done\n",
      "done\n",
      "done\n",
      "done\n"
     ]
    }
   ],
   "source": [
    "u = []\n",
    "for i in range(16):\n",
    "    u.append(pd.read_csv('df' + str(i) + '.csv'))\n",
    "    print(str(i) + '  done')"
   ]
  },
  {
   "cell_type": "code",
   "execution_count": 63,
   "metadata": {},
   "outputs": [],
   "source": []
  },
  {
   "cell_type": "code",
   "execution_count": 67,
   "metadata": {},
   "outputs": [],
   "source": [
    "for i in range(len(interictal_sections)):\n",
    "    interictal_sections[i].to_csv('df_' + str(i) + '.csv')"
   ]
  },
  {
   "cell_type": "code",
   "execution_count": 3,
   "metadata": {},
   "outputs": [
    {
     "name": "stdout",
     "output_type": "stream",
     "text": [
      "0  done\n",
      "1  done\n",
      "2  done\n",
      "3  done\n",
      "4  done\n",
      "5  done\n",
      "6  done\n",
      "7  done\n",
      "8  done\n",
      "9  done\n",
      "10  done\n",
      "11  done\n",
      "12  done\n",
      "13  done\n",
      "14  done\n",
      "15  done\n"
     ]
    }
   ],
   "source": [
    "e = []\n",
    "for i in range(16):\n",
    "    e.append(pd.read_csv('df_' + str(i) + '.csv'))\n",
    "    print(str(i) + '  done')"
   ]
  },
  {
   "cell_type": "code",
   "execution_count": null,
   "metadata": {},
   "outputs": [],
   "source": [
    "preictal_sections = [i[['FP1-F7', 'F7-T7', 'T7-P7', 'P7-O1', 'FP1-F3', 'F3-C3', 'C3-P3', 'P3-O1', 'FP2-F4', 'F4-C4', 'C4-P4', 'P4-O2', 'FP2-F8', 'F8-T8', 'P8-O2', 'FZ-CZ', 'CZ-PZ']] for i in preictal_sections]"
   ]
  },
  {
   "cell_type": "code",
   "execution_count": 76,
   "metadata": {},
   "outputs": [],
   "source": [
    "# w = [list(i)[1:] for i in preictal_sections]\n",
    "# for i in range(len(w)):\n",
    "#     for j in w[i]:\n",
    "#         if j == 'T8-P8':\n",
    "#             print(i)"
   ]
  },
  {
   "cell_type": "code",
   "execution_count": 2,
   "metadata": {},
   "outputs": [],
   "source": []
  },
  {
   "cell_type": "code",
   "execution_count": 4,
   "metadata": {},
   "outputs": [
    {
     "data": {
      "text/html": [
       "<div>\n",
       "<style scoped>\n",
       "    .dataframe tbody tr th:only-of-type {\n",
       "        vertical-align: middle;\n",
       "    }\n",
       "\n",
       "    .dataframe tbody tr th {\n",
       "        vertical-align: top;\n",
       "    }\n",
       "\n",
       "    .dataframe thead th {\n",
       "        text-align: right;\n",
       "    }\n",
       "</style>\n",
       "<table border=\"1\" class=\"dataframe\">\n",
       "  <thead>\n",
       "    <tr style=\"text-align: right;\">\n",
       "      <th></th>\n",
       "      <th>Unnamed: 0</th>\n",
       "      <th>time</th>\n",
       "      <th>FP1-F7</th>\n",
       "      <th>F7-T7</th>\n",
       "      <th>T7-P7</th>\n",
       "      <th>P7-O1</th>\n",
       "      <th>FP1-F3</th>\n",
       "      <th>F3-C3</th>\n",
       "      <th>C3-P3</th>\n",
       "      <th>P3-O1</th>\n",
       "      <th>...</th>\n",
       "      <th>F8-T8</th>\n",
       "      <th>T8-P8-0</th>\n",
       "      <th>P8-O2</th>\n",
       "      <th>FZ-CZ</th>\n",
       "      <th>CZ-PZ</th>\n",
       "      <th>P7-T7</th>\n",
       "      <th>T7-FT9</th>\n",
       "      <th>FT9-FT10</th>\n",
       "      <th>FT10-T8</th>\n",
       "      <th>T8-P8-1</th>\n",
       "    </tr>\n",
       "  </thead>\n",
       "  <tbody>\n",
       "    <tr>\n",
       "      <th>0</th>\n",
       "      <td>0</td>\n",
       "      <td>0</td>\n",
       "      <td>-5.665446</td>\n",
       "      <td>0.976801</td>\n",
       "      <td>8.400488</td>\n",
       "      <td>46.300366</td>\n",
       "      <td>12.307692</td>\n",
       "      <td>-9.572650</td>\n",
       "      <td>13.479853</td>\n",
       "      <td>33.797314</td>\n",
       "      <td>...</td>\n",
       "      <td>2.930403</td>\n",
       "      <td>41.221001</td>\n",
       "      <td>-37.313797</td>\n",
       "      <td>-21.294261</td>\n",
       "      <td>16.605617</td>\n",
       "      <td>-8.009768</td>\n",
       "      <td>-0.586081</td>\n",
       "      <td>-4.884005</td>\n",
       "      <td>8.400488</td>\n",
       "      <td>41.221001</td>\n",
       "    </tr>\n",
       "    <tr>\n",
       "      <th>1</th>\n",
       "      <td>1</td>\n",
       "      <td>4</td>\n",
       "      <td>-6.056166</td>\n",
       "      <td>3.711844</td>\n",
       "      <td>15.433455</td>\n",
       "      <td>51.379731</td>\n",
       "      <td>10.354090</td>\n",
       "      <td>-2.148962</td>\n",
       "      <td>23.247863</td>\n",
       "      <td>32.625153</td>\n",
       "      <td>...</td>\n",
       "      <td>2.148962</td>\n",
       "      <td>46.691087</td>\n",
       "      <td>14.652015</td>\n",
       "      <td>-22.075702</td>\n",
       "      <td>22.857143</td>\n",
       "      <td>-15.042735</td>\n",
       "      <td>-5.274725</td>\n",
       "      <td>0.976801</td>\n",
       "      <td>8.009768</td>\n",
       "      <td>46.691087</td>\n",
       "    </tr>\n",
       "    <tr>\n",
       "      <th>2</th>\n",
       "      <td>2</td>\n",
       "      <td>8</td>\n",
       "      <td>-2.539683</td>\n",
       "      <td>4.884005</td>\n",
       "      <td>21.684982</td>\n",
       "      <td>57.240537</td>\n",
       "      <td>8.009768</td>\n",
       "      <td>7.619048</td>\n",
       "      <td>28.717949</td>\n",
       "      <td>35.360195</td>\n",
       "      <td>...</td>\n",
       "      <td>-11.526252</td>\n",
       "      <td>59.194139</td>\n",
       "      <td>104.126984</td>\n",
       "      <td>-21.684982</td>\n",
       "      <td>38.095238</td>\n",
       "      <td>-21.294261</td>\n",
       "      <td>-6.056166</td>\n",
       "      <td>-2.148962</td>\n",
       "      <td>1.758242</td>\n",
       "      <td>59.194139</td>\n",
       "    </tr>\n",
       "    <tr>\n",
       "      <th>3</th>\n",
       "      <td>3</td>\n",
       "      <td>12</td>\n",
       "      <td>2.148962</td>\n",
       "      <td>8.009768</td>\n",
       "      <td>28.717949</td>\n",
       "      <td>57.240537</td>\n",
       "      <td>9.572650</td>\n",
       "      <td>16.214896</td>\n",
       "      <td>35.360195</td>\n",
       "      <td>34.578755</td>\n",
       "      <td>...</td>\n",
       "      <td>-12.698413</td>\n",
       "      <td>56.459096</td>\n",
       "      <td>36.532357</td>\n",
       "      <td>-24.420024</td>\n",
       "      <td>50.598291</td>\n",
       "      <td>-28.327228</td>\n",
       "      <td>-6.446886</td>\n",
       "      <td>-0.586081</td>\n",
       "      <td>2.930403</td>\n",
       "      <td>56.459096</td>\n",
       "    </tr>\n",
       "    <tr>\n",
       "      <th>4</th>\n",
       "      <td>4</td>\n",
       "      <td>16</td>\n",
       "      <td>-1.367521</td>\n",
       "      <td>15.824176</td>\n",
       "      <td>32.234432</td>\n",
       "      <td>56.068376</td>\n",
       "      <td>8.009768</td>\n",
       "      <td>18.949939</td>\n",
       "      <td>37.704518</td>\n",
       "      <td>36.532357</td>\n",
       "      <td>...</td>\n",
       "      <td>0.195360</td>\n",
       "      <td>49.426129</td>\n",
       "      <td>-60.366300</td>\n",
       "      <td>-30.671551</td>\n",
       "      <td>51.770452</td>\n",
       "      <td>-31.843712</td>\n",
       "      <td>-15.042735</td>\n",
       "      <td>6.837607</td>\n",
       "      <td>14.652015</td>\n",
       "      <td>49.426129</td>\n",
       "    </tr>\n",
       "    <tr>\n",
       "      <th>...</th>\n",
       "      <td>...</td>\n",
       "      <td>...</td>\n",
       "      <td>...</td>\n",
       "      <td>...</td>\n",
       "      <td>...</td>\n",
       "      <td>...</td>\n",
       "      <td>...</td>\n",
       "      <td>...</td>\n",
       "      <td>...</td>\n",
       "      <td>...</td>\n",
       "      <td>...</td>\n",
       "      <td>...</td>\n",
       "      <td>...</td>\n",
       "      <td>...</td>\n",
       "      <td>...</td>\n",
       "      <td>...</td>\n",
       "      <td>...</td>\n",
       "      <td>...</td>\n",
       "      <td>...</td>\n",
       "      <td>...</td>\n",
       "      <td>...</td>\n",
       "    </tr>\n",
       "    <tr>\n",
       "      <th>921595</th>\n",
       "      <td>921595</td>\n",
       "      <td>3599980</td>\n",
       "      <td>94.749695</td>\n",
       "      <td>-7.619048</td>\n",
       "      <td>-45.128205</td>\n",
       "      <td>30.671551</td>\n",
       "      <td>-42.783883</td>\n",
       "      <td>102.954823</td>\n",
       "      <td>12.698413</td>\n",
       "      <td>-0.586081</td>\n",
       "      <td>...</td>\n",
       "      <td>174.065934</td>\n",
       "      <td>-47.863248</td>\n",
       "      <td>-56.459096</td>\n",
       "      <td>170.549451</td>\n",
       "      <td>18.168498</td>\n",
       "      <td>45.518926</td>\n",
       "      <td>58.412698</td>\n",
       "      <td>16.996337</td>\n",
       "      <td>90.061050</td>\n",
       "      <td>-47.863248</td>\n",
       "    </tr>\n",
       "    <tr>\n",
       "      <th>921596</th>\n",
       "      <td>921596</td>\n",
       "      <td>3599984</td>\n",
       "      <td>106.080586</td>\n",
       "      <td>-6.446886</td>\n",
       "      <td>-39.658120</td>\n",
       "      <td>33.406593</td>\n",
       "      <td>-30.671551</td>\n",
       "      <td>111.159951</td>\n",
       "      <td>17.387057</td>\n",
       "      <td>-4.884005</td>\n",
       "      <td>...</td>\n",
       "      <td>161.562882</td>\n",
       "      <td>-33.015873</td>\n",
       "      <td>-21.684982</td>\n",
       "      <td>183.443223</td>\n",
       "      <td>22.075702</td>\n",
       "      <td>40.048840</td>\n",
       "      <td>67.789988</td>\n",
       "      <td>8.791209</td>\n",
       "      <td>78.339438</td>\n",
       "      <td>-33.015873</td>\n",
       "    </tr>\n",
       "    <tr>\n",
       "      <th>921597</th>\n",
       "      <td>921597</td>\n",
       "      <td>3599988</td>\n",
       "      <td>117.802198</td>\n",
       "      <td>-3.321123</td>\n",
       "      <td>-36.141636</td>\n",
       "      <td>37.704518</td>\n",
       "      <td>-15.042735</td>\n",
       "      <td>122.490842</td>\n",
       "      <td>16.605617</td>\n",
       "      <td>-8.009768</td>\n",
       "      <td>...</td>\n",
       "      <td>152.967033</td>\n",
       "      <td>-17.777778</td>\n",
       "      <td>-0.976801</td>\n",
       "      <td>188.522589</td>\n",
       "      <td>27.545788</td>\n",
       "      <td>36.532357</td>\n",
       "      <td>70.915751</td>\n",
       "      <td>-2.148962</td>\n",
       "      <td>73.260073</td>\n",
       "      <td>-17.777778</td>\n",
       "    </tr>\n",
       "    <tr>\n",
       "      <th>921598</th>\n",
       "      <td>921598</td>\n",
       "      <td>3599992</td>\n",
       "      <td>121.318681</td>\n",
       "      <td>3.321123</td>\n",
       "      <td>-33.406593</td>\n",
       "      <td>42.002442</td>\n",
       "      <td>-1.367521</td>\n",
       "      <td>129.914530</td>\n",
       "      <td>13.479853</td>\n",
       "      <td>-8.009768</td>\n",
       "      <td>...</td>\n",
       "      <td>158.046398</td>\n",
       "      <td>-8.009768</td>\n",
       "      <td>-5.665446</td>\n",
       "      <td>188.131868</td>\n",
       "      <td>28.327228</td>\n",
       "      <td>33.797314</td>\n",
       "      <td>59.975580</td>\n",
       "      <td>-6.446886</td>\n",
       "      <td>84.200244</td>\n",
       "      <td>-8.009768</td>\n",
       "    </tr>\n",
       "    <tr>\n",
       "      <th>921599</th>\n",
       "      <td>921599</td>\n",
       "      <td>3599996</td>\n",
       "      <td>124.444444</td>\n",
       "      <td>7.619048</td>\n",
       "      <td>-27.936508</td>\n",
       "      <td>47.863248</td>\n",
       "      <td>11.135531</td>\n",
       "      <td>131.868132</td>\n",
       "      <td>13.870574</td>\n",
       "      <td>-4.884005</td>\n",
       "      <td>...</td>\n",
       "      <td>155.702076</td>\n",
       "      <td>4.493284</td>\n",
       "      <td>-3.321123</td>\n",
       "      <td>184.224664</td>\n",
       "      <td>32.234432</td>\n",
       "      <td>28.327228</td>\n",
       "      <td>52.551893</td>\n",
       "      <td>-8.400488</td>\n",
       "      <td>87.716728</td>\n",
       "      <td>4.493284</td>\n",
       "    </tr>\n",
       "  </tbody>\n",
       "</table>\n",
       "<p>921600 rows × 25 columns</p>\n",
       "</div>"
      ],
      "text/plain": [
       "        Unnamed: 0     time      FP1-F7      F7-T7      T7-P7      P7-O1  \\\n",
       "0                0        0   -5.665446   0.976801   8.400488  46.300366   \n",
       "1                1        4   -6.056166   3.711844  15.433455  51.379731   \n",
       "2                2        8   -2.539683   4.884005  21.684982  57.240537   \n",
       "3                3       12    2.148962   8.009768  28.717949  57.240537   \n",
       "4                4       16   -1.367521  15.824176  32.234432  56.068376   \n",
       "...            ...      ...         ...        ...        ...        ...   \n",
       "921595      921595  3599980   94.749695  -7.619048 -45.128205  30.671551   \n",
       "921596      921596  3599984  106.080586  -6.446886 -39.658120  33.406593   \n",
       "921597      921597  3599988  117.802198  -3.321123 -36.141636  37.704518   \n",
       "921598      921598  3599992  121.318681   3.321123 -33.406593  42.002442   \n",
       "921599      921599  3599996  124.444444   7.619048 -27.936508  47.863248   \n",
       "\n",
       "           FP1-F3       F3-C3      C3-P3      P3-O1  ...       F8-T8  \\\n",
       "0       12.307692   -9.572650  13.479853  33.797314  ...    2.930403   \n",
       "1       10.354090   -2.148962  23.247863  32.625153  ...    2.148962   \n",
       "2        8.009768    7.619048  28.717949  35.360195  ...  -11.526252   \n",
       "3        9.572650   16.214896  35.360195  34.578755  ...  -12.698413   \n",
       "4        8.009768   18.949939  37.704518  36.532357  ...    0.195360   \n",
       "...           ...         ...        ...        ...  ...         ...   \n",
       "921595 -42.783883  102.954823  12.698413  -0.586081  ...  174.065934   \n",
       "921596 -30.671551  111.159951  17.387057  -4.884005  ...  161.562882   \n",
       "921597 -15.042735  122.490842  16.605617  -8.009768  ...  152.967033   \n",
       "921598  -1.367521  129.914530  13.479853  -8.009768  ...  158.046398   \n",
       "921599  11.135531  131.868132  13.870574  -4.884005  ...  155.702076   \n",
       "\n",
       "          T8-P8-0       P8-O2       FZ-CZ      CZ-PZ      P7-T7     T7-FT9  \\\n",
       "0       41.221001  -37.313797  -21.294261  16.605617  -8.009768  -0.586081   \n",
       "1       46.691087   14.652015  -22.075702  22.857143 -15.042735  -5.274725   \n",
       "2       59.194139  104.126984  -21.684982  38.095238 -21.294261  -6.056166   \n",
       "3       56.459096   36.532357  -24.420024  50.598291 -28.327228  -6.446886   \n",
       "4       49.426129  -60.366300  -30.671551  51.770452 -31.843712 -15.042735   \n",
       "...           ...         ...         ...        ...        ...        ...   \n",
       "921595 -47.863248  -56.459096  170.549451  18.168498  45.518926  58.412698   \n",
       "921596 -33.015873  -21.684982  183.443223  22.075702  40.048840  67.789988   \n",
       "921597 -17.777778   -0.976801  188.522589  27.545788  36.532357  70.915751   \n",
       "921598  -8.009768   -5.665446  188.131868  28.327228  33.797314  59.975580   \n",
       "921599   4.493284   -3.321123  184.224664  32.234432  28.327228  52.551893   \n",
       "\n",
       "         FT9-FT10    FT10-T8    T8-P8-1  \n",
       "0       -4.884005   8.400488  41.221001  \n",
       "1        0.976801   8.009768  46.691087  \n",
       "2       -2.148962   1.758242  59.194139  \n",
       "3       -0.586081   2.930403  56.459096  \n",
       "4        6.837607  14.652015  49.426129  \n",
       "...           ...        ...        ...  \n",
       "921595  16.996337  90.061050 -47.863248  \n",
       "921596   8.791209  78.339438 -33.015873  \n",
       "921597  -2.148962  73.260073 -17.777778  \n",
       "921598  -6.446886  84.200244  -8.009768  \n",
       "921599  -8.400488  87.716728   4.493284  \n",
       "\n",
       "[921600 rows x 25 columns]"
      ]
     },
     "execution_count": 4,
     "metadata": {},
     "output_type": "execute_result"
    }
   ],
   "source": [
    "u[0]"
   ]
  },
  {
   "cell_type": "code",
   "execution_count": null,
   "metadata": {},
   "outputs": [],
   "source": []
  }
 ],
 "metadata": {
  "kernelspec": {
   "display_name": "Python 3",
   "language": "python",
   "name": "python3"
  },
  "language_info": {
   "codemirror_mode": {
    "name": "ipython",
    "version": 3
   },
   "file_extension": ".py",
   "mimetype": "text/x-python",
   "name": "python",
   "nbconvert_exporter": "python",
   "pygments_lexer": "ipython3",
   "version": "3.8.2"
  }
 },
 "nbformat": 4,
 "nbformat_minor": 4
}
