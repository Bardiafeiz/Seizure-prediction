{
 "cells": [
  {
   "cell_type": "code",
   "execution_count": 1,
   "metadata": {
    "scrolled": true
   },
   "outputs": [],
   "source": [
    "import mne\n",
    "import numpy as np\n",
    "from npy_append_array import NpyAppendArray\n",
    "import matplotlib.pyplot as plt\n",
    "import pickle\n",
    "import time\n",
    "from sklearn.decomposition import PCA\n",
    "import os"
   ]
  },
  {
   "cell_type": "code",
   "execution_count": 2,
   "metadata": {},
   "outputs": [],
   "source": [
    "def pca(channel_data):\n",
    "    number_of_data_points = len(channel_data)\n",
    "    x = channel_data\n",
    "    y = np.zeros(shape=(number_of_data_points - 1,))\n",
    "\n",
    "    for i in range(1, len(x)):\n",
    "        y[i-1] = x[i-1] - x[i]\n",
    "    \n",
    "    x = x[:-1]\n",
    "    \n",
    "    A = np.column_stack((x, y))\n",
    "    pca = PCA(2)\n",
    "    pca.fit(A)\n",
    "    B = pca.transform(A)\n",
    "    \n",
    "    return B"
   ]
  },
  {
   "cell_type": "code",
   "execution_count": 3,
   "metadata": {},
   "outputs": [],
   "source": [
    "class Seizure:\n",
    "    def __init__(self):\n",
    "        self.needed_epochs = []\n",
    "        self.onset = 0\n",
    "        \n",
    "    def __str__(self):\n",
    "        return f\"needed_epochs: {self.needed_epochs}\\nonset: {self.onset}\\n\""
   ]
  },
  {
   "cell_type": "markdown",
   "metadata": {},
   "source": [
    "# Classes Length : 30 min , Needed Interval : 300 min"
   ]
  },
  {
   "cell_type": "code",
   "execution_count": 2,
   "metadata": {},
   "outputs": [],
   "source": [
    "channels = [\"FP1-F7\", \"F7-T7\", \"T7-P7\", \"P7-O1\", \"FP1-F3\", \"F3-C3\", \n",
    "            \"C3-P3\", \"P3-O1\", \"FP2-F4\", \"F4-C4\", \"C4-P4\", \"P4-O2\", \n",
    "            \"FP2-F8\", \"F8-T8\", \"P8-O2\", \"FZ-CZ\", \"CZ-PZ\"]\n",
    "\n",
    "number_of_channels = len(channels)\n",
    "interval = 300 * 60\n",
    "classes_duration = 60 * 60\n",
    "number_of_classes = interval // classes_duration\n",
    "postictal_duration = 10 * 60\n",
    "segment_size = 5"
   ]
  },
  {
   "cell_type": "code",
   "execution_count": 5,
   "metadata": {},
   "outputs": [],
   "source": [
    "def get_datapoints(segment):\n",
    "    \n",
    "    data_points = np.zeros(shape=(len(channels), len(segment)))\n",
    "    \n",
    "    # Cleaning the raw data\n",
    "    for i in range(len(channels)):\n",
    "        data_points[i] = segment[i][0][0]\n",
    "    \n",
    "    return data_points"
   ]
  },
  {
   "cell_type": "code",
   "execution_count": 6,
   "metadata": {},
   "outputs": [],
   "source": [
    "def define_classes_in_interval(raw_interval, pt_number, counter):\n",
    "    start = 0\n",
    "    end = segment_size\n",
    "    init_counter = counter * (classes_duration//5)\n",
    "    counter = init_counter\n",
    "    _class = number_of_classes + 1\n",
    "    \n",
    "    while end < interval:\n",
    "        current_segment_datapoints = get_datapoints(raw_interval.copy().crop(tmin=start, tmax=end, include_tmax=False))\n",
    "        \n",
    "        # Saving\n",
    "        if start % classes_duration == 0:\n",
    "            _class -= 1\n",
    "            counter = init_counter\n",
    "            \n",
    "        np.save(f\"Data/Interval-300-classes-length-{classes_duration//60}/data-points/class-{_class}/pt{pt_number[-2:]}-class{_class}-{counter}-{classes_duration//60}min.npy\", current_segment_datapoints)\n",
    "        \n",
    "        start += segment_size\n",
    "        end += segment_size\n",
    "        counter += 1"
   ]
  },
  {
   "cell_type": "code",
   "execution_count": 7,
   "metadata": {},
   "outputs": [],
   "source": [
    "def load_raw_eeg(epoch_names, onset):\n",
    "    raw_data = []\n",
    "    pt_number = epoch_names[0][:5]\n",
    "    \n",
    "    for epoch_name in epoch_names:\n",
    "        raw_data.append(mne.io.read_raw_edf(f\"chb-mit-scalp-eeg-database-1.0.0/{pt_number}/{epoch_name}\", verbose=0))\n",
    "    \n",
    "    try:\n",
    "        all_raw_data = mne.concatenate_raws(raw_data,)\n",
    "        \n",
    "    except:\n",
    "        all_raw_data = mne.concatenate_raws([raw.load_data(verbose=0).pick_channels(channels) for raw in raw_data])\n",
    "    \n",
    "    \n",
    "    total_duration = len(all_raw_data)//256\n",
    "    \n",
    "    last_epoch_duration = len(raw_data[-1])//256\n",
    "    \n",
    "    interval_ending = (total_duration - last_epoch_duration) + onset\n",
    "    interval_begining = interval_ending - interval\n",
    "    \n",
    "    raw_interval = all_raw_data.copy().crop(tmin=interval_begining, tmax=interval_ending, include_tmax=False)\n",
    "    \n",
    "    return raw_interval.load_data(verbose=0).pick_channels(channels), pt_number"
   ]
  },
  {
   "cell_type": "markdown",
   "metadata": {},
   "source": [
    "## Loading Seizures Data"
   ]
  },
  {
   "cell_type": "code",
   "execution_count": 8,
   "metadata": {},
   "outputs": [],
   "source": [
    "seizures = []\n",
    "\n",
    "with open(\"Seizures Data.pkl\", 'rb') as f:\n",
    "    seizures = pickle.load(f) "
   ]
  },
  {
   "cell_type": "markdown",
   "metadata": {},
   "source": [
    "## Making Directories"
   ]
  },
  {
   "cell_type": "code",
   "execution_count": 6,
   "metadata": {},
   "outputs": [],
   "source": [
    "dirs = [\"data-points\", \"data-points-after-pca\", \"combined-channels-data\", \"cluster_centroids\"]"
   ]
  },
  {
   "cell_type": "code",
   "execution_count": 7,
   "metadata": {},
   "outputs": [],
   "source": [
    "# os.makedirs(f\"Data/Interval-300-classes-length-{classes_duration//60}/{dirs[0]}\")\n",
    "# os.makedirs(f\"Data/Interval-300-classes-length-{classes_duration//60}/{dirs[1]}\")\n",
    "os.makedirs(f\"Data/Interval-300-classes-length-{classes_duration//60}/{dirs[2]}\")\n",
    "os.makedirs(f\"Data/Interval-300-classes-length-{classes_duration//60}/{dirs[3]}\")"
   ]
  },
  {
   "cell_type": "code",
   "execution_count": 8,
   "metadata": {},
   "outputs": [],
   "source": [
    "for _dir in dirs[2:]:\n",
    "    for _class in range(1, number_of_classes + 1):\n",
    "        os.makedirs(f\"Data/Interval-300-classes-length-{classes_duration//60}/{_dir}/class-{_class}\")"
   ]
  },
  {
   "cell_type": "code",
   "execution_count": 9,
   "metadata": {},
   "outputs": [],
   "source": [
    "# for _class in range(1, number_of_classes + 1):    \n",
    "#     os.makedirs(f\"Data/Interval-300-classes-length-{classes_duration//60}/{dirs[2]}/class-{_class}\")"
   ]
  },
  {
   "cell_type": "markdown",
   "metadata": {},
   "source": [
    "## Converting Raw EEGs To Data Points"
   ]
  },
  {
   "cell_type": "code",
   "execution_count": 12,
   "metadata": {
    "scrolled": true
   },
   "outputs": [
    {
     "name": "stderr",
     "output_type": "stream",
     "text": [
      "<ipython-input-7-482e06fa0986>:6: RuntimeWarning: Channel names are not unique, found duplicates for: {'T8-P8'}. Applying running numbers for duplicates.\n",
      "  raw_data.append(mne.io.read_raw_edf(f\"chb-mit-scalp-eeg-database-1.0.0/{pt_number}/{epoch_name}\", verbose=0))\n",
      "<ipython-input-7-482e06fa0986>:6: RuntimeWarning: Channel names are not unique, found duplicates for: {'T8-P8'}. Applying running numbers for duplicates.\n",
      "  raw_data.append(mne.io.read_raw_edf(f\"chb-mit-scalp-eeg-database-1.0.0/{pt_number}/{epoch_name}\", verbose=0))\n",
      "<ipython-input-7-482e06fa0986>:6: RuntimeWarning: Channel names are not unique, found duplicates for: {'T8-P8'}. Applying running numbers for duplicates.\n",
      "  raw_data.append(mne.io.read_raw_edf(f\"chb-mit-scalp-eeg-database-1.0.0/{pt_number}/{epoch_name}\", verbose=0))\n",
      "<ipython-input-7-482e06fa0986>:6: RuntimeWarning: Channel names are not unique, found duplicates for: {'T8-P8'}. Applying running numbers for duplicates.\n",
      "  raw_data.append(mne.io.read_raw_edf(f\"chb-mit-scalp-eeg-database-1.0.0/{pt_number}/{epoch_name}\", verbose=0))\n",
      "<ipython-input-7-482e06fa0986>:6: RuntimeWarning: Channel names are not unique, found duplicates for: {'T8-P8'}. Applying running numbers for duplicates.\n",
      "  raw_data.append(mne.io.read_raw_edf(f\"chb-mit-scalp-eeg-database-1.0.0/{pt_number}/{epoch_name}\", verbose=0))\n",
      "<ipython-input-7-482e06fa0986>:6: RuntimeWarning: Channel names are not unique, found duplicates for: {'T8-P8'}. Applying running numbers for duplicates.\n",
      "  raw_data.append(mne.io.read_raw_edf(f\"chb-mit-scalp-eeg-database-1.0.0/{pt_number}/{epoch_name}\", verbose=0))\n"
     ]
    },
    {
     "name": "stdout",
     "output_type": "stream",
     "text": [
      "['chb01_10.edf', 'chb01_11.edf', 'chb01_12.edf', 'chb01_13.edf', 'chb01_14.edf', 'chb01_15.edf']\n",
      "830.3936710357666\n"
     ]
    },
    {
     "name": "stderr",
     "output_type": "stream",
     "text": [
      "<ipython-input-7-482e06fa0986>:6: RuntimeWarning: Channel names are not unique, found duplicates for: {'T8-P8'}. Applying running numbers for duplicates.\n",
      "  raw_data.append(mne.io.read_raw_edf(f\"chb-mit-scalp-eeg-database-1.0.0/{pt_number}/{epoch_name}\", verbose=0))\n",
      "<ipython-input-7-482e06fa0986>:6: RuntimeWarning: Channel names are not unique, found duplicates for: {'T8-P8'}. Applying running numbers for duplicates.\n",
      "  raw_data.append(mne.io.read_raw_edf(f\"chb-mit-scalp-eeg-database-1.0.0/{pt_number}/{epoch_name}\", verbose=0))\n",
      "<ipython-input-7-482e06fa0986>:6: RuntimeWarning: Channel names are not unique, found duplicates for: {'T8-P8'}. Applying running numbers for duplicates.\n",
      "  raw_data.append(mne.io.read_raw_edf(f\"chb-mit-scalp-eeg-database-1.0.0/{pt_number}/{epoch_name}\", verbose=0))\n",
      "<ipython-input-7-482e06fa0986>:6: RuntimeWarning: Channel names are not unique, found duplicates for: {'T8-P8'}. Applying running numbers for duplicates.\n",
      "  raw_data.append(mne.io.read_raw_edf(f\"chb-mit-scalp-eeg-database-1.0.0/{pt_number}/{epoch_name}\", verbose=0))\n",
      "<ipython-input-7-482e06fa0986>:6: RuntimeWarning: Channel names are not unique, found duplicates for: {'T8-P8'}. Applying running numbers for duplicates.\n",
      "  raw_data.append(mne.io.read_raw_edf(f\"chb-mit-scalp-eeg-database-1.0.0/{pt_number}/{epoch_name}\", verbose=0))\n",
      "<ipython-input-7-482e06fa0986>:6: RuntimeWarning: Channel names are not unique, found duplicates for: {'T8-P8'}. Applying running numbers for duplicates.\n",
      "  raw_data.append(mne.io.read_raw_edf(f\"chb-mit-scalp-eeg-database-1.0.0/{pt_number}/{epoch_name}\", verbose=0))\n"
     ]
    },
    {
     "name": "stdout",
     "output_type": "stream",
     "text": [
      "['chb01_21.edf', 'chb01_22.edf', 'chb01_23.edf', 'chb01_24.edf', 'chb01_25.edf', 'chb01_26.edf']\n",
      "795.2538945674896\n"
     ]
    },
    {
     "name": "stderr",
     "output_type": "stream",
     "text": [
      "<ipython-input-7-482e06fa0986>:6: RuntimeWarning: Channel names are not unique, found duplicates for: {'T8-P8'}. Applying running numbers for duplicates.\n",
      "  raw_data.append(mne.io.read_raw_edf(f\"chb-mit-scalp-eeg-database-1.0.0/{pt_number}/{epoch_name}\", verbose=0))\n",
      "<ipython-input-7-482e06fa0986>:6: RuntimeWarning: Channel names are not unique, found duplicates for: {'T8-P8'}. Applying running numbers for duplicates.\n",
      "  raw_data.append(mne.io.read_raw_edf(f\"chb-mit-scalp-eeg-database-1.0.0/{pt_number}/{epoch_name}\", verbose=0))\n"
     ]
    },
    {
     "name": "stdout",
     "output_type": "stream",
     "text": [
      "['chb04_04.edf', 'chb04_05.edf']\n",
      "790.6094114780426\n"
     ]
    },
    {
     "name": "stderr",
     "output_type": "stream",
     "text": [
      "<ipython-input-7-482e06fa0986>:6: RuntimeWarning: Channel names are not unique, found duplicates for: {'T8-P8'}. Applying running numbers for duplicates.\n",
      "  raw_data.append(mne.io.read_raw_edf(f\"chb-mit-scalp-eeg-database-1.0.0/{pt_number}/{epoch_name}\", verbose=0))\n",
      "<ipython-input-7-482e06fa0986>:6: RuntimeWarning: Channel names are not unique, found duplicates for: {'T8-P8'}. Applying running numbers for duplicates.\n",
      "  raw_data.append(mne.io.read_raw_edf(f\"chb-mit-scalp-eeg-database-1.0.0/{pt_number}/{epoch_name}\", verbose=0))\n",
      "<ipython-input-7-482e06fa0986>:6: RuntimeWarning: Channel names are not unique, found duplicates for: {'T8-P8'}. Applying running numbers for duplicates.\n",
      "  raw_data.append(mne.io.read_raw_edf(f\"chb-mit-scalp-eeg-database-1.0.0/{pt_number}/{epoch_name}\", verbose=0))\n"
     ]
    },
    {
     "name": "stdout",
     "output_type": "stream",
     "text": [
      "['chb04_06.edf', 'chb04_07.edf', 'chb04_08.edf']\n",
      "786.4744300842285\n"
     ]
    },
    {
     "name": "stderr",
     "output_type": "stream",
     "text": [
      "<ipython-input-7-482e06fa0986>:6: RuntimeWarning: Channel names are not unique, found duplicates for: {'T8-P8'}. Applying running numbers for duplicates.\n",
      "  raw_data.append(mne.io.read_raw_edf(f\"chb-mit-scalp-eeg-database-1.0.0/{pt_number}/{epoch_name}\", verbose=0))\n",
      "<ipython-input-7-482e06fa0986>:6: RuntimeWarning: Channel names are not unique, found duplicates for: {'T8-P8'}. Applying running numbers for duplicates.\n",
      "  raw_data.append(mne.io.read_raw_edf(f\"chb-mit-scalp-eeg-database-1.0.0/{pt_number}/{epoch_name}\", verbose=0))\n",
      "<ipython-input-7-482e06fa0986>:6: RuntimeWarning: Channel names are not unique, found duplicates for: {'T8-P8'}. Applying running numbers for duplicates.\n",
      "  raw_data.append(mne.io.read_raw_edf(f\"chb-mit-scalp-eeg-database-1.0.0/{pt_number}/{epoch_name}\", verbose=0))\n",
      "<ipython-input-7-482e06fa0986>:6: RuntimeWarning: Channel names are not unique, found duplicates for: {'T8-P8'}. Applying running numbers for duplicates.\n",
      "  raw_data.append(mne.io.read_raw_edf(f\"chb-mit-scalp-eeg-database-1.0.0/{pt_number}/{epoch_name}\", verbose=0))\n",
      "<ipython-input-7-482e06fa0986>:6: RuntimeWarning: Channel names are not unique, found duplicates for: {'T8-P8'}. Applying running numbers for duplicates.\n",
      "  raw_data.append(mne.io.read_raw_edf(f\"chb-mit-scalp-eeg-database-1.0.0/{pt_number}/{epoch_name}\", verbose=0))\n",
      "<ipython-input-7-482e06fa0986>:6: RuntimeWarning: Channel names are not unique, found duplicates for: {'T8-P8'}. Applying running numbers for duplicates.\n",
      "  raw_data.append(mne.io.read_raw_edf(f\"chb-mit-scalp-eeg-database-1.0.0/{pt_number}/{epoch_name}\", verbose=0))\n"
     ]
    },
    {
     "name": "stdout",
     "output_type": "stream",
     "text": [
      "['chb05_01.edf', 'chb05_02.edf', 'chb05_03.edf', 'chb05_04.edf', 'chb05_05.edf', 'chb05_06.edf']\n",
      "831.0507659912109\n"
     ]
    },
    {
     "name": "stderr",
     "output_type": "stream",
     "text": [
      "<ipython-input-7-482e06fa0986>:6: RuntimeWarning: Channel names are not unique, found duplicates for: {'T8-P8'}. Applying running numbers for duplicates.\n",
      "  raw_data.append(mne.io.read_raw_edf(f\"chb-mit-scalp-eeg-database-1.0.0/{pt_number}/{epoch_name}\", verbose=0))\n",
      "<ipython-input-7-482e06fa0986>:6: RuntimeWarning: Channel names are not unique, found duplicates for: {'T8-P8'}. Applying running numbers for duplicates.\n",
      "  raw_data.append(mne.io.read_raw_edf(f\"chb-mit-scalp-eeg-database-1.0.0/{pt_number}/{epoch_name}\", verbose=0))\n",
      "<ipython-input-7-482e06fa0986>:6: RuntimeWarning: Channel names are not unique, found duplicates for: {'T8-P8'}. Applying running numbers for duplicates.\n",
      "  raw_data.append(mne.io.read_raw_edf(f\"chb-mit-scalp-eeg-database-1.0.0/{pt_number}/{epoch_name}\", verbose=0))\n",
      "<ipython-input-7-482e06fa0986>:6: RuntimeWarning: Channel names are not unique, found duplicates for: {'T8-P8'}. Applying running numbers for duplicates.\n",
      "  raw_data.append(mne.io.read_raw_edf(f\"chb-mit-scalp-eeg-database-1.0.0/{pt_number}/{epoch_name}\", verbose=0))\n",
      "<ipython-input-7-482e06fa0986>:6: RuntimeWarning: Channel names are not unique, found duplicates for: {'T8-P8'}. Applying running numbers for duplicates.\n",
      "  raw_data.append(mne.io.read_raw_edf(f\"chb-mit-scalp-eeg-database-1.0.0/{pt_number}/{epoch_name}\", verbose=0))\n",
      "<ipython-input-7-482e06fa0986>:6: RuntimeWarning: Channel names are not unique, found duplicates for: {'T8-P8'}. Applying running numbers for duplicates.\n",
      "  raw_data.append(mne.io.read_raw_edf(f\"chb-mit-scalp-eeg-database-1.0.0/{pt_number}/{epoch_name}\", verbose=0))\n"
     ]
    },
    {
     "name": "stdout",
     "output_type": "stream",
     "text": [
      "['chb05_08.edf', 'chb05_09.edf', 'chb05_10.edf', 'chb05_11.edf', 'chb05_12.edf', 'chb05_13.edf']\n",
      "853.688218832016\n"
     ]
    },
    {
     "name": "stderr",
     "output_type": "stream",
     "text": [
      "<ipython-input-7-482e06fa0986>:6: RuntimeWarning: Channel names are not unique, found duplicates for: {'T8-P8'}. Applying running numbers for duplicates.\n",
      "  raw_data.append(mne.io.read_raw_edf(f\"chb-mit-scalp-eeg-database-1.0.0/{pt_number}/{epoch_name}\", verbose=0))\n",
      "<ipython-input-7-482e06fa0986>:6: RuntimeWarning: Channel names are not unique, found duplicates for: {'T8-P8'}. Applying running numbers for duplicates.\n",
      "  raw_data.append(mne.io.read_raw_edf(f\"chb-mit-scalp-eeg-database-1.0.0/{pt_number}/{epoch_name}\", verbose=0))\n",
      "<ipython-input-7-482e06fa0986>:6: RuntimeWarning: Channel names are not unique, found duplicates for: {'T8-P8'}. Applying running numbers for duplicates.\n",
      "  raw_data.append(mne.io.read_raw_edf(f\"chb-mit-scalp-eeg-database-1.0.0/{pt_number}/{epoch_name}\", verbose=0))\n"
     ]
    },
    {
     "name": "stdout",
     "output_type": "stream",
     "text": [
      "['chb06_02.edf', 'chb06_03.edf', 'chb06_04.edf']\n",
      "826.9307932853699\n"
     ]
    },
    {
     "name": "stderr",
     "output_type": "stream",
     "text": [
      "<ipython-input-7-482e06fa0986>:6: RuntimeWarning: Channel names are not unique, found duplicates for: {'T8-P8'}. Applying running numbers for duplicates.\n",
      "  raw_data.append(mne.io.read_raw_edf(f\"chb-mit-scalp-eeg-database-1.0.0/{pt_number}/{epoch_name}\", verbose=0))\n",
      "<ipython-input-7-482e06fa0986>:6: RuntimeWarning: Channel names are not unique, found duplicates for: {'T8-P8'}. Applying running numbers for duplicates.\n",
      "  raw_data.append(mne.io.read_raw_edf(f\"chb-mit-scalp-eeg-database-1.0.0/{pt_number}/{epoch_name}\", verbose=0))\n"
     ]
    },
    {
     "name": "stdout",
     "output_type": "stream",
     "text": [
      "['chb06_08.edf', 'chb06_09.edf']\n",
      "813.668468952179\n"
     ]
    },
    {
     "name": "stderr",
     "output_type": "stream",
     "text": [
      "<ipython-input-7-482e06fa0986>:6: RuntimeWarning: Channel names are not unique, found duplicates for: {'T8-P8'}. Applying running numbers for duplicates.\n",
      "  raw_data.append(mne.io.read_raw_edf(f\"chb-mit-scalp-eeg-database-1.0.0/{pt_number}/{epoch_name}\", verbose=0))\n",
      "<ipython-input-7-482e06fa0986>:6: RuntimeWarning: Channel names are not unique, found duplicates for: {'T8-P8'}. Applying running numbers for duplicates.\n",
      "  raw_data.append(mne.io.read_raw_edf(f\"chb-mit-scalp-eeg-database-1.0.0/{pt_number}/{epoch_name}\", verbose=0))\n",
      "<ipython-input-7-482e06fa0986>:6: RuntimeWarning: Channel names are not unique, found duplicates for: {'T8-P8'}. Applying running numbers for duplicates.\n",
      "  raw_data.append(mne.io.read_raw_edf(f\"chb-mit-scalp-eeg-database-1.0.0/{pt_number}/{epoch_name}\", verbose=0))\n"
     ]
    },
    {
     "name": "stdout",
     "output_type": "stream",
     "text": [
      "['chb06_10.edf', 'chb06_12.edf', 'chb06_13.edf']\n",
      "785.4542694091797\n"
     ]
    },
    {
     "name": "stderr",
     "output_type": "stream",
     "text": [
      "<ipython-input-7-482e06fa0986>:6: RuntimeWarning: Channel names are not unique, found duplicates for: {'T8-P8'}. Applying running numbers for duplicates.\n",
      "  raw_data.append(mne.io.read_raw_edf(f\"chb-mit-scalp-eeg-database-1.0.0/{pt_number}/{epoch_name}\", verbose=0))\n",
      "<ipython-input-7-482e06fa0986>:6: RuntimeWarning: Channel names are not unique, found duplicates for: {'T8-P8'}. Applying running numbers for duplicates.\n",
      "  raw_data.append(mne.io.read_raw_edf(f\"chb-mit-scalp-eeg-database-1.0.0/{pt_number}/{epoch_name}\", verbose=0))\n"
     ]
    },
    {
     "name": "stdout",
     "output_type": "stream",
     "text": [
      "['chb06_17.edf', 'chb06_18.edf']\n",
      "757.5955467224121\n"
     ]
    },
    {
     "name": "stderr",
     "output_type": "stream",
     "text": [
      "<ipython-input-7-482e06fa0986>:6: RuntimeWarning: Channel names are not unique, found duplicates for: {'T8-P8'}. Applying running numbers for duplicates.\n",
      "  raw_data.append(mne.io.read_raw_edf(f\"chb-mit-scalp-eeg-database-1.0.0/{pt_number}/{epoch_name}\", verbose=0))\n",
      "<ipython-input-7-482e06fa0986>:6: RuntimeWarning: Channel names are not unique, found duplicates for: {'T8-P8'}. Applying running numbers for duplicates.\n",
      "  raw_data.append(mne.io.read_raw_edf(f\"chb-mit-scalp-eeg-database-1.0.0/{pt_number}/{epoch_name}\", verbose=0))\n"
     ]
    },
    {
     "name": "stdout",
     "output_type": "stream",
     "text": [
      "['chb07_11.edf', 'chb07_12.edf']\n",
      "785.0499322414398\n"
     ]
    },
    {
     "name": "stderr",
     "output_type": "stream",
     "text": [
      "<ipython-input-7-482e06fa0986>:6: RuntimeWarning: Channel names are not unique, found duplicates for: {'T8-P8'}. Applying running numbers for duplicates.\n",
      "  raw_data.append(mne.io.read_raw_edf(f\"chb-mit-scalp-eeg-database-1.0.0/{pt_number}/{epoch_name}\", verbose=0))\n",
      "<ipython-input-7-482e06fa0986>:6: RuntimeWarning: Channel names are not unique, found duplicates for: {'T8-P8'}. Applying running numbers for duplicates.\n",
      "  raw_data.append(mne.io.read_raw_edf(f\"chb-mit-scalp-eeg-database-1.0.0/{pt_number}/{epoch_name}\", verbose=0))\n"
     ]
    },
    {
     "name": "stdout",
     "output_type": "stream",
     "text": [
      "['chb07_18.edf', 'chb07_19.edf']\n",
      "786.4230492115021\n"
     ]
    },
    {
     "name": "stderr",
     "output_type": "stream",
     "text": [
      "<ipython-input-7-482e06fa0986>:6: RuntimeWarning: Channel names are not unique, found duplicates for: {'T8-P8'}. Applying running numbers for duplicates.\n",
      "  raw_data.append(mne.io.read_raw_edf(f\"chb-mit-scalp-eeg-database-1.0.0/{pt_number}/{epoch_name}\", verbose=0))\n",
      "<ipython-input-7-482e06fa0986>:6: RuntimeWarning: Channel names are not unique, found duplicates for: {'T8-P8'}. Applying running numbers for duplicates.\n",
      "  raw_data.append(mne.io.read_raw_edf(f\"chb-mit-scalp-eeg-database-1.0.0/{pt_number}/{epoch_name}\", verbose=0))\n",
      "<ipython-input-7-482e06fa0986>:6: RuntimeWarning: Channel names are not unique, found duplicates for: {'T8-P8'}. Applying running numbers for duplicates.\n",
      "  raw_data.append(mne.io.read_raw_edf(f\"chb-mit-scalp-eeg-database-1.0.0/{pt_number}/{epoch_name}\", verbose=0))\n",
      "<ipython-input-7-482e06fa0986>:6: RuntimeWarning: Channel names are not unique, found duplicates for: {'T8-P8'}. Applying running numbers for duplicates.\n",
      "  raw_data.append(mne.io.read_raw_edf(f\"chb-mit-scalp-eeg-database-1.0.0/{pt_number}/{epoch_name}\", verbose=0))\n",
      "<ipython-input-7-482e06fa0986>:6: RuntimeWarning: Channel names are not unique, found duplicates for: {'T8-P8'}. Applying running numbers for duplicates.\n",
      "  raw_data.append(mne.io.read_raw_edf(f\"chb-mit-scalp-eeg-database-1.0.0/{pt_number}/{epoch_name}\", verbose=0))\n",
      "<ipython-input-7-482e06fa0986>:6: RuntimeWarning: Channel names are not unique, found duplicates for: {'T8-P8'}. Applying running numbers for duplicates.\n",
      "  raw_data.append(mne.io.read_raw_edf(f\"chb-mit-scalp-eeg-database-1.0.0/{pt_number}/{epoch_name}\", verbose=0))\n"
     ]
    },
    {
     "name": "stdout",
     "output_type": "stream",
     "text": [
      "['chb08_16.edf', 'chb08_17.edf', 'chb08_18.edf', 'chb08_19.edf', 'chb08_20.edf', 'chb08_21.edf']\n",
      "786.5367360115051\n"
     ]
    },
    {
     "name": "stderr",
     "output_type": "stream",
     "text": [
      "<ipython-input-7-482e06fa0986>:6: RuntimeWarning: Channel names are not unique, found duplicates for: {'T8-P8'}. Applying running numbers for duplicates.\n",
      "  raw_data.append(mne.io.read_raw_edf(f\"chb-mit-scalp-eeg-database-1.0.0/{pt_number}/{epoch_name}\", verbose=0))\n",
      "<ipython-input-7-482e06fa0986>:6: RuntimeWarning: Channel names are not unique, found duplicates for: {'T8-P8'}. Applying running numbers for duplicates.\n",
      "  raw_data.append(mne.io.read_raw_edf(f\"chb-mit-scalp-eeg-database-1.0.0/{pt_number}/{epoch_name}\", verbose=0))\n"
     ]
    },
    {
     "name": "stdout",
     "output_type": "stream",
     "text": [
      "['chb09_05.edf', 'chb09_06.edf']\n",
      "784.5239405632019\n"
     ]
    },
    {
     "name": "stderr",
     "output_type": "stream",
     "text": [
      "<ipython-input-7-482e06fa0986>:6: RuntimeWarning: Channel names are not unique, found duplicates for: {'T8-P8'}. Applying running numbers for duplicates.\n",
      "  raw_data.append(mne.io.read_raw_edf(f\"chb-mit-scalp-eeg-database-1.0.0/{pt_number}/{epoch_name}\", verbose=0))\n",
      "<ipython-input-7-482e06fa0986>:6: RuntimeWarning: Channel names are not unique, found duplicates for: {'T8-P8'}. Applying running numbers for duplicates.\n",
      "  raw_data.append(mne.io.read_raw_edf(f\"chb-mit-scalp-eeg-database-1.0.0/{pt_number}/{epoch_name}\", verbose=0))\n",
      "<ipython-input-7-482e06fa0986>:6: RuntimeWarning: Channel names are not unique, found duplicates for: {'T8-P8'}. Applying running numbers for duplicates.\n",
      "  raw_data.append(mne.io.read_raw_edf(f\"chb-mit-scalp-eeg-database-1.0.0/{pt_number}/{epoch_name}\", verbose=0))\n"
     ]
    },
    {
     "name": "stdout",
     "output_type": "stream",
     "text": [
      "['chb09_06.edf', 'chb09_07.edf', 'chb09_08.edf']\n",
      "783.775336265564\n"
     ]
    },
    {
     "name": "stderr",
     "output_type": "stream",
     "text": [
      "<ipython-input-7-482e06fa0986>:6: RuntimeWarning: Channel names are not unique, found duplicates for: {'T8-P8'}. Applying running numbers for duplicates.\n",
      "  raw_data.append(mne.io.read_raw_edf(f\"chb-mit-scalp-eeg-database-1.0.0/{pt_number}/{epoch_name}\", verbose=0))\n",
      "<ipython-input-7-482e06fa0986>:6: RuntimeWarning: Channel names are not unique, found duplicates for: {'T8-P8'}. Applying running numbers for duplicates.\n",
      "  raw_data.append(mne.io.read_raw_edf(f\"chb-mit-scalp-eeg-database-1.0.0/{pt_number}/{epoch_name}\", verbose=0))\n"
     ]
    },
    {
     "name": "stdout",
     "output_type": "stream",
     "text": [
      "['chb09_18.edf', 'chb09_19.edf']\n",
      "785.6117331981659\n"
     ]
    },
    {
     "name": "stderr",
     "output_type": "stream",
     "text": [
      "<ipython-input-7-482e06fa0986>:6: RuntimeWarning: Channel names are not unique, found duplicates for: {'T8-P8'}. Applying running numbers for duplicates.\n",
      "  raw_data.append(mne.io.read_raw_edf(f\"chb-mit-scalp-eeg-database-1.0.0/{pt_number}/{epoch_name}\", verbose=0))\n",
      "<ipython-input-7-482e06fa0986>:6: RuntimeWarning: Channel names are not unique, found duplicates for: {'T8-P8'}. Applying running numbers for duplicates.\n",
      "  raw_data.append(mne.io.read_raw_edf(f\"chb-mit-scalp-eeg-database-1.0.0/{pt_number}/{epoch_name}\", verbose=0))\n",
      "<ipython-input-7-482e06fa0986>:6: RuntimeWarning: Channel names are not unique, found duplicates for: {'T8-P8'}. Applying running numbers for duplicates.\n",
      "  raw_data.append(mne.io.read_raw_edf(f\"chb-mit-scalp-eeg-database-1.0.0/{pt_number}/{epoch_name}\", verbose=0))\n"
     ]
    },
    {
     "name": "stdout",
     "output_type": "stream",
     "text": [
      "['chb10_18.edf', 'chb10_19.edf', 'chb10_20.edf']\n",
      "762.4450867176056\n"
     ]
    },
    {
     "name": "stderr",
     "output_type": "stream",
     "text": [
      "<ipython-input-7-482e06fa0986>:6: RuntimeWarning: Channel names are not unique, found duplicates for: {'-'}. Applying running numbers for duplicates.\n",
      "  raw_data.append(mne.io.read_raw_edf(f\"chb-mit-scalp-eeg-database-1.0.0/{pt_number}/{epoch_name}\", verbose=0))\n",
      "<ipython-input-7-482e06fa0986>:6: RuntimeWarning: Scaling factor is not defined in following channels:\n",
      "--0, --1, --2, --3, --4\n",
      "  raw_data.append(mne.io.read_raw_edf(f\"chb-mit-scalp-eeg-database-1.0.0/{pt_number}/{epoch_name}\", verbose=0))\n",
      "<ipython-input-7-482e06fa0986>:6: RuntimeWarning: Channel names are not unique, found duplicates for: {'-', 'T8-P8'}. Applying running numbers for duplicates.\n",
      "  raw_data.append(mne.io.read_raw_edf(f\"chb-mit-scalp-eeg-database-1.0.0/{pt_number}/{epoch_name}\", verbose=0))\n",
      "<ipython-input-7-482e06fa0986>:6: RuntimeWarning: Scaling factor is not defined in following channels:\n",
      "--0, --1, --2, --3, --4, --5\n",
      "  raw_data.append(mne.io.read_raw_edf(f\"chb-mit-scalp-eeg-database-1.0.0/{pt_number}/{epoch_name}\", verbose=0))\n",
      "<ipython-input-7-482e06fa0986>:6: RuntimeWarning: Channel names are not unique, found duplicates for: {'-', 'T8-P8'}. Applying running numbers for duplicates.\n",
      "  raw_data.append(mne.io.read_raw_edf(f\"chb-mit-scalp-eeg-database-1.0.0/{pt_number}/{epoch_name}\", verbose=0))\n",
      "<ipython-input-7-482e06fa0986>:6: RuntimeWarning: Scaling factor is not defined in following channels:\n",
      "--0, --1, --2, --3, --4, --5\n",
      "  raw_data.append(mne.io.read_raw_edf(f\"chb-mit-scalp-eeg-database-1.0.0/{pt_number}/{epoch_name}\", verbose=0))\n",
      "<ipython-input-7-482e06fa0986>:6: RuntimeWarning: Channel names are not unique, found duplicates for: {'-', 'T8-P8'}. Applying running numbers for duplicates.\n",
      "  raw_data.append(mne.io.read_raw_edf(f\"chb-mit-scalp-eeg-database-1.0.0/{pt_number}/{epoch_name}\", verbose=0))\n",
      "<ipython-input-7-482e06fa0986>:6: RuntimeWarning: Scaling factor is not defined in following channels:\n",
      "--0, --1, --2, --3, --4, --5\n",
      "  raw_data.append(mne.io.read_raw_edf(f\"chb-mit-scalp-eeg-database-1.0.0/{pt_number}/{epoch_name}\", verbose=0))\n",
      "<ipython-input-7-482e06fa0986>:6: RuntimeWarning: Channel names are not unique, found duplicates for: {'-', 'T8-P8'}. Applying running numbers for duplicates.\n",
      "  raw_data.append(mne.io.read_raw_edf(f\"chb-mit-scalp-eeg-database-1.0.0/{pt_number}/{epoch_name}\", verbose=0))\n",
      "<ipython-input-7-482e06fa0986>:6: RuntimeWarning: Scaling factor is not defined in following channels:\n",
      "--0, --1, --2, --3, --4, --5\n",
      "  raw_data.append(mne.io.read_raw_edf(f\"chb-mit-scalp-eeg-database-1.0.0/{pt_number}/{epoch_name}\", verbose=0))\n",
      "<ipython-input-7-482e06fa0986>:6: RuntimeWarning: Channel names are not unique, found duplicates for: {'-', 'T8-P8'}. Applying running numbers for duplicates.\n",
      "  raw_data.append(mne.io.read_raw_edf(f\"chb-mit-scalp-eeg-database-1.0.0/{pt_number}/{epoch_name}\", verbose=0))\n",
      "<ipython-input-7-482e06fa0986>:6: RuntimeWarning: Scaling factor is not defined in following channels:\n",
      "--0, --1, --2, --3, --4, --5\n",
      "  raw_data.append(mne.io.read_raw_edf(f\"chb-mit-scalp-eeg-database-1.0.0/{pt_number}/{epoch_name}\", verbose=0))\n"
     ]
    },
    {
     "name": "stdout",
     "output_type": "stream",
     "text": [
      "['chb15_01.edf', 'chb15_02.edf', 'chb15_03.edf', 'chb15_04.edf', 'chb15_05.edf', 'chb15_06.edf']\n",
      "802.799688577652\n"
     ]
    },
    {
     "name": "stderr",
     "output_type": "stream",
     "text": [
      "<ipython-input-7-482e06fa0986>:6: RuntimeWarning: Channel names are not unique, found duplicates for: {'-', 'T8-P8'}. Applying running numbers for duplicates.\n",
      "  raw_data.append(mne.io.read_raw_edf(f\"chb-mit-scalp-eeg-database-1.0.0/{pt_number}/{epoch_name}\", verbose=0))\n",
      "<ipython-input-7-482e06fa0986>:6: RuntimeWarning: Scaling factor is not defined in following channels:\n",
      "--0, --1, --2, --3, --4, --5\n",
      "  raw_data.append(mne.io.read_raw_edf(f\"chb-mit-scalp-eeg-database-1.0.0/{pt_number}/{epoch_name}\", verbose=0))\n",
      "<ipython-input-7-482e06fa0986>:6: RuntimeWarning: Channel names are not unique, found duplicates for: {'-', 'T8-P8'}. Applying running numbers for duplicates.\n",
      "  raw_data.append(mne.io.read_raw_edf(f\"chb-mit-scalp-eeg-database-1.0.0/{pt_number}/{epoch_name}\", verbose=0))\n",
      "<ipython-input-7-482e06fa0986>:6: RuntimeWarning: Scaling factor is not defined in following channels:\n",
      "--0, --1, --2, --3, --4, --5\n",
      "  raw_data.append(mne.io.read_raw_edf(f\"chb-mit-scalp-eeg-database-1.0.0/{pt_number}/{epoch_name}\", verbose=0))\n",
      "<ipython-input-7-482e06fa0986>:6: RuntimeWarning: Channel names are not unique, found duplicates for: {'-', 'T8-P8'}. Applying running numbers for duplicates.\n",
      "  raw_data.append(mne.io.read_raw_edf(f\"chb-mit-scalp-eeg-database-1.0.0/{pt_number}/{epoch_name}\", verbose=0))\n",
      "<ipython-input-7-482e06fa0986>:6: RuntimeWarning: Scaling factor is not defined in following channels:\n",
      "--0, --1, --2, --3, --4, --5\n",
      "  raw_data.append(mne.io.read_raw_edf(f\"chb-mit-scalp-eeg-database-1.0.0/{pt_number}/{epoch_name}\", verbose=0))\n",
      "<ipython-input-7-482e06fa0986>:6: RuntimeWarning: Channel names are not unique, found duplicates for: {'-', 'T8-P8'}. Applying running numbers for duplicates.\n",
      "  raw_data.append(mne.io.read_raw_edf(f\"chb-mit-scalp-eeg-database-1.0.0/{pt_number}/{epoch_name}\", verbose=0))\n",
      "<ipython-input-7-482e06fa0986>:6: RuntimeWarning: Scaling factor is not defined in following channels:\n",
      "--0, --1, --2, --3, --4, --5\n",
      "  raw_data.append(mne.io.read_raw_edf(f\"chb-mit-scalp-eeg-database-1.0.0/{pt_number}/{epoch_name}\", verbose=0))\n",
      "<ipython-input-7-482e06fa0986>:6: RuntimeWarning: Channel names are not unique, found duplicates for: {'-', 'T8-P8'}. Applying running numbers for duplicates.\n",
      "  raw_data.append(mne.io.read_raw_edf(f\"chb-mit-scalp-eeg-database-1.0.0/{pt_number}/{epoch_name}\", verbose=0))\n",
      "<ipython-input-7-482e06fa0986>:6: RuntimeWarning: Scaling factor is not defined in following channels:\n",
      "--0, --1, --2, --3, --4, --5\n",
      "  raw_data.append(mne.io.read_raw_edf(f\"chb-mit-scalp-eeg-database-1.0.0/{pt_number}/{epoch_name}\", verbose=0))\n",
      "<ipython-input-7-482e06fa0986>:6: RuntimeWarning: Channel names are not unique, found duplicates for: {'-', 'T8-P8'}. Applying running numbers for duplicates.\n",
      "  raw_data.append(mne.io.read_raw_edf(f\"chb-mit-scalp-eeg-database-1.0.0/{pt_number}/{epoch_name}\", verbose=0))\n",
      "<ipython-input-7-482e06fa0986>:6: RuntimeWarning: Scaling factor is not defined in following channels:\n",
      "--0, --1, --2, --3, --4, --5\n",
      "  raw_data.append(mne.io.read_raw_edf(f\"chb-mit-scalp-eeg-database-1.0.0/{pt_number}/{epoch_name}\", verbose=0))\n"
     ]
    },
    {
     "name": "stdout",
     "output_type": "stream",
     "text": [
      "['chb15_10.edf', 'chb15_11.edf', 'chb15_12.edf', 'chb15_13.edf', 'chb15_14.edf', 'chb15_15.edf']\n",
      "775.8355560302734\n"
     ]
    },
    {
     "name": "stderr",
     "output_type": "stream",
     "text": [
      "<ipython-input-7-482e06fa0986>:6: RuntimeWarning: Channel names are not unique, found duplicates for: {'-', 'T8-P8'}. Applying running numbers for duplicates.\n",
      "  raw_data.append(mne.io.read_raw_edf(f\"chb-mit-scalp-eeg-database-1.0.0/{pt_number}/{epoch_name}\", verbose=0))\n",
      "<ipython-input-7-482e06fa0986>:6: RuntimeWarning: Scaling factor is not defined in following channels:\n",
      "--0, --1, --2, --3, --4\n",
      "  raw_data.append(mne.io.read_raw_edf(f\"chb-mit-scalp-eeg-database-1.0.0/{pt_number}/{epoch_name}\", verbose=0))\n",
      "<ipython-input-7-482e06fa0986>:6: RuntimeWarning: Channel names are not unique, found duplicates for: {'-', 'T8-P8'}. Applying running numbers for duplicates.\n",
      "  raw_data.append(mne.io.read_raw_edf(f\"chb-mit-scalp-eeg-database-1.0.0/{pt_number}/{epoch_name}\", verbose=0))\n",
      "<ipython-input-7-482e06fa0986>:6: RuntimeWarning: Scaling factor is not defined in following channels:\n",
      "--0, --1, --2, --3, --4\n",
      "  raw_data.append(mne.io.read_raw_edf(f\"chb-mit-scalp-eeg-database-1.0.0/{pt_number}/{epoch_name}\", verbose=0))\n",
      "<ipython-input-7-482e06fa0986>:6: RuntimeWarning: Channel names are not unique, found duplicates for: {'-', 'T8-P8'}. Applying running numbers for duplicates.\n",
      "  raw_data.append(mne.io.read_raw_edf(f\"chb-mit-scalp-eeg-database-1.0.0/{pt_number}/{epoch_name}\", verbose=0))\n",
      "<ipython-input-7-482e06fa0986>:6: RuntimeWarning: Scaling factor is not defined in following channels:\n",
      "--0, --1, --2, --3, --4\n",
      "  raw_data.append(mne.io.read_raw_edf(f\"chb-mit-scalp-eeg-database-1.0.0/{pt_number}/{epoch_name}\", verbose=0))\n",
      "<ipython-input-7-482e06fa0986>:6: RuntimeWarning: Channel names are not unique, found duplicates for: {'-', 'T8-P8'}. Applying running numbers for duplicates.\n",
      "  raw_data.append(mne.io.read_raw_edf(f\"chb-mit-scalp-eeg-database-1.0.0/{pt_number}/{epoch_name}\", verbose=0))\n",
      "<ipython-input-7-482e06fa0986>:6: RuntimeWarning: Scaling factor is not defined in following channels:\n",
      "--0, --1, --2, --3, --4\n",
      "  raw_data.append(mne.io.read_raw_edf(f\"chb-mit-scalp-eeg-database-1.0.0/{pt_number}/{epoch_name}\", verbose=0))\n",
      "<ipython-input-7-482e06fa0986>:6: RuntimeWarning: Channel names are not unique, found duplicates for: {'-', 'T8-P8'}. Applying running numbers for duplicates.\n",
      "  raw_data.append(mne.io.read_raw_edf(f\"chb-mit-scalp-eeg-database-1.0.0/{pt_number}/{epoch_name}\", verbose=0))\n",
      "<ipython-input-7-482e06fa0986>:6: RuntimeWarning: Scaling factor is not defined in following channels:\n",
      "--0, --1, --2, --3, --4\n",
      "  raw_data.append(mne.io.read_raw_edf(f\"chb-mit-scalp-eeg-database-1.0.0/{pt_number}/{epoch_name}\", verbose=0))\n",
      "<ipython-input-7-482e06fa0986>:6: RuntimeWarning: Channel names are not unique, found duplicates for: {'-', 'T8-P8'}. Applying running numbers for duplicates.\n",
      "  raw_data.append(mne.io.read_raw_edf(f\"chb-mit-scalp-eeg-database-1.0.0/{pt_number}/{epoch_name}\", verbose=0))\n",
      "<ipython-input-7-482e06fa0986>:6: RuntimeWarning: Scaling factor is not defined in following channels:\n",
      "--0, --1, --2, --3, --4\n",
      "  raw_data.append(mne.io.read_raw_edf(f\"chb-mit-scalp-eeg-database-1.0.0/{pt_number}/{epoch_name}\", verbose=0))\n"
     ]
    },
    {
     "name": "stdout",
     "output_type": "stream",
     "text": [
      "['chb16_05.edf', 'chb16_06.edf', 'chb16_07.edf', 'chb16_08.edf', 'chb16_09.edf', 'chb16_10.edf']\n",
      "761.999321937561\n"
     ]
    },
    {
     "name": "stderr",
     "output_type": "stream",
     "text": [
      "<ipython-input-7-482e06fa0986>:6: RuntimeWarning: Channel names are not unique, found duplicates for: {'T8-P8', '.'}. Applying running numbers for duplicates.\n",
      "  raw_data.append(mne.io.read_raw_edf(f\"chb-mit-scalp-eeg-database-1.0.0/{pt_number}/{epoch_name}\", verbose=0))\n",
      "<ipython-input-7-482e06fa0986>:6: RuntimeWarning: Channel names are not unique, found duplicates for: {'T8-P8', '.'}. Applying running numbers for duplicates.\n",
      "  raw_data.append(mne.io.read_raw_edf(f\"chb-mit-scalp-eeg-database-1.0.0/{pt_number}/{epoch_name}\", verbose=0))\n",
      "<ipython-input-7-482e06fa0986>:6: RuntimeWarning: Channel names are not unique, found duplicates for: {'T8-P8', '.'}. Applying running numbers for duplicates.\n",
      "  raw_data.append(mne.io.read_raw_edf(f\"chb-mit-scalp-eeg-database-1.0.0/{pt_number}/{epoch_name}\", verbose=0))\n",
      "<ipython-input-7-482e06fa0986>:6: RuntimeWarning: Channel names are not unique, found duplicates for: {'T8-P8', '.'}. Applying running numbers for duplicates.\n",
      "  raw_data.append(mne.io.read_raw_edf(f\"chb-mit-scalp-eeg-database-1.0.0/{pt_number}/{epoch_name}\", verbose=0))\n",
      "<ipython-input-7-482e06fa0986>:6: RuntimeWarning: Channel names are not unique, found duplicates for: {'T8-P8', '.'}. Applying running numbers for duplicates.\n",
      "  raw_data.append(mne.io.read_raw_edf(f\"chb-mit-scalp-eeg-database-1.0.0/{pt_number}/{epoch_name}\", verbose=0))\n",
      "<ipython-input-7-482e06fa0986>:6: RuntimeWarning: Channel names are not unique, found duplicates for: {'T8-P8', '.'}. Applying running numbers for duplicates.\n",
      "  raw_data.append(mne.io.read_raw_edf(f\"chb-mit-scalp-eeg-database-1.0.0/{pt_number}/{epoch_name}\", verbose=0))\n"
     ]
    },
    {
     "name": "stdout",
     "output_type": "stream",
     "text": [
      "['chb18_24.edf', 'chb18_25.edf', 'chb18_26.edf', 'chb18_27.edf', 'chb18_28.edf', 'chb18_29.edf']\n",
      "768.8192284107208\n"
     ]
    },
    {
     "name": "stderr",
     "output_type": "stream",
     "text": [
      "<ipython-input-7-482e06fa0986>:6: RuntimeWarning: Channel names are not unique, found duplicates for: {'-', 'T8-P8'}. Applying running numbers for duplicates.\n",
      "  raw_data.append(mne.io.read_raw_edf(f\"chb-mit-scalp-eeg-database-1.0.0/{pt_number}/{epoch_name}\", verbose=0))\n",
      "<ipython-input-7-482e06fa0986>:6: RuntimeWarning: Scaling factor is not defined in following channels:\n",
      "--0, --1, --2, --3, --4\n",
      "  raw_data.append(mne.io.read_raw_edf(f\"chb-mit-scalp-eeg-database-1.0.0/{pt_number}/{epoch_name}\", verbose=0))\n",
      "<ipython-input-7-482e06fa0986>:6: RuntimeWarning: Channel names are not unique, found duplicates for: {'-', 'T8-P8'}. Applying running numbers for duplicates.\n",
      "  raw_data.append(mne.io.read_raw_edf(f\"chb-mit-scalp-eeg-database-1.0.0/{pt_number}/{epoch_name}\", verbose=0))\n",
      "<ipython-input-7-482e06fa0986>:6: RuntimeWarning: Scaling factor is not defined in following channels:\n",
      "--0, --1, --2, --3, --4\n",
      "  raw_data.append(mne.io.read_raw_edf(f\"chb-mit-scalp-eeg-database-1.0.0/{pt_number}/{epoch_name}\", verbose=0))\n",
      "<ipython-input-7-482e06fa0986>:6: RuntimeWarning: Channel names are not unique, found duplicates for: {'-', 'T8-P8'}. Applying running numbers for duplicates.\n",
      "  raw_data.append(mne.io.read_raw_edf(f\"chb-mit-scalp-eeg-database-1.0.0/{pt_number}/{epoch_name}\", verbose=0))\n",
      "<ipython-input-7-482e06fa0986>:6: RuntimeWarning: Scaling factor is not defined in following channels:\n",
      "--0, --1, --2, --3, --4\n",
      "  raw_data.append(mne.io.read_raw_edf(f\"chb-mit-scalp-eeg-database-1.0.0/{pt_number}/{epoch_name}\", verbose=0))\n",
      "<ipython-input-7-482e06fa0986>:6: RuntimeWarning: Channel names are not unique, found duplicates for: {'-', 'T8-P8'}. Applying running numbers for duplicates.\n",
      "  raw_data.append(mne.io.read_raw_edf(f\"chb-mit-scalp-eeg-database-1.0.0/{pt_number}/{epoch_name}\", verbose=0))\n",
      "<ipython-input-7-482e06fa0986>:6: RuntimeWarning: Scaling factor is not defined in following channels:\n",
      "--0, --1, --2, --3, --4\n",
      "  raw_data.append(mne.io.read_raw_edf(f\"chb-mit-scalp-eeg-database-1.0.0/{pt_number}/{epoch_name}\", verbose=0))\n",
      "<ipython-input-7-482e06fa0986>:6: RuntimeWarning: Channel names are not unique, found duplicates for: {'-', 'T8-P8'}. Applying running numbers for duplicates.\n",
      "  raw_data.append(mne.io.read_raw_edf(f\"chb-mit-scalp-eeg-database-1.0.0/{pt_number}/{epoch_name}\", verbose=0))\n",
      "<ipython-input-7-482e06fa0986>:6: RuntimeWarning: Scaling factor is not defined in following channels:\n",
      "--0, --1, --2, --3, --4\n",
      "  raw_data.append(mne.io.read_raw_edf(f\"chb-mit-scalp-eeg-database-1.0.0/{pt_number}/{epoch_name}\", verbose=0))\n",
      "<ipython-input-7-482e06fa0986>:6: RuntimeWarning: Channel names are not unique, found duplicates for: {'-', 'T8-P8'}. Applying running numbers for duplicates.\n",
      "  raw_data.append(mne.io.read_raw_edf(f\"chb-mit-scalp-eeg-database-1.0.0/{pt_number}/{epoch_name}\", verbose=0))\n",
      "<ipython-input-7-482e06fa0986>:6: RuntimeWarning: Scaling factor is not defined in following channels:\n",
      "--0, --1, --2, --3, --4\n",
      "  raw_data.append(mne.io.read_raw_edf(f\"chb-mit-scalp-eeg-database-1.0.0/{pt_number}/{epoch_name}\", verbose=0))\n"
     ]
    },
    {
     "name": "stdout",
     "output_type": "stream",
     "text": [
      "['chb21_14.edf', 'chb21_15.edf', 'chb21_16.edf', 'chb21_17.edf', 'chb21_18.edf', 'chb21_19.edf']\n",
      "775.9495768547058\n"
     ]
    },
    {
     "name": "stderr",
     "output_type": "stream",
     "text": [
      "<ipython-input-7-482e06fa0986>:6: RuntimeWarning: Channel names are not unique, found duplicates for: {'-', 'T8-P8'}. Applying running numbers for duplicates.\n",
      "  raw_data.append(mne.io.read_raw_edf(f\"chb-mit-scalp-eeg-database-1.0.0/{pt_number}/{epoch_name}\", verbose=0))\n",
      "<ipython-input-7-482e06fa0986>:6: RuntimeWarning: Channel names are not unique, found duplicates for: {'-', 'T8-P8'}. Applying running numbers for duplicates.\n",
      "  raw_data.append(mne.io.read_raw_edf(f\"chb-mit-scalp-eeg-database-1.0.0/{pt_number}/{epoch_name}\", verbose=0))\n",
      "<ipython-input-7-482e06fa0986>:6: RuntimeWarning: Channel names are not unique, found duplicates for: {'-', 'T8-P8'}. Applying running numbers for duplicates.\n",
      "  raw_data.append(mne.io.read_raw_edf(f\"chb-mit-scalp-eeg-database-1.0.0/{pt_number}/{epoch_name}\", verbose=0))\n",
      "<ipython-input-7-482e06fa0986>:6: RuntimeWarning: Channel names are not unique, found duplicates for: {'-', 'T8-P8'}. Applying running numbers for duplicates.\n",
      "  raw_data.append(mne.io.read_raw_edf(f\"chb-mit-scalp-eeg-database-1.0.0/{pt_number}/{epoch_name}\", verbose=0))\n",
      "<ipython-input-7-482e06fa0986>:6: RuntimeWarning: Channel names are not unique, found duplicates for: {'-', 'T8-P8'}. Applying running numbers for duplicates.\n",
      "  raw_data.append(mne.io.read_raw_edf(f\"chb-mit-scalp-eeg-database-1.0.0/{pt_number}/{epoch_name}\", verbose=0))\n",
      "<ipython-input-7-482e06fa0986>:6: RuntimeWarning: Channel names are not unique, found duplicates for: {'-', 'T8-P8'}. Applying running numbers for duplicates.\n",
      "  raw_data.append(mne.io.read_raw_edf(f\"chb-mit-scalp-eeg-database-1.0.0/{pt_number}/{epoch_name}\", verbose=0))\n"
     ]
    },
    {
     "name": "stdout",
     "output_type": "stream",
     "text": [
      "['chb22_15.edf', 'chb22_16.edf', 'chb22_17.edf', 'chb22_18.edf', 'chb22_19.edf', 'chb22_20.edf']\n",
      "822.5469214916229\n"
     ]
    }
   ],
   "source": [
    "counter = 0\n",
    "\n",
    "for seizure in seizures:\n",
    "    t1 = time.time()\n",
    "    raw_interval, pt_number = load_raw_eeg(seizure.needed_epochs[::-1], seizure.onset)\n",
    "    define_classes_in_interval(raw_interval, pt_number, counter)\n",
    "    \n",
    "    print(seizure.needed_epochs[::-1])\n",
    "    t2 = time.time()\n",
    "    print(t2 - t1)\n",
    "    counter += 1\n",
    "    "
   ]
  },
  {
   "cell_type": "code",
   "execution_count": 3,
   "metadata": {},
   "outputs": [],
   "source": [
    "datapoints_path = f\"Data/Interval-300-classes-length-{classes_duration//60}/data-points\"\n",
    "datapoints_after_pca_path = f\"Data/Interval-300-classes-length-{classes_duration//60}/data-points-after-pca\"\n",
    "combined_channels_data = f\"Data/Interval-300-classes-length-{classes_duration//60}/combined-channels-data\""
   ]
  },
  {
   "cell_type": "markdown",
   "metadata": {},
   "source": [
    "# Saving Data After Performing PCA"
   ]
  },
  {
   "cell_type": "code",
   "execution_count": 12,
   "metadata": {},
   "outputs": [
    {
     "data": {
      "text/plain": [
       "5388.920633792877"
      ]
     },
     "execution_count": 12,
     "metadata": {},
     "output_type": "execute_result"
    }
   ],
   "source": [
    "t1 = time.time()\n",
    "\n",
    "for _class in range(1, number_of_classes + 1):\n",
    "    current_class_path = f\"{datapoints_path}/class-{_class}\"\n",
    "    current_class_list = os.listdir(current_class_path)\n",
    "    \n",
    "    for file in current_class_list:\n",
    "        current_class_data = np.load(current_class_path + '/' + file)\n",
    "\n",
    "        channels_data_after_pca = []\n",
    "        for channel_data in current_class_data:\n",
    "            pca_result = pca(channel_data)\n",
    "            channels_data_after_pca.append(pca_result)\n",
    "\n",
    "        np.save(f\"{datapoints_after_pca_path}/class-{_class}/{file}\", channels_data_after_pca)\n",
    "\n",
    "t2 = time.time()\n",
    "t2 - t1"
   ]
  },
  {
   "cell_type": "markdown",
   "metadata": {},
   "source": [
    "# Combining All The Data For Each Channel"
   ]
  },
  {
   "cell_type": "code",
   "execution_count": null,
   "metadata": {},
   "outputs": [
    {
     "name": "stdout",
     "output_type": "stream",
     "text": [
      "done\n",
      "done\n",
      "done\n",
      "done\n"
     ]
    }
   ],
   "source": [
    "for _class in range(1, number_of_classes + 1):   \n",
    "    current_class_path = f\"{datapoints_after_pca_path}/class-{_class}\"\n",
    "    current_class_list = os.listdir(current_class_path)\n",
    "\n",
    "    for file in current_class_list:\n",
    "        current_file = np.load(f\"{current_class_path}/{file}\")\n",
    "\n",
    "        for i in range(number_of_channels):\n",
    "            npa = NpyAppendArray(f\"{combined_channels_data}/class-{_class}/channel_{i}.npy\")\n",
    "            npa.append(current_file[i])\n",
    "            \n",
    "    print('done')"
   ]
  },
  {
   "cell_type": "code",
   "execution_count": 13,
   "metadata": {},
   "outputs": [
    {
     "name": "stdout",
     "output_type": "stream",
     "text": [
      "0\n"
     ]
    }
   ],
   "source": [
    "for i in range(1):\n",
    "    print(i)"
   ]
  },
  {
   "cell_type": "code",
   "execution_count": null,
   "metadata": {},
   "outputs": [],
   "source": []
  }
 ],
 "metadata": {
  "kernelspec": {
   "display_name": "Python 3",
   "language": "python",
   "name": "python3"
  },
  "language_info": {
   "codemirror_mode": {
    "name": "ipython",
    "version": 3
   },
   "file_extension": ".py",
   "mimetype": "text/x-python",
   "name": "python",
   "nbconvert_exporter": "python",
   "pygments_lexer": "ipython3",
   "version": "3.8.10"
  }
 },
 "nbformat": 4,
 "nbformat_minor": 4
}
