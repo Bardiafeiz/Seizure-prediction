{
 "cells": [
  {
   "cell_type": "code",
   "execution_count": 1,
   "metadata": {},
   "outputs": [],
   "source": [
    "import os\n",
    "import re\n",
    "import arrow\n",
    "import pickle"
   ]
  },
  {
   "cell_type": "code",
   "execution_count": 2,
   "metadata": {},
   "outputs": [],
   "source": [
    "def format_time(time):\n",
    "    time = time.split(\":\")\n",
    "    time = [t.zfill(2) for t in time]\n",
    "    time = \":\".join(time)\n",
    "    \n",
    "    if not \"00\" <= time[:2] <= \"23\":\n",
    "        hh = int(time[:2]) - 24\n",
    "        hh = str(hh).zfill(2)\n",
    "        time = list(time)\n",
    "        time[:2] = hh\n",
    "        time = \"\".join(time)\n",
    "        \n",
    "    return time"
   ]
  },
  {
   "cell_type": "code",
   "execution_count": 3,
   "metadata": {},
   "outputs": [],
   "source": [
    "def is_consecutive(epoch1, epoch2):\n",
    "    name1 = epoch1.name\n",
    "    name2 = epoch2.name\n",
    "    end1 = format_time(epoch1.end)\n",
    "    start2 = format_time(epoch2.start)\n",
    "    \n",
    "    name_diff = int(epoch1.name[-6:-4]) - int(epoch2.name[-6:-4])\n",
    "    time_diff = arrow.get(start2, 'HH:mm:ss') - arrow.get(end1, 'HH:mm:ss')\n",
    "    \n",
    "    if name1[3:5] == name2[3:5] and abs(name_diff) == 1 and time_diff.seconds < 300:\n",
    "        return True\n",
    "    \n",
    "    return False"
   ]
  },
  {
   "cell_type": "code",
   "execution_count": 4,
   "metadata": {},
   "outputs": [],
   "source": [
    "class Epoch:\n",
    "    def __init__(self):\n",
    "        self.name = ''\n",
    "        self.start = 0\n",
    "        self.end = 0\n",
    "        self.number_of_seizures = 0\n",
    "        self.seizures_starts = []\n",
    "        self.seizures_ends = []\n",
    "        self.duration = 0\n",
    "        \n",
    "    def __str__(self):\n",
    "        return f\"Epoch:\\nname: {self.name}\\nstart: {self.start}\\nend: {self.end}\\nnumber_of_seizures: {self.number_of_seizures}\\nseizures_starts: {self.seizures_starts}\\nseizures_ends: {self.seizures_ends}\\nduration: {self.duration}\\n\""
   ]
  },
  {
   "cell_type": "code",
   "execution_count": 5,
   "metadata": {},
   "outputs": [],
   "source": [
    "class Seizure:\n",
    "    def __init__(self):\n",
    "        self.needed_epochs = []\n",
    "        self.onset = 0\n",
    "        \n",
    "    def __str__(self):\n",
    "        return f\"needed_epochs: {self.needed_epochs}\\nonset: {self.onset}\\n\""
   ]
  },
  {
   "cell_type": "code",
   "execution_count": 6,
   "metadata": {},
   "outputs": [],
   "source": [
    "epochs = []\n",
    "patient_numbers = [\"01\", \"02\", \"03\", \"04\", \"05\", \"06\", \"07\", \"08\", \"09\", \"10\", \"11\", \"12\", \"13\", \"14\", \"15\", \"16\", \"17\", \"18\", \"19\", \"20\", \"21\", \"22\", \"23\"]"
   ]
  },
  {
   "cell_type": "code",
   "execution_count": 7,
   "metadata": {},
   "outputs": [],
   "source": [
    "for pt_num in patient_numbers:\n",
    "    \n",
    "    with open(f\"/home/npe/Documents/Seizure-Prediction/chb-mit-scalp-eeg-database-1.0.0/chb{pt_num}/chb{pt_num}-summary.txt\", 'r') as f:\n",
    "        summary = f.read()\n",
    "        \n",
    "    summary = summary.split('\\n')\n",
    "    \n",
    "    i = 0\n",
    "    \n",
    "    while True:\n",
    "        if i >= len(summary):\n",
    "            break\n",
    "            \n",
    "        if \"File Name\" in summary[i]:\n",
    "            epochs.append(Epoch())\n",
    "            file_name = summary[i].replace(\"File Name: \", '')\n",
    "            epochs[-1].name = file_name\n",
    "        \n",
    "        if \"File Start Time\" in summary[i]:\n",
    "            start = summary[i].replace(\"File Start Time: \", '')\n",
    "            epochs[-1].start = start\n",
    "            \n",
    "        if \"File End Time\" in summary[i]:\n",
    "            end = summary[i].replace(\"File End Time: \", '')\n",
    "            epochs[-1].end = end\n",
    "            \n",
    "        if \"Number of Seizures in File\" in summary[i]:\n",
    "            number_of_seizures = int(re.search('[0-9]+', summary[i]).group())\n",
    "            epochs[-1].number_of_seizures = number_of_seizures\n",
    "            \n",
    "            for _ in range(number_of_seizures):\n",
    "                seizures_start = int(re.search('[0-9]+', summary[i+1][summary[i+1].index(\":\") + 1:]).group())\n",
    "                epochs[-1].seizures_starts.append(seizures_start)\n",
    "                i += 1\n",
    "                \n",
    "                seizures_end = int(re.search('[0-9]+', summary[i+1][summary[i+1].index(\":\") + 1:]).group())\n",
    "                epochs[-1].seizures_ends.append(seizures_end)\n",
    "                i += 1\n",
    "            \n",
    "            start_time = epochs[-1].start\n",
    "            end_time = epochs[-1].end\n",
    "            \n",
    "            start_time = format_time(start_time)\n",
    "            end_time = format_time(end_time)\n",
    "                        \n",
    "            duration = arrow.get(end_time, 'HH:mm:ss') - arrow.get(start_time, 'HH:mm:ss')\n",
    "            \n",
    "            epochs[-1].duration = duration.seconds\n",
    "                \n",
    "            \n",
    "        i += 1"
   ]
  },
  {
   "cell_type": "code",
   "execution_count": 8,
   "metadata": {},
   "outputs": [],
   "source": [
    "needing_dur = 300 * 60\n",
    "seizures = []"
   ]
  },
  {
   "cell_type": "code",
   "execution_count": 9,
   "metadata": {
    "scrolled": false
   },
   "outputs": [],
   "source": [
    "i = 0\n",
    "number_of_epochs = len(epochs)\n",
    "\n",
    "while i < number_of_epochs:\n",
    "    for count in range(epochs[i].number_of_seizures):\n",
    "        seizure = Seizure()\n",
    "\n",
    "        onset = epochs[i].seizures_starts[count]\n",
    "        seizure.onset = onset\n",
    "        \n",
    "        if count == 0 :\n",
    "            duration = onset\n",
    "            seizure.needed_epochs.append(epochs[i].name)\n",
    "            j = i - 1 \n",
    "            \n",
    "            while duration < needing_dur:\n",
    "                seizure.needed_epochs.append(epochs[j].name)\n",
    "                \n",
    "                if epochs[j].number_of_seizures == 0:\n",
    "                    if is_consecutive(epochs[j], epochs[j+1]):\n",
    "                        duration += epochs[j].duration\n",
    "                    else:\n",
    "                        break\n",
    "                        \n",
    "                else:\n",
    "                    duration += epochs[j].duration - epochs[j].seizures_ends[-1] \n",
    "                    \n",
    "                    if duration < needing_dur:\n",
    "                        break\n",
    "                        \n",
    "                j -= 1\n",
    "                \n",
    "            if duration >= needing_dur:\n",
    "                seizures.append(seizure)\n",
    "            \n",
    "                \n",
    "        else:\n",
    "            seizure.needed_epochs.append(epochs[i].name)\n",
    "            \n",
    "            if epochs[i].seizures_starts[count] - epochs[i].seizures_ends[count-1] >= needing_dur:\n",
    "                seizures.append(seizure)\n",
    "            \n",
    "    \n",
    "    i += 1\n",
    "    "
   ]
  },
  {
   "cell_type": "code",
   "execution_count": 10,
   "metadata": {},
   "outputs": [
    {
     "name": "stdout",
     "output_type": "stream",
     "text": [
      "needed_epochs: ['chb01_15.edf', 'chb01_14.edf', 'chb01_13.edf', 'chb01_12.edf', 'chb01_11.edf', 'chb01_10.edf']\n",
      "onset: 1732\n",
      "\n",
      "needed_epochs: ['chb01_26.edf', 'chb01_25.edf', 'chb01_24.edf', 'chb01_23.edf', 'chb01_22.edf', 'chb01_21.edf']\n",
      "onset: 1862\n",
      "\n",
      "needed_epochs: ['chb04_05.edf', 'chb04_04.edf']\n",
      "onset: 7804\n",
      "\n",
      "needed_epochs: ['chb04_08.edf', 'chb04_07.edf', 'chb04_06.edf']\n",
      "onset: 6446\n",
      "\n",
      "needed_epochs: ['chb05_06.edf', 'chb05_05.edf', 'chb05_04.edf', 'chb05_03.edf', 'chb05_02.edf', 'chb05_01.edf']\n",
      "onset: 417\n",
      "\n",
      "needed_epochs: ['chb05_13.edf', 'chb05_12.edf', 'chb05_11.edf', 'chb05_10.edf', 'chb05_09.edf', 'chb05_08.edf']\n",
      "onset: 1086\n",
      "\n",
      "needed_epochs: ['chb06_04.edf', 'chb06_03.edf', 'chb06_02.edf']\n",
      "onset: 327\n",
      "\n",
      "needed_epochs: ['chb06_09.edf', 'chb06_08.edf']\n",
      "onset: 12500\n",
      "\n",
      "needed_epochs: ['chb06_13.edf', 'chb06_12.edf', 'chb06_10.edf']\n",
      "onset: 506\n",
      "\n",
      "needed_epochs: ['chb06_18.edf', 'chb06_17.edf']\n",
      "onset: 7799\n",
      "\n",
      "needed_epochs: ['chb07_12.edf', 'chb07_11.edf']\n",
      "onset: 4920\n",
      "\n",
      "needed_epochs: ['chb07_19.edf', 'chb07_18.edf']\n",
      "onset: 13688\n",
      "\n",
      "needed_epochs: ['chb08_21.edf', 'chb08_20.edf', 'chb08_19.edf', 'chb08_18.edf', 'chb08_17.edf', 'chb08_16.edf']\n",
      "onset: 2083\n",
      "\n",
      "needed_epochs: ['chb09_06.edf', 'chb09_05.edf']\n",
      "onset: 12231\n",
      "\n",
      "needed_epochs: ['chb09_08.edf', 'chb09_07.edf', 'chb09_06.edf']\n",
      "onset: 2951\n",
      "\n",
      "needed_epochs: ['chb09_19.edf', 'chb09_18.edf']\n",
      "onset: 5299\n",
      "\n",
      "needed_epochs: ['chb10_20.edf', 'chb10_19.edf', 'chb10_18.edf']\n",
      "onset: 6888\n",
      "\n",
      "needed_epochs: ['chb15_06.edf', 'chb15_05.edf', 'chb15_04.edf', 'chb15_03.edf', 'chb15_02.edf', 'chb15_01.edf']\n",
      "onset: 272\n",
      "\n",
      "needed_epochs: ['chb15_15.edf', 'chb15_14.edf', 'chb15_13.edf', 'chb15_12.edf', 'chb15_11.edf', 'chb15_10.edf']\n",
      "onset: 1591\n",
      "\n",
      "needed_epochs: ['chb16_10.edf', 'chb16_09.edf', 'chb16_08.edf', 'chb16_07.edf', 'chb16_06.edf', 'chb16_05.edf']\n",
      "onset: 2290\n",
      "\n",
      "needed_epochs: ['chb18_29.edf', 'chb18_28.edf', 'chb18_27.edf', 'chb18_26.edf', 'chb18_25.edf', 'chb18_24.edf']\n",
      "onset: 3477\n",
      "\n",
      "needed_epochs: ['chb21_19.edf', 'chb21_18.edf', 'chb21_17.edf', 'chb21_16.edf', 'chb21_15.edf', 'chb21_14.edf']\n",
      "onset: 1288\n",
      "\n",
      "needed_epochs: ['chb22_20.edf', 'chb22_19.edf', 'chb22_18.edf', 'chb22_17.edf', 'chb22_16.edf', 'chb22_15.edf']\n",
      "onset: 3367\n",
      "\n"
     ]
    }
   ],
   "source": [
    "for s in seizures:\n",
    "    print(s)"
   ]
  },
  {
   "cell_type": "code",
   "execution_count": 11,
   "metadata": {},
   "outputs": [
    {
     "data": {
      "text/plain": [
       "23"
      ]
     },
     "execution_count": 11,
     "metadata": {},
     "output_type": "execute_result"
    }
   ],
   "source": [
    "len(seizures)"
   ]
  },
  {
   "cell_type": "code",
   "execution_count": 12,
   "metadata": {},
   "outputs": [],
   "source": [
    "with open(\"Seizures Data.pkl\", 'wb') as f:\n",
    "    pickle.dump(seizures, f)"
   ]
  }
 ],
 "metadata": {
  "kernelspec": {
   "display_name": "Python 3",
   "language": "python",
   "name": "python3"
  },
  "language_info": {
   "codemirror_mode": {
    "name": "ipython",
    "version": 3
   },
   "file_extension": ".py",
   "mimetype": "text/x-python",
   "name": "python",
   "nbconvert_exporter": "python",
   "pygments_lexer": "ipython3",
   "version": "3.8.5"
  }
 },
 "nbformat": 4,
 "nbformat_minor": 4
}
